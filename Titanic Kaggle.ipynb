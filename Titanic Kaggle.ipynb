{
 "cells": [
  {
   "cell_type": "markdown",
   "metadata": {},
   "source": [
    "# Content\n",
    "1. ####    [Load and Check Data](#1)\n",
    "1. ####    [Variable Description](#2)\n",
    "   1.  [Univariate Variable Analysis](#2.1)\n",
    "        1.   [Categorical Variable](#2.1.1)\n",
    "        1.   [Numerical Variable](#2.1.2)\n",
    "  \n",
    "1. ####   [Basic Data Analysis](#3)\n",
    "1. ####   [Outlier Detection](#4)\n",
    "1. ####   [Missing Value](#5)\n",
    "   1.  [Find Missing Value](#5.1)\n",
    "   1.  [Fill Missing Value](#5.2)\n",
    "\n",
    "1. #### [Visualization](#6)\n",
    "    1. [Correlation Between Sibsp -- Parch -- Age -- Fare -- Survived](#6.1)\n",
    "    1. [SibSp -- Survived](#6.2)\n",
    "    1. [Parch -- Survived](#6.3)\n",
    "    1. [Pclass -- Survived](#6.4)\n",
    "    1. [Age -- Survived](#6.5)\n",
    "    1. [Pclass -- Survived -- Age](#6.6)\n",
    "    1. [Embarked -- Sex -- Pclass -- Survived](#6.7)\n",
    "    1. [Embarked -- Sex -- Fare -- Survived](#6.8)\n",
    "    1. [Fill Missing: Age Feature](#6.9)\n",
    "1. #### [Feature Engineering](#7)\n",
    "    1. [Name to title](#7.1)\n",
    "    1. [SipSb,Parch to Family Size](#7.2)\n",
    "    1. [Embarked](#7.3)\n",
    "    1. [Ticket](#7.4)\n",
    "    1. [Pclass](#7.5)\n",
    "    1. [Sex](#7.6)\n",
    "    1. [Drop Passenger ID and Cabin](#7.7)\n",
    "1. #### [Modeling](#8)\n",
    "    1. [Train - Test Split](#8.1)\n",
    "    1. [Simple Logistic Regression](#8.2)\n",
    "    1. [Hyperparameter Tuning -- Grid Search -- Cross Validation](#8.3)\n",
    "    1. [Ensemble Modeling](#8.4)\n",
    "    1. [Prediction and Submission](#8.5)"
   ]
  },
  {
   "cell_type": "code",
   "execution_count": 1,
   "metadata": {},
   "outputs": [],
   "source": [
    "#Libraries\n",
    "import pandas as pd\n",
    "\n",
    "import numpy as np\n",
    "\n",
    "import matplotlib.pyplot as plt\n",
    "plt.style.use(\"bmh\")\n",
    "from collections import Counter\n",
    "\n",
    "import seaborn as sns\n",
    "\n",
    "import warnings\n",
    "warnings.filterwarnings(\"ignore\")"
   ]
  },
  {
   "cell_type": "markdown",
   "metadata": {},
   "source": [
    "<a id=1></a>\n",
    "# 1) Load and Check Data"
   ]
  },
  {
   "cell_type": "code",
   "execution_count": 2,
   "metadata": {},
   "outputs": [],
   "source": [
    "train_df=pd.read_csv(\"train.csv\")\n",
    "test_df=pd.read_csv(\"test.csv\")\n",
    "test_PassengerId = test_df[\"PassengerId\"]"
   ]
  },
  {
   "cell_type": "code",
   "execution_count": 3,
   "metadata": {},
   "outputs": [
    {
     "data": {
      "text/plain": [
       "Index(['PassengerId', 'Survived', 'Pclass', 'Name', 'Sex', 'Age', 'SibSp',\n",
       "       'Parch', 'Ticket', 'Fare', 'Cabin', 'Embarked'],\n",
       "      dtype='object')"
      ]
     },
     "execution_count": 3,
     "metadata": {},
     "output_type": "execute_result"
    }
   ],
   "source": [
    "train_df.columns"
   ]
  },
  {
   "cell_type": "code",
   "execution_count": 4,
   "metadata": {},
   "outputs": [
    {
     "data": {
      "text/html": [
       "<div>\n",
       "<style scoped>\n",
       "    .dataframe tbody tr th:only-of-type {\n",
       "        vertical-align: middle;\n",
       "    }\n",
       "\n",
       "    .dataframe tbody tr th {\n",
       "        vertical-align: top;\n",
       "    }\n",
       "\n",
       "    .dataframe thead th {\n",
       "        text-align: right;\n",
       "    }\n",
       "</style>\n",
       "<table border=\"1\" class=\"dataframe\">\n",
       "  <thead>\n",
       "    <tr style=\"text-align: right;\">\n",
       "      <th></th>\n",
       "      <th>PassengerId</th>\n",
       "      <th>Survived</th>\n",
       "      <th>Pclass</th>\n",
       "      <th>Name</th>\n",
       "      <th>Sex</th>\n",
       "      <th>Age</th>\n",
       "      <th>SibSp</th>\n",
       "      <th>Parch</th>\n",
       "      <th>Ticket</th>\n",
       "      <th>Fare</th>\n",
       "      <th>Cabin</th>\n",
       "      <th>Embarked</th>\n",
       "    </tr>\n",
       "  </thead>\n",
       "  <tbody>\n",
       "    <tr>\n",
       "      <td>0</td>\n",
       "      <td>1</td>\n",
       "      <td>0</td>\n",
       "      <td>3</td>\n",
       "      <td>Braund, Mr. Owen Harris</td>\n",
       "      <td>male</td>\n",
       "      <td>22.0</td>\n",
       "      <td>1</td>\n",
       "      <td>0</td>\n",
       "      <td>A/5 21171</td>\n",
       "      <td>7.2500</td>\n",
       "      <td>NaN</td>\n",
       "      <td>S</td>\n",
       "    </tr>\n",
       "    <tr>\n",
       "      <td>1</td>\n",
       "      <td>2</td>\n",
       "      <td>1</td>\n",
       "      <td>1</td>\n",
       "      <td>Cumings, Mrs. John Bradley (Florence Briggs Th...</td>\n",
       "      <td>female</td>\n",
       "      <td>38.0</td>\n",
       "      <td>1</td>\n",
       "      <td>0</td>\n",
       "      <td>PC 17599</td>\n",
       "      <td>71.2833</td>\n",
       "      <td>C85</td>\n",
       "      <td>C</td>\n",
       "    </tr>\n",
       "    <tr>\n",
       "      <td>2</td>\n",
       "      <td>3</td>\n",
       "      <td>1</td>\n",
       "      <td>3</td>\n",
       "      <td>Heikkinen, Miss. Laina</td>\n",
       "      <td>female</td>\n",
       "      <td>26.0</td>\n",
       "      <td>0</td>\n",
       "      <td>0</td>\n",
       "      <td>STON/O2. 3101282</td>\n",
       "      <td>7.9250</td>\n",
       "      <td>NaN</td>\n",
       "      <td>S</td>\n",
       "    </tr>\n",
       "    <tr>\n",
       "      <td>3</td>\n",
       "      <td>4</td>\n",
       "      <td>1</td>\n",
       "      <td>1</td>\n",
       "      <td>Futrelle, Mrs. Jacques Heath (Lily May Peel)</td>\n",
       "      <td>female</td>\n",
       "      <td>35.0</td>\n",
       "      <td>1</td>\n",
       "      <td>0</td>\n",
       "      <td>113803</td>\n",
       "      <td>53.1000</td>\n",
       "      <td>C123</td>\n",
       "      <td>S</td>\n",
       "    </tr>\n",
       "    <tr>\n",
       "      <td>4</td>\n",
       "      <td>5</td>\n",
       "      <td>0</td>\n",
       "      <td>3</td>\n",
       "      <td>Allen, Mr. William Henry</td>\n",
       "      <td>male</td>\n",
       "      <td>35.0</td>\n",
       "      <td>0</td>\n",
       "      <td>0</td>\n",
       "      <td>373450</td>\n",
       "      <td>8.0500</td>\n",
       "      <td>NaN</td>\n",
       "      <td>S</td>\n",
       "    </tr>\n",
       "  </tbody>\n",
       "</table>\n",
       "</div>"
      ],
      "text/plain": [
       "   PassengerId  Survived  Pclass  \\\n",
       "0            1         0       3   \n",
       "1            2         1       1   \n",
       "2            3         1       3   \n",
       "3            4         1       1   \n",
       "4            5         0       3   \n",
       "\n",
       "                                                Name     Sex   Age  SibSp  \\\n",
       "0                            Braund, Mr. Owen Harris    male  22.0      1   \n",
       "1  Cumings, Mrs. John Bradley (Florence Briggs Th...  female  38.0      1   \n",
       "2                             Heikkinen, Miss. Laina  female  26.0      0   \n",
       "3       Futrelle, Mrs. Jacques Heath (Lily May Peel)  female  35.0      1   \n",
       "4                           Allen, Mr. William Henry    male  35.0      0   \n",
       "\n",
       "   Parch            Ticket     Fare Cabin Embarked  \n",
       "0      0         A/5 21171   7.2500   NaN        S  \n",
       "1      0          PC 17599  71.2833   C85        C  \n",
       "2      0  STON/O2. 3101282   7.9250   NaN        S  \n",
       "3      0            113803  53.1000  C123        S  \n",
       "4      0            373450   8.0500   NaN        S  "
      ]
     },
     "execution_count": 4,
     "metadata": {},
     "output_type": "execute_result"
    }
   ],
   "source": [
    "train_df.head()"
   ]
  },
  {
   "cell_type": "code",
   "execution_count": 5,
   "metadata": {
    "scrolled": true
   },
   "outputs": [
    {
     "data": {
      "text/html": [
       "<div>\n",
       "<style scoped>\n",
       "    .dataframe tbody tr th:only-of-type {\n",
       "        vertical-align: middle;\n",
       "    }\n",
       "\n",
       "    .dataframe tbody tr th {\n",
       "        vertical-align: top;\n",
       "    }\n",
       "\n",
       "    .dataframe thead th {\n",
       "        text-align: right;\n",
       "    }\n",
       "</style>\n",
       "<table border=\"1\" class=\"dataframe\">\n",
       "  <thead>\n",
       "    <tr style=\"text-align: right;\">\n",
       "      <th></th>\n",
       "      <th>PassengerId</th>\n",
       "      <th>Survived</th>\n",
       "      <th>Pclass</th>\n",
       "      <th>Age</th>\n",
       "      <th>SibSp</th>\n",
       "      <th>Parch</th>\n",
       "      <th>Fare</th>\n",
       "    </tr>\n",
       "  </thead>\n",
       "  <tbody>\n",
       "    <tr>\n",
       "      <td>count</td>\n",
       "      <td>891.000000</td>\n",
       "      <td>891.000000</td>\n",
       "      <td>891.000000</td>\n",
       "      <td>714.000000</td>\n",
       "      <td>891.000000</td>\n",
       "      <td>891.000000</td>\n",
       "      <td>891.000000</td>\n",
       "    </tr>\n",
       "    <tr>\n",
       "      <td>mean</td>\n",
       "      <td>446.000000</td>\n",
       "      <td>0.383838</td>\n",
       "      <td>2.308642</td>\n",
       "      <td>29.699118</td>\n",
       "      <td>0.523008</td>\n",
       "      <td>0.381594</td>\n",
       "      <td>32.204208</td>\n",
       "    </tr>\n",
       "    <tr>\n",
       "      <td>std</td>\n",
       "      <td>257.353842</td>\n",
       "      <td>0.486592</td>\n",
       "      <td>0.836071</td>\n",
       "      <td>14.526497</td>\n",
       "      <td>1.102743</td>\n",
       "      <td>0.806057</td>\n",
       "      <td>49.693429</td>\n",
       "    </tr>\n",
       "    <tr>\n",
       "      <td>min</td>\n",
       "      <td>1.000000</td>\n",
       "      <td>0.000000</td>\n",
       "      <td>1.000000</td>\n",
       "      <td>0.420000</td>\n",
       "      <td>0.000000</td>\n",
       "      <td>0.000000</td>\n",
       "      <td>0.000000</td>\n",
       "    </tr>\n",
       "    <tr>\n",
       "      <td>25%</td>\n",
       "      <td>223.500000</td>\n",
       "      <td>0.000000</td>\n",
       "      <td>2.000000</td>\n",
       "      <td>20.125000</td>\n",
       "      <td>0.000000</td>\n",
       "      <td>0.000000</td>\n",
       "      <td>7.910400</td>\n",
       "    </tr>\n",
       "    <tr>\n",
       "      <td>50%</td>\n",
       "      <td>446.000000</td>\n",
       "      <td>0.000000</td>\n",
       "      <td>3.000000</td>\n",
       "      <td>28.000000</td>\n",
       "      <td>0.000000</td>\n",
       "      <td>0.000000</td>\n",
       "      <td>14.454200</td>\n",
       "    </tr>\n",
       "    <tr>\n",
       "      <td>75%</td>\n",
       "      <td>668.500000</td>\n",
       "      <td>1.000000</td>\n",
       "      <td>3.000000</td>\n",
       "      <td>38.000000</td>\n",
       "      <td>1.000000</td>\n",
       "      <td>0.000000</td>\n",
       "      <td>31.000000</td>\n",
       "    </tr>\n",
       "    <tr>\n",
       "      <td>max</td>\n",
       "      <td>891.000000</td>\n",
       "      <td>1.000000</td>\n",
       "      <td>3.000000</td>\n",
       "      <td>80.000000</td>\n",
       "      <td>8.000000</td>\n",
       "      <td>6.000000</td>\n",
       "      <td>512.329200</td>\n",
       "    </tr>\n",
       "  </tbody>\n",
       "</table>\n",
       "</div>"
      ],
      "text/plain": [
       "       PassengerId    Survived      Pclass         Age       SibSp  \\\n",
       "count   891.000000  891.000000  891.000000  714.000000  891.000000   \n",
       "mean    446.000000    0.383838    2.308642   29.699118    0.523008   \n",
       "std     257.353842    0.486592    0.836071   14.526497    1.102743   \n",
       "min       1.000000    0.000000    1.000000    0.420000    0.000000   \n",
       "25%     223.500000    0.000000    2.000000   20.125000    0.000000   \n",
       "50%     446.000000    0.000000    3.000000   28.000000    0.000000   \n",
       "75%     668.500000    1.000000    3.000000   38.000000    1.000000   \n",
       "max     891.000000    1.000000    3.000000   80.000000    8.000000   \n",
       "\n",
       "            Parch        Fare  \n",
       "count  891.000000  891.000000  \n",
       "mean     0.381594   32.204208  \n",
       "std      0.806057   49.693429  \n",
       "min      0.000000    0.000000  \n",
       "25%      0.000000    7.910400  \n",
       "50%      0.000000   14.454200  \n",
       "75%      0.000000   31.000000  \n",
       "max      6.000000  512.329200  "
      ]
     },
     "execution_count": 5,
     "metadata": {},
     "output_type": "execute_result"
    }
   ],
   "source": [
    "train_df.describe()"
   ]
  },
  {
   "cell_type": "markdown",
   "metadata": {},
   "source": [
    "<a id=2></a>\n",
    "# 2) Variable Description <br>\n",
    "      \n",
    "\n",
    "1. PassengerId: unique id number to each passenger\n",
    "1. Survived: passenger survive(1) or died(0)\n",
    "1. Pclass: passenger class\n",
    "1. Name: name\n",
    "1. Sex: gender of passenger\n",
    "1. Age: age of passenger\n",
    "1. SibSp: number of siblings/spouses\n",
    "1. Parch: number of parents/children\n",
    "1. Ticket: ticket number\n",
    "1. Fare: amount of money spent on ticket\n",
    "1. Cabin: cabin category\n",
    "1. Embarked: port where passenger embarked (C = Cherbourg, Q = Queenstown, S = Southampton)\n"
   ]
  },
  {
   "cell_type": "code",
   "execution_count": 6,
   "metadata": {},
   "outputs": [
    {
     "name": "stdout",
     "output_type": "stream",
     "text": [
      "<class 'pandas.core.frame.DataFrame'>\n",
      "RangeIndex: 891 entries, 0 to 890\n",
      "Data columns (total 12 columns):\n",
      "PassengerId    891 non-null int64\n",
      "Survived       891 non-null int64\n",
      "Pclass         891 non-null int64\n",
      "Name           891 non-null object\n",
      "Sex            891 non-null object\n",
      "Age            714 non-null float64\n",
      "SibSp          891 non-null int64\n",
      "Parch          891 non-null int64\n",
      "Ticket         891 non-null object\n",
      "Fare           891 non-null float64\n",
      "Cabin          204 non-null object\n",
      "Embarked       889 non-null object\n",
      "dtypes: float64(2), int64(5), object(5)\n",
      "memory usage: 83.7+ KB\n"
     ]
    }
   ],
   "source": [
    "train_df.info()"
   ]
  },
  {
   "cell_type": "markdown",
   "metadata": {},
   "source": [
    "* float64(2): Age, Fare\n",
    "* int64(5): PassengerId, Survived, Pclass, SibSp, Parch\n",
    "* object(5): Name, Sex, Cain, Embarked, Ticket"
   ]
  },
  {
   "cell_type": "markdown",
   "metadata": {},
   "source": [
    "<a id=2.1></a>\n",
    "# A) Univariate Variable Analysis"
   ]
  },
  {
   "cell_type": "markdown",
   "metadata": {},
   "source": [
    "* Categorical Variable: Survived, Sex, Pclass, Embarked, Cabin, Name, Ticket, Sibsp and Parch\n",
    "* Numerical Variable: Fare, Age and PassengerId"
   ]
  },
  {
   "cell_type": "markdown",
   "metadata": {},
   "source": [
    "<a id=2.1.1> </a>\n",
    "### a) Categorical Variable"
   ]
  },
  {
   "cell_type": "code",
   "execution_count": 7,
   "metadata": {},
   "outputs": [],
   "source": [
    "def bar_plot(variable):\n",
    "    var = train_df[variable]\n",
    "    varValue = var.value_counts()\n",
    "    \n",
    "    plt.figure(figsize = (9,3))\n",
    "    plt.bar(varValue.index,varValue)\n",
    "    plt.xticks(varValue.index, varValue.index.values) # aralık berlirleme\n",
    "    plt.ylabel(\"Frequency\")\n",
    "    plt.title(variable)\n",
    "    plt.show()\n",
    "    print(\"{}:\\n{}\".format(variable,varValue))\n",
    "    "
   ]
  },
  {
   "cell_type": "code",
   "execution_count": 8,
   "metadata": {},
   "outputs": [
    {
     "data": {
      "image/png": "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\n",
      "text/plain": [
       "<Figure size 648x216 with 1 Axes>"
      ]
     },
     "metadata": {
      "needs_background": "light"
     },
     "output_type": "display_data"
    },
    {
     "name": "stdout",
     "output_type": "stream",
     "text": [
      "Survived:\n",
      "0    549\n",
      "1    342\n",
      "Name: Survived, dtype: int64\n"
     ]
    },
    {
     "data": {
      "image/png": "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\n",
      "text/plain": [
       "<Figure size 648x216 with 1 Axes>"
      ]
     },
     "metadata": {
      "needs_background": "light"
     },
     "output_type": "display_data"
    },
    {
     "name": "stdout",
     "output_type": "stream",
     "text": [
      "Sex:\n",
      "male      577\n",
      "female    314\n",
      "Name: Sex, dtype: int64\n"
     ]
    },
    {
     "data": {
      "image/png": "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\n",
      "text/plain": [
       "<Figure size 648x216 with 1 Axes>"
      ]
     },
     "metadata": {
      "needs_background": "light"
     },
     "output_type": "display_data"
    },
    {
     "name": "stdout",
     "output_type": "stream",
     "text": [
      "Pclass:\n",
      "3    491\n",
      "1    216\n",
      "2    184\n",
      "Name: Pclass, dtype: int64\n"
     ]
    },
    {
     "data": {
      "image/png": "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\n",
      "text/plain": [
       "<Figure size 648x216 with 1 Axes>"
      ]
     },
     "metadata": {
      "needs_background": "light"
     },
     "output_type": "display_data"
    },
    {
     "name": "stdout",
     "output_type": "stream",
     "text": [
      "Embarked:\n",
      "S    644\n",
      "C    168\n",
      "Q     77\n",
      "Name: Embarked, dtype: int64\n"
     ]
    },
    {
     "data": {
      "image/png": "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\n",
      "text/plain": [
       "<Figure size 648x216 with 1 Axes>"
      ]
     },
     "metadata": {
      "needs_background": "light"
     },
     "output_type": "display_data"
    },
    {
     "name": "stdout",
     "output_type": "stream",
     "text": [
      "SibSp:\n",
      "0    608\n",
      "1    209\n",
      "2     28\n",
      "4     18\n",
      "3     16\n",
      "8      7\n",
      "5      5\n",
      "Name: SibSp, dtype: int64\n"
     ]
    },
    {
     "data": {
      "image/png": "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\n",
      "text/plain": [
       "<Figure size 648x216 with 1 Axes>"
      ]
     },
     "metadata": {
      "needs_background": "light"
     },
     "output_type": "display_data"
    },
    {
     "name": "stdout",
     "output_type": "stream",
     "text": [
      "Parch:\n",
      "0    678\n",
      "1    118\n",
      "2     80\n",
      "5      5\n",
      "3      5\n",
      "4      4\n",
      "6      1\n",
      "Name: Parch, dtype: int64\n"
     ]
    }
   ],
   "source": [
    "category1=[\"Survived\",\"Sex\",\"Pclass\",\"Embarked\",\"SibSp\", \"Parch\"]\n",
    "for i in category1:\n",
    "    bar_plot(i)"
   ]
  },
  {
   "cell_type": "markdown",
   "metadata": {},
   "source": [
    "<a id=2.1.2> </a>\n",
    "###  b) Numerical Variable"
   ]
  },
  {
   "cell_type": "code",
   "execution_count": 9,
   "metadata": {},
   "outputs": [],
   "source": [
    "def plot_hist(variable):\n",
    "    plt.figure(figsize=(9,3))\n",
    "    plt.hist(train_df[variable],bins=50)\n",
    "    plt.xlabel(variable)\n",
    "    plt.ylabel(\"Frequency\")\n",
    "    plt.title(\"{} distribution withhist\".format(variable))\n",
    "    plt.show()"
   ]
  },
  {
   "cell_type": "code",
   "execution_count": 10,
   "metadata": {},
   "outputs": [
    {
     "data": {
      "image/png": "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\n",
      "text/plain": [
       "<Figure size 648x216 with 1 Axes>"
      ]
     },
     "metadata": {
      "needs_background": "light"
     },
     "output_type": "display_data"
    },
    {
     "data": {
      "image/png": "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\n",
      "text/plain": [
       "<Figure size 648x216 with 1 Axes>"
      ]
     },
     "metadata": {
      "needs_background": "light"
     },
     "output_type": "display_data"
    },
    {
     "data": {
      "image/png": "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\n",
      "text/plain": [
       "<Figure size 648x216 with 1 Axes>"
      ]
     },
     "metadata": {
      "needs_background": "light"
     },
     "output_type": "display_data"
    }
   ],
   "source": [
    "numericVar = [\"Fare\",\"Age\",\"PassengerId\"]\n",
    "for i in numericVar:\n",
    "    plot_hist(i)"
   ]
  },
  {
   "cell_type": "markdown",
   "metadata": {},
   "source": [
    "<a id=3> </a>\n",
    "# 3) Basic Data Analysis\n",
    "\n",
    "  *  Pclass - Survived\n",
    "  *  Sex - Survived\n",
    "  *  SibSp - Survived\n",
    "  *  Parch - Survived\n",
    "  *  First class and women's - Survived\n",
    "  *  Groupby(Pclass and Sex) -- Survived"
   ]
  },
  {
   "cell_type": "code",
   "execution_count": 11,
   "metadata": {},
   "outputs": [
    {
     "data": {
      "text/html": [
       "<div>\n",
       "<style scoped>\n",
       "    .dataframe tbody tr th:only-of-type {\n",
       "        vertical-align: middle;\n",
       "    }\n",
       "\n",
       "    .dataframe tbody tr th {\n",
       "        vertical-align: top;\n",
       "    }\n",
       "\n",
       "    .dataframe thead th {\n",
       "        text-align: right;\n",
       "    }\n",
       "</style>\n",
       "<table border=\"1\" class=\"dataframe\">\n",
       "  <thead>\n",
       "    <tr style=\"text-align: right;\">\n",
       "      <th></th>\n",
       "      <th>Pclass</th>\n",
       "      <th>Survived</th>\n",
       "    </tr>\n",
       "  </thead>\n",
       "  <tbody>\n",
       "    <tr>\n",
       "      <td>0</td>\n",
       "      <td>1</td>\n",
       "      <td>0.629630</td>\n",
       "    </tr>\n",
       "    <tr>\n",
       "      <td>1</td>\n",
       "      <td>2</td>\n",
       "      <td>0.472826</td>\n",
       "    </tr>\n",
       "    <tr>\n",
       "      <td>2</td>\n",
       "      <td>3</td>\n",
       "      <td>0.242363</td>\n",
       "    </tr>\n",
       "  </tbody>\n",
       "</table>\n",
       "</div>"
      ],
      "text/plain": [
       "   Pclass  Survived\n",
       "0       1  0.629630\n",
       "1       2  0.472826\n",
       "2       3  0.242363"
      ]
     },
     "execution_count": 11,
     "metadata": {},
     "output_type": "execute_result"
    }
   ],
   "source": [
    "# Pclass - Survived\n",
    "train_df[[\"Pclass\",\"Survived\"]].groupby([\"Pclass\"],as_index=False).mean().sort_values(by=\"Survived\",ascending = False)"
   ]
  },
  {
   "cell_type": "code",
   "execution_count": 12,
   "metadata": {},
   "outputs": [
    {
     "data": {
      "text/html": [
       "<div>\n",
       "<style scoped>\n",
       "    .dataframe tbody tr th:only-of-type {\n",
       "        vertical-align: middle;\n",
       "    }\n",
       "\n",
       "    .dataframe tbody tr th {\n",
       "        vertical-align: top;\n",
       "    }\n",
       "\n",
       "    .dataframe thead th {\n",
       "        text-align: right;\n",
       "    }\n",
       "</style>\n",
       "<table border=\"1\" class=\"dataframe\">\n",
       "  <thead>\n",
       "    <tr style=\"text-align: right;\">\n",
       "      <th></th>\n",
       "      <th>Sex</th>\n",
       "      <th>Survived</th>\n",
       "    </tr>\n",
       "  </thead>\n",
       "  <tbody>\n",
       "    <tr>\n",
       "      <td>0</td>\n",
       "      <td>female</td>\n",
       "      <td>0.742038</td>\n",
       "    </tr>\n",
       "    <tr>\n",
       "      <td>1</td>\n",
       "      <td>male</td>\n",
       "      <td>0.188908</td>\n",
       "    </tr>\n",
       "  </tbody>\n",
       "</table>\n",
       "</div>"
      ],
      "text/plain": [
       "      Sex  Survived\n",
       "0  female  0.742038\n",
       "1    male  0.188908"
      ]
     },
     "execution_count": 12,
     "metadata": {},
     "output_type": "execute_result"
    }
   ],
   "source": [
    "#Sex - Survived\n",
    "\n",
    "train_df[[\"Sex\",\"Survived\"]].groupby([\"Sex\"],as_index=False).mean().sort_values(by=\"Survived\",ascending=False)"
   ]
  },
  {
   "cell_type": "code",
   "execution_count": 13,
   "metadata": {},
   "outputs": [
    {
     "data": {
      "text/html": [
       "<div>\n",
       "<style scoped>\n",
       "    .dataframe tbody tr th:only-of-type {\n",
       "        vertical-align: middle;\n",
       "    }\n",
       "\n",
       "    .dataframe tbody tr th {\n",
       "        vertical-align: top;\n",
       "    }\n",
       "\n",
       "    .dataframe thead th {\n",
       "        text-align: right;\n",
       "    }\n",
       "</style>\n",
       "<table border=\"1\" class=\"dataframe\">\n",
       "  <thead>\n",
       "    <tr style=\"text-align: right;\">\n",
       "      <th></th>\n",
       "      <th>SibSp</th>\n",
       "      <th>Survived</th>\n",
       "    </tr>\n",
       "  </thead>\n",
       "  <tbody>\n",
       "    <tr>\n",
       "      <td>1</td>\n",
       "      <td>1</td>\n",
       "      <td>0.535885</td>\n",
       "    </tr>\n",
       "    <tr>\n",
       "      <td>2</td>\n",
       "      <td>2</td>\n",
       "      <td>0.464286</td>\n",
       "    </tr>\n",
       "    <tr>\n",
       "      <td>0</td>\n",
       "      <td>0</td>\n",
       "      <td>0.345395</td>\n",
       "    </tr>\n",
       "    <tr>\n",
       "      <td>3</td>\n",
       "      <td>3</td>\n",
       "      <td>0.250000</td>\n",
       "    </tr>\n",
       "    <tr>\n",
       "      <td>4</td>\n",
       "      <td>4</td>\n",
       "      <td>0.166667</td>\n",
       "    </tr>\n",
       "    <tr>\n",
       "      <td>5</td>\n",
       "      <td>5</td>\n",
       "      <td>0.000000</td>\n",
       "    </tr>\n",
       "    <tr>\n",
       "      <td>6</td>\n",
       "      <td>8</td>\n",
       "      <td>0.000000</td>\n",
       "    </tr>\n",
       "  </tbody>\n",
       "</table>\n",
       "</div>"
      ],
      "text/plain": [
       "   SibSp  Survived\n",
       "1      1  0.535885\n",
       "2      2  0.464286\n",
       "0      0  0.345395\n",
       "3      3  0.250000\n",
       "4      4  0.166667\n",
       "5      5  0.000000\n",
       "6      8  0.000000"
      ]
     },
     "execution_count": 13,
     "metadata": {},
     "output_type": "execute_result"
    }
   ],
   "source": [
    "#SibSp - Survived\n",
    "\n",
    "train_df[[\"SibSp\",\"Survived\"]].groupby([\"SibSp\"],as_index=False).mean().sort_values(by=\"Survived\",ascending=False)"
   ]
  },
  {
   "cell_type": "code",
   "execution_count": 14,
   "metadata": {},
   "outputs": [
    {
     "data": {
      "text/html": [
       "<div>\n",
       "<style scoped>\n",
       "    .dataframe tbody tr th:only-of-type {\n",
       "        vertical-align: middle;\n",
       "    }\n",
       "\n",
       "    .dataframe tbody tr th {\n",
       "        vertical-align: top;\n",
       "    }\n",
       "\n",
       "    .dataframe thead th {\n",
       "        text-align: right;\n",
       "    }\n",
       "</style>\n",
       "<table border=\"1\" class=\"dataframe\">\n",
       "  <thead>\n",
       "    <tr style=\"text-align: right;\">\n",
       "      <th></th>\n",
       "      <th>Parch</th>\n",
       "      <th>Survived</th>\n",
       "    </tr>\n",
       "  </thead>\n",
       "  <tbody>\n",
       "    <tr>\n",
       "      <td>3</td>\n",
       "      <td>3</td>\n",
       "      <td>0.600000</td>\n",
       "    </tr>\n",
       "    <tr>\n",
       "      <td>1</td>\n",
       "      <td>1</td>\n",
       "      <td>0.550847</td>\n",
       "    </tr>\n",
       "    <tr>\n",
       "      <td>2</td>\n",
       "      <td>2</td>\n",
       "      <td>0.500000</td>\n",
       "    </tr>\n",
       "    <tr>\n",
       "      <td>0</td>\n",
       "      <td>0</td>\n",
       "      <td>0.343658</td>\n",
       "    </tr>\n",
       "    <tr>\n",
       "      <td>5</td>\n",
       "      <td>5</td>\n",
       "      <td>0.200000</td>\n",
       "    </tr>\n",
       "    <tr>\n",
       "      <td>4</td>\n",
       "      <td>4</td>\n",
       "      <td>0.000000</td>\n",
       "    </tr>\n",
       "    <tr>\n",
       "      <td>6</td>\n",
       "      <td>6</td>\n",
       "      <td>0.000000</td>\n",
       "    </tr>\n",
       "  </tbody>\n",
       "</table>\n",
       "</div>"
      ],
      "text/plain": [
       "   Parch  Survived\n",
       "3      3  0.600000\n",
       "1      1  0.550847\n",
       "2      2  0.500000\n",
       "0      0  0.343658\n",
       "5      5  0.200000\n",
       "4      4  0.000000\n",
       "6      6  0.000000"
      ]
     },
     "execution_count": 14,
     "metadata": {},
     "output_type": "execute_result"
    }
   ],
   "source": [
    "#Parch - Survived\n",
    "\n",
    "train_df[[\"Parch\",\"Survived\"]].groupby([\"Parch\"],as_index=False).mean().sort_values(by=\"Survived\",ascending=False)"
   ]
  },
  {
   "cell_type": "code",
   "execution_count": 15,
   "metadata": {},
   "outputs": [
    {
     "data": {
      "text/html": [
       "<div>\n",
       "<style scoped>\n",
       "    .dataframe tbody tr th:only-of-type {\n",
       "        vertical-align: middle;\n",
       "    }\n",
       "\n",
       "    .dataframe tbody tr th {\n",
       "        vertical-align: top;\n",
       "    }\n",
       "\n",
       "    .dataframe thead th {\n",
       "        text-align: right;\n",
       "    }\n",
       "</style>\n",
       "<table border=\"1\" class=\"dataframe\">\n",
       "  <thead>\n",
       "    <tr style=\"text-align: right;\">\n",
       "      <th></th>\n",
       "      <th>Pclass</th>\n",
       "      <th>Survived</th>\n",
       "    </tr>\n",
       "  </thead>\n",
       "  <tbody>\n",
       "    <tr>\n",
       "      <td>0</td>\n",
       "      <td>1</td>\n",
       "      <td>0.968085</td>\n",
       "    </tr>\n",
       "  </tbody>\n",
       "</table>\n",
       "</div>"
      ],
      "text/plain": [
       "   Pclass  Survived\n",
       "0       1  0.968085"
      ]
     },
     "execution_count": 15,
     "metadata": {},
     "output_type": "execute_result"
    }
   ],
   "source": [
    "#First class and women's - Survived\n",
    "\n",
    "df_filtered = train_df.loc[(train_df['Pclass'] == 1) & (train_df['Sex'] == \"female\")]\n",
    "df_filtered[[\"Pclass\",\"Sex\",\"Survived\"]].groupby([\"Pclass\"],as_index=False).mean().sort_values(by=\"Survived\",ascending=False)"
   ]
  },
  {
   "cell_type": "code",
   "execution_count": 16,
   "metadata": {},
   "outputs": [
    {
     "data": {
      "text/html": [
       "<div>\n",
       "<style scoped>\n",
       "    .dataframe tbody tr th:only-of-type {\n",
       "        vertical-align: middle;\n",
       "    }\n",
       "\n",
       "    .dataframe tbody tr th {\n",
       "        vertical-align: top;\n",
       "    }\n",
       "\n",
       "    .dataframe thead th {\n",
       "        text-align: right;\n",
       "    }\n",
       "</style>\n",
       "<table border=\"1\" class=\"dataframe\">\n",
       "  <thead>\n",
       "    <tr style=\"text-align: right;\">\n",
       "      <th></th>\n",
       "      <th></th>\n",
       "      <th>Survived</th>\n",
       "    </tr>\n",
       "    <tr>\n",
       "      <th>Sex</th>\n",
       "      <th>Pclass</th>\n",
       "      <th></th>\n",
       "    </tr>\n",
       "  </thead>\n",
       "  <tbody>\n",
       "    <tr>\n",
       "      <td rowspan=\"3\" valign=\"top\">female</td>\n",
       "      <td>1</td>\n",
       "      <td>0.968085</td>\n",
       "    </tr>\n",
       "    <tr>\n",
       "      <td>2</td>\n",
       "      <td>0.921053</td>\n",
       "    </tr>\n",
       "    <tr>\n",
       "      <td>3</td>\n",
       "      <td>0.500000</td>\n",
       "    </tr>\n",
       "    <tr>\n",
       "      <td rowspan=\"3\" valign=\"top\">male</td>\n",
       "      <td>1</td>\n",
       "      <td>0.368852</td>\n",
       "    </tr>\n",
       "    <tr>\n",
       "      <td>2</td>\n",
       "      <td>0.157407</td>\n",
       "    </tr>\n",
       "    <tr>\n",
       "      <td>3</td>\n",
       "      <td>0.135447</td>\n",
       "    </tr>\n",
       "  </tbody>\n",
       "</table>\n",
       "</div>"
      ],
      "text/plain": [
       "               Survived\n",
       "Sex    Pclass          \n",
       "female 1       0.968085\n",
       "       2       0.921053\n",
       "       3       0.500000\n",
       "male   1       0.368852\n",
       "       2       0.157407\n",
       "       3       0.135447"
      ]
     },
     "execution_count": 16,
     "metadata": {},
     "output_type": "execute_result"
    }
   ],
   "source": [
    "#Groupby(Pclass and Sex) -- Survived\n",
    "train_df[[\"Pclass\",\"Sex\",\"Survived\"]].groupby([\"Sex\",\"Pclass\"]).mean().sort_values(by=\"Survived\",ascending=False)"
   ]
  },
  {
   "cell_type": "markdown",
   "metadata": {},
   "source": [
    "<a id=4> </a>\n",
    "# 4) Outlier Analysis \n",
    "* Delete datas that break your dataset\n",
    "* Quartile analysis(Q1, Q2, Q3)\n",
    "* TR(Veri kümesini bozan uçuk kaçık verilerin silinmesi)"
   ]
  },
  {
   "cell_type": "code",
   "execution_count": 17,
   "metadata": {},
   "outputs": [],
   "source": [
    "def detect_outliers(df,features):\n",
    "    outlier_indices = []\n",
    "    \n",
    "    for c in features:\n",
    "        # 1st quartile\n",
    "        Q1 = np.percentile(df[c],25)\n",
    "        # 3rd quartile\n",
    "        Q3 = np.percentile(df[c],75)\n",
    "        # IQR\n",
    "        IQR =  Q3 - Q1\n",
    "        # Outlier step\n",
    "        outlier_step= IQR * 1.5\n",
    "        # Detect outlier and their indeces\n",
    "        outlier_list_col = df[(df[c] < Q1 - outlier_step) | (df[c] > Q3 + outlier_step)].index\n",
    "        # Store indeces\n",
    "        outlier_indices.extend(outlier_list_col)\n",
    "        \n",
    "    outlier_indices = Counter(outlier_indices)\n",
    "    multiple_outliers = list(i for i,v in outlier_indices.items() if v >2)\n",
    "        \n",
    "    return multiple_outliers\n"
   ]
  },
  {
   "cell_type": "code",
   "execution_count": 18,
   "metadata": {},
   "outputs": [
    {
     "data": {
      "text/html": [
       "<div>\n",
       "<style scoped>\n",
       "    .dataframe tbody tr th:only-of-type {\n",
       "        vertical-align: middle;\n",
       "    }\n",
       "\n",
       "    .dataframe tbody tr th {\n",
       "        vertical-align: top;\n",
       "    }\n",
       "\n",
       "    .dataframe thead th {\n",
       "        text-align: right;\n",
       "    }\n",
       "</style>\n",
       "<table border=\"1\" class=\"dataframe\">\n",
       "  <thead>\n",
       "    <tr style=\"text-align: right;\">\n",
       "      <th></th>\n",
       "      <th>PassengerId</th>\n",
       "      <th>Survived</th>\n",
       "      <th>Pclass</th>\n",
       "      <th>Name</th>\n",
       "      <th>Sex</th>\n",
       "      <th>Age</th>\n",
       "      <th>SibSp</th>\n",
       "      <th>Parch</th>\n",
       "      <th>Ticket</th>\n",
       "      <th>Fare</th>\n",
       "      <th>Cabin</th>\n",
       "      <th>Embarked</th>\n",
       "    </tr>\n",
       "  </thead>\n",
       "  <tbody>\n",
       "    <tr>\n",
       "      <td>27</td>\n",
       "      <td>28</td>\n",
       "      <td>0</td>\n",
       "      <td>1</td>\n",
       "      <td>Fortune, Mr. Charles Alexander</td>\n",
       "      <td>male</td>\n",
       "      <td>19.0</td>\n",
       "      <td>3</td>\n",
       "      <td>2</td>\n",
       "      <td>19950</td>\n",
       "      <td>263.00</td>\n",
       "      <td>C23 C25 C27</td>\n",
       "      <td>S</td>\n",
       "    </tr>\n",
       "    <tr>\n",
       "      <td>88</td>\n",
       "      <td>89</td>\n",
       "      <td>1</td>\n",
       "      <td>1</td>\n",
       "      <td>Fortune, Miss. Mabel Helen</td>\n",
       "      <td>female</td>\n",
       "      <td>23.0</td>\n",
       "      <td>3</td>\n",
       "      <td>2</td>\n",
       "      <td>19950</td>\n",
       "      <td>263.00</td>\n",
       "      <td>C23 C25 C27</td>\n",
       "      <td>S</td>\n",
       "    </tr>\n",
       "    <tr>\n",
       "      <td>159</td>\n",
       "      <td>160</td>\n",
       "      <td>0</td>\n",
       "      <td>3</td>\n",
       "      <td>Sage, Master. Thomas Henry</td>\n",
       "      <td>male</td>\n",
       "      <td>NaN</td>\n",
       "      <td>8</td>\n",
       "      <td>2</td>\n",
       "      <td>CA. 2343</td>\n",
       "      <td>69.55</td>\n",
       "      <td>NaN</td>\n",
       "      <td>S</td>\n",
       "    </tr>\n",
       "    <tr>\n",
       "      <td>180</td>\n",
       "      <td>181</td>\n",
       "      <td>0</td>\n",
       "      <td>3</td>\n",
       "      <td>Sage, Miss. Constance Gladys</td>\n",
       "      <td>female</td>\n",
       "      <td>NaN</td>\n",
       "      <td>8</td>\n",
       "      <td>2</td>\n",
       "      <td>CA. 2343</td>\n",
       "      <td>69.55</td>\n",
       "      <td>NaN</td>\n",
       "      <td>S</td>\n",
       "    </tr>\n",
       "    <tr>\n",
       "      <td>201</td>\n",
       "      <td>202</td>\n",
       "      <td>0</td>\n",
       "      <td>3</td>\n",
       "      <td>Sage, Mr. Frederick</td>\n",
       "      <td>male</td>\n",
       "      <td>NaN</td>\n",
       "      <td>8</td>\n",
       "      <td>2</td>\n",
       "      <td>CA. 2343</td>\n",
       "      <td>69.55</td>\n",
       "      <td>NaN</td>\n",
       "      <td>S</td>\n",
       "    </tr>\n",
       "    <tr>\n",
       "      <td>324</td>\n",
       "      <td>325</td>\n",
       "      <td>0</td>\n",
       "      <td>3</td>\n",
       "      <td>Sage, Mr. George John Jr</td>\n",
       "      <td>male</td>\n",
       "      <td>NaN</td>\n",
       "      <td>8</td>\n",
       "      <td>2</td>\n",
       "      <td>CA. 2343</td>\n",
       "      <td>69.55</td>\n",
       "      <td>NaN</td>\n",
       "      <td>S</td>\n",
       "    </tr>\n",
       "    <tr>\n",
       "      <td>341</td>\n",
       "      <td>342</td>\n",
       "      <td>1</td>\n",
       "      <td>1</td>\n",
       "      <td>Fortune, Miss. Alice Elizabeth</td>\n",
       "      <td>female</td>\n",
       "      <td>24.0</td>\n",
       "      <td>3</td>\n",
       "      <td>2</td>\n",
       "      <td>19950</td>\n",
       "      <td>263.00</td>\n",
       "      <td>C23 C25 C27</td>\n",
       "      <td>S</td>\n",
       "    </tr>\n",
       "    <tr>\n",
       "      <td>792</td>\n",
       "      <td>793</td>\n",
       "      <td>0</td>\n",
       "      <td>3</td>\n",
       "      <td>Sage, Miss. Stella Anna</td>\n",
       "      <td>female</td>\n",
       "      <td>NaN</td>\n",
       "      <td>8</td>\n",
       "      <td>2</td>\n",
       "      <td>CA. 2343</td>\n",
       "      <td>69.55</td>\n",
       "      <td>NaN</td>\n",
       "      <td>S</td>\n",
       "    </tr>\n",
       "    <tr>\n",
       "      <td>846</td>\n",
       "      <td>847</td>\n",
       "      <td>0</td>\n",
       "      <td>3</td>\n",
       "      <td>Sage, Mr. Douglas Bullen</td>\n",
       "      <td>male</td>\n",
       "      <td>NaN</td>\n",
       "      <td>8</td>\n",
       "      <td>2</td>\n",
       "      <td>CA. 2343</td>\n",
       "      <td>69.55</td>\n",
       "      <td>NaN</td>\n",
       "      <td>S</td>\n",
       "    </tr>\n",
       "    <tr>\n",
       "      <td>863</td>\n",
       "      <td>864</td>\n",
       "      <td>0</td>\n",
       "      <td>3</td>\n",
       "      <td>Sage, Miss. Dorothy Edith \"Dolly\"</td>\n",
       "      <td>female</td>\n",
       "      <td>NaN</td>\n",
       "      <td>8</td>\n",
       "      <td>2</td>\n",
       "      <td>CA. 2343</td>\n",
       "      <td>69.55</td>\n",
       "      <td>NaN</td>\n",
       "      <td>S</td>\n",
       "    </tr>\n",
       "  </tbody>\n",
       "</table>\n",
       "</div>"
      ],
      "text/plain": [
       "     PassengerId  Survived  Pclass                               Name     Sex  \\\n",
       "27            28         0       1     Fortune, Mr. Charles Alexander    male   \n",
       "88            89         1       1         Fortune, Miss. Mabel Helen  female   \n",
       "159          160         0       3         Sage, Master. Thomas Henry    male   \n",
       "180          181         0       3       Sage, Miss. Constance Gladys  female   \n",
       "201          202         0       3                Sage, Mr. Frederick    male   \n",
       "324          325         0       3           Sage, Mr. George John Jr    male   \n",
       "341          342         1       1     Fortune, Miss. Alice Elizabeth  female   \n",
       "792          793         0       3            Sage, Miss. Stella Anna  female   \n",
       "846          847         0       3           Sage, Mr. Douglas Bullen    male   \n",
       "863          864         0       3  Sage, Miss. Dorothy Edith \"Dolly\"  female   \n",
       "\n",
       "      Age  SibSp  Parch    Ticket    Fare        Cabin Embarked  \n",
       "27   19.0      3      2     19950  263.00  C23 C25 C27        S  \n",
       "88   23.0      3      2     19950  263.00  C23 C25 C27        S  \n",
       "159   NaN      8      2  CA. 2343   69.55          NaN        S  \n",
       "180   NaN      8      2  CA. 2343   69.55          NaN        S  \n",
       "201   NaN      8      2  CA. 2343   69.55          NaN        S  \n",
       "324   NaN      8      2  CA. 2343   69.55          NaN        S  \n",
       "341  24.0      3      2     19950  263.00  C23 C25 C27        S  \n",
       "792   NaN      8      2  CA. 2343   69.55          NaN        S  \n",
       "846   NaN      8      2  CA. 2343   69.55          NaN        S  \n",
       "863   NaN      8      2  CA. 2343   69.55          NaN        S  "
      ]
     },
     "execution_count": 18,
     "metadata": {},
     "output_type": "execute_result"
    }
   ],
   "source": [
    "train_df.loc[detect_outliers(train_df,[\"Age\",\"SibSp\",\"Parch\",\"Fare\"])]"
   ]
  },
  {
   "cell_type": "code",
   "execution_count": 19,
   "metadata": {},
   "outputs": [],
   "source": [
    "# Drop outliers\n",
    "train_df = train_df.drop(detect_outliers(train_df,[\"Age\",\"SibSp\",\"Parch\",\"Fare\"]),axis = 0).reset_index(drop=True)"
   ]
  },
  {
   "cell_type": "markdown",
   "metadata": {},
   "source": [
    "<a id=5> </a>\n",
    "\n",
    "# 5) Missing Value \n",
    "* Find Missing Value\n",
    "* Fill Missing Value"
   ]
  },
  {
   "cell_type": "markdown",
   "metadata": {},
   "source": [
    "<a id=5.1> </a>\n",
    "### A) Find Missing Value"
   ]
  },
  {
   "cell_type": "code",
   "execution_count": 20,
   "metadata": {},
   "outputs": [],
   "source": [
    "train_df_len = len(train_df)\n",
    "train_df=pd.concat([train_df,test_df],axis= 0).reset_index(drop=True)"
   ]
  },
  {
   "cell_type": "code",
   "execution_count": 21,
   "metadata": {},
   "outputs": [
    {
     "data": {
      "text/plain": [
       "Index(['Age', 'Cabin', 'Embarked', 'Fare', 'Survived'], dtype='object')"
      ]
     },
     "execution_count": 21,
     "metadata": {},
     "output_type": "execute_result"
    }
   ],
   "source": [
    "train_df.columns[train_df.isnull().any()]"
   ]
  },
  {
   "cell_type": "code",
   "execution_count": 22,
   "metadata": {
    "scrolled": true
   },
   "outputs": [
    {
     "data": {
      "text/plain": [
       "Age             256\n",
       "Cabin          1007\n",
       "Embarked          2\n",
       "Fare              1\n",
       "Name              0\n",
       "Parch             0\n",
       "PassengerId       0\n",
       "Pclass            0\n",
       "Sex               0\n",
       "SibSp             0\n",
       "Survived        418\n",
       "Ticket            0\n",
       "dtype: int64"
      ]
     },
     "execution_count": 22,
     "metadata": {},
     "output_type": "execute_result"
    }
   ],
   "source": [
    "train_df.isnull().sum()"
   ]
  },
  {
   "cell_type": "markdown",
   "metadata": {},
   "source": [
    "<a id=5.2> </a>\n",
    "### B) Fill Missing Value"
   ]
  },
  {
   "cell_type": "code",
   "execution_count": 23,
   "metadata": {},
   "outputs": [
    {
     "data": {
      "text/html": [
       "<div>\n",
       "<style scoped>\n",
       "    .dataframe tbody tr th:only-of-type {\n",
       "        vertical-align: middle;\n",
       "    }\n",
       "\n",
       "    .dataframe tbody tr th {\n",
       "        vertical-align: top;\n",
       "    }\n",
       "\n",
       "    .dataframe thead th {\n",
       "        text-align: right;\n",
       "    }\n",
       "</style>\n",
       "<table border=\"1\" class=\"dataframe\">\n",
       "  <thead>\n",
       "    <tr style=\"text-align: right;\">\n",
       "      <th></th>\n",
       "      <th>Age</th>\n",
       "      <th>Cabin</th>\n",
       "      <th>Embarked</th>\n",
       "      <th>Fare</th>\n",
       "      <th>Name</th>\n",
       "      <th>Parch</th>\n",
       "      <th>PassengerId</th>\n",
       "      <th>Pclass</th>\n",
       "      <th>Sex</th>\n",
       "      <th>SibSp</th>\n",
       "      <th>Survived</th>\n",
       "      <th>Ticket</th>\n",
       "    </tr>\n",
       "  </thead>\n",
       "  <tbody>\n",
       "    <tr>\n",
       "      <td>60</td>\n",
       "      <td>38.0</td>\n",
       "      <td>B28</td>\n",
       "      <td>NaN</td>\n",
       "      <td>80.0</td>\n",
       "      <td>Icard, Miss. Amelie</td>\n",
       "      <td>0</td>\n",
       "      <td>62</td>\n",
       "      <td>1</td>\n",
       "      <td>female</td>\n",
       "      <td>0</td>\n",
       "      <td>1.0</td>\n",
       "      <td>113572</td>\n",
       "    </tr>\n",
       "    <tr>\n",
       "      <td>821</td>\n",
       "      <td>62.0</td>\n",
       "      <td>B28</td>\n",
       "      <td>NaN</td>\n",
       "      <td>80.0</td>\n",
       "      <td>Stone, Mrs. George Nelson (Martha Evelyn)</td>\n",
       "      <td>0</td>\n",
       "      <td>830</td>\n",
       "      <td>1</td>\n",
       "      <td>female</td>\n",
       "      <td>0</td>\n",
       "      <td>1.0</td>\n",
       "      <td>113572</td>\n",
       "    </tr>\n",
       "  </tbody>\n",
       "</table>\n",
       "</div>"
      ],
      "text/plain": [
       "      Age Cabin Embarked  Fare                                       Name  \\\n",
       "60   38.0   B28      NaN  80.0                        Icard, Miss. Amelie   \n",
       "821  62.0   B28      NaN  80.0  Stone, Mrs. George Nelson (Martha Evelyn)   \n",
       "\n",
       "     Parch  PassengerId  Pclass     Sex  SibSp  Survived  Ticket  \n",
       "60       0           62       1  female      0       1.0  113572  \n",
       "821      0          830       1  female      0       1.0  113572  "
      ]
     },
     "execution_count": 23,
     "metadata": {},
     "output_type": "execute_result"
    }
   ],
   "source": [
    "train_df[train_df[\"Embarked\"].isnull()]"
   ]
  },
  {
   "cell_type": "code",
   "execution_count": 24,
   "metadata": {},
   "outputs": [
    {
     "data": {
      "image/png": "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\n",
      "text/plain": [
       "<Figure size 432x288 with 1 Axes>"
      ]
     },
     "metadata": {
      "needs_background": "light"
     },
     "output_type": "display_data"
    }
   ],
   "source": [
    "train_df.boxplot(column=\"Fare\",by = \"Embarked\")\n",
    "plt.show()"
   ]
  },
  {
   "cell_type": "code",
   "execution_count": 25,
   "metadata": {},
   "outputs": [],
   "source": [
    "train_df[\"Embarked\"] = train_df[\"Embarked\"].fillna(\"C\")"
   ]
  },
  {
   "cell_type": "code",
   "execution_count": 26,
   "metadata": {},
   "outputs": [
    {
     "data": {
      "text/html": [
       "<div>\n",
       "<style scoped>\n",
       "    .dataframe tbody tr th:only-of-type {\n",
       "        vertical-align: middle;\n",
       "    }\n",
       "\n",
       "    .dataframe tbody tr th {\n",
       "        vertical-align: top;\n",
       "    }\n",
       "\n",
       "    .dataframe thead th {\n",
       "        text-align: right;\n",
       "    }\n",
       "</style>\n",
       "<table border=\"1\" class=\"dataframe\">\n",
       "  <thead>\n",
       "    <tr style=\"text-align: right;\">\n",
       "      <th></th>\n",
       "      <th>Age</th>\n",
       "      <th>Cabin</th>\n",
       "      <th>Embarked</th>\n",
       "      <th>Fare</th>\n",
       "      <th>Name</th>\n",
       "      <th>Parch</th>\n",
       "      <th>PassengerId</th>\n",
       "      <th>Pclass</th>\n",
       "      <th>Sex</th>\n",
       "      <th>SibSp</th>\n",
       "      <th>Survived</th>\n",
       "      <th>Ticket</th>\n",
       "    </tr>\n",
       "  </thead>\n",
       "  <tbody>\n",
       "  </tbody>\n",
       "</table>\n",
       "</div>"
      ],
      "text/plain": [
       "Empty DataFrame\n",
       "Columns: [Age, Cabin, Embarked, Fare, Name, Parch, PassengerId, Pclass, Sex, SibSp, Survived, Ticket]\n",
       "Index: []"
      ]
     },
     "execution_count": 26,
     "metadata": {},
     "output_type": "execute_result"
    }
   ],
   "source": [
    "train_df[train_df[\"Embarked\"].isnull()]"
   ]
  },
  {
   "cell_type": "code",
   "execution_count": 27,
   "metadata": {},
   "outputs": [
    {
     "data": {
      "text/html": [
       "<div>\n",
       "<style scoped>\n",
       "    .dataframe tbody tr th:only-of-type {\n",
       "        vertical-align: middle;\n",
       "    }\n",
       "\n",
       "    .dataframe tbody tr th {\n",
       "        vertical-align: top;\n",
       "    }\n",
       "\n",
       "    .dataframe thead th {\n",
       "        text-align: right;\n",
       "    }\n",
       "</style>\n",
       "<table border=\"1\" class=\"dataframe\">\n",
       "  <thead>\n",
       "    <tr style=\"text-align: right;\">\n",
       "      <th></th>\n",
       "      <th>Age</th>\n",
       "      <th>Cabin</th>\n",
       "      <th>Embarked</th>\n",
       "      <th>Fare</th>\n",
       "      <th>Name</th>\n",
       "      <th>Parch</th>\n",
       "      <th>PassengerId</th>\n",
       "      <th>Pclass</th>\n",
       "      <th>Sex</th>\n",
       "      <th>SibSp</th>\n",
       "      <th>Survived</th>\n",
       "      <th>Ticket</th>\n",
       "    </tr>\n",
       "  </thead>\n",
       "  <tbody>\n",
       "    <tr>\n",
       "      <td>1033</td>\n",
       "      <td>60.5</td>\n",
       "      <td>NaN</td>\n",
       "      <td>S</td>\n",
       "      <td>NaN</td>\n",
       "      <td>Storey, Mr. Thomas</td>\n",
       "      <td>0</td>\n",
       "      <td>1044</td>\n",
       "      <td>3</td>\n",
       "      <td>male</td>\n",
       "      <td>0</td>\n",
       "      <td>NaN</td>\n",
       "      <td>3701</td>\n",
       "    </tr>\n",
       "  </tbody>\n",
       "</table>\n",
       "</div>"
      ],
      "text/plain": [
       "       Age Cabin Embarked  Fare                Name  Parch  PassengerId  \\\n",
       "1033  60.5   NaN        S   NaN  Storey, Mr. Thomas      0         1044   \n",
       "\n",
       "      Pclass   Sex  SibSp  Survived Ticket  \n",
       "1033       3  male      0       NaN   3701  "
      ]
     },
     "execution_count": 27,
     "metadata": {},
     "output_type": "execute_result"
    }
   ],
   "source": [
    "train_df[train_df[\"Fare\"].isnull()]"
   ]
  },
  {
   "cell_type": "code",
   "execution_count": 28,
   "metadata": {},
   "outputs": [],
   "source": [
    "# Mean of the Fares according to Pclass 3\n",
    "meanFP3=np.mean(train_df[train_df[\"Pclass\"] == 3][\"Fare\"])"
   ]
  },
  {
   "cell_type": "code",
   "execution_count": 29,
   "metadata": {},
   "outputs": [],
   "source": [
    "train_df[\"Fare\"]= train_df[\"Fare\"].fillna(meanFP3)"
   ]
  },
  {
   "cell_type": "code",
   "execution_count": 30,
   "metadata": {},
   "outputs": [
    {
     "data": {
      "text/html": [
       "<div>\n",
       "<style scoped>\n",
       "    .dataframe tbody tr th:only-of-type {\n",
       "        vertical-align: middle;\n",
       "    }\n",
       "\n",
       "    .dataframe tbody tr th {\n",
       "        vertical-align: top;\n",
       "    }\n",
       "\n",
       "    .dataframe thead th {\n",
       "        text-align: right;\n",
       "    }\n",
       "</style>\n",
       "<table border=\"1\" class=\"dataframe\">\n",
       "  <thead>\n",
       "    <tr style=\"text-align: right;\">\n",
       "      <th></th>\n",
       "      <th>Age</th>\n",
       "      <th>Cabin</th>\n",
       "      <th>Embarked</th>\n",
       "      <th>Fare</th>\n",
       "      <th>Name</th>\n",
       "      <th>Parch</th>\n",
       "      <th>PassengerId</th>\n",
       "      <th>Pclass</th>\n",
       "      <th>Sex</th>\n",
       "      <th>SibSp</th>\n",
       "      <th>Survived</th>\n",
       "      <th>Ticket</th>\n",
       "    </tr>\n",
       "  </thead>\n",
       "  <tbody>\n",
       "  </tbody>\n",
       "</table>\n",
       "</div>"
      ],
      "text/plain": [
       "Empty DataFrame\n",
       "Columns: [Age, Cabin, Embarked, Fare, Name, Parch, PassengerId, Pclass, Sex, SibSp, Survived, Ticket]\n",
       "Index: []"
      ]
     },
     "execution_count": 30,
     "metadata": {},
     "output_type": "execute_result"
    }
   ],
   "source": [
    "train_df[train_df[\"Fare\"].isnull()]"
   ]
  },
  {
   "cell_type": "markdown",
   "metadata": {},
   "source": [
    "<a id=6> </a>\n",
    "# 6) Visualization"
   ]
  },
  {
   "cell_type": "markdown",
   "metadata": {},
   "source": [
    "<a id=6.1> </a>\n",
    "### A) Correlation Between Sibsp -- Parch -- Age -- Fare -- Survived"
   ]
  },
  {
   "cell_type": "code",
   "execution_count": 31,
   "metadata": {},
   "outputs": [
    {
     "data": {
      "image/png": "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\n",
      "text/plain": [
       "<Figure size 720x360 with 2 Axes>"
      ]
     },
     "metadata": {
      "needs_background": "light"
     },
     "output_type": "display_data"
    }
   ],
   "source": [
    "list1=[\"SibSp\",\"Parch\",\"Fare\",\"Age\",\"Survived\"]\n",
    "plt.figure(figsize=(10,5))\n",
    "sns.heatmap(train_df[list1].corr(),annot=True,fmt=\".2f\")\n",
    "\n",
    "plt.show()"
   ]
  },
  {
   "cell_type": "code",
   "execution_count": 32,
   "metadata": {},
   "outputs": [
    {
     "data": {
      "image/png": "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\n",
      "text/plain": [
       "<Figure size 720x360 with 2 Axes>"
      ]
     },
     "metadata": {
      "needs_background": "light"
     },
     "output_type": "display_data"
    }
   ],
   "source": [
    "list1=[\"SibSp\",\"Parch\",\"Fare\",\"Age\",\"Survived\"]\n",
    "plt.figure(figsize=(10,5))\n",
    "ax=sns.heatmap(train_df[list1].corr(),annot=True,fmt=\".2f\")\n",
    "bottom, top = ax.get_ylim()  \n",
    "# these are for making full size/(with ax variable)\n",
    "ax.set_ylim(bottom + 0.5, top - 0.5)\n",
    "\n",
    "plt.show()"
   ]
  },
  {
   "cell_type": "markdown",
   "metadata": {},
   "source": [
    "* Fare feature seems to have correlation with survived feature(0.26)"
   ]
  },
  {
   "cell_type": "markdown",
   "metadata": {},
   "source": [
    "<a id=6.2> </a>\n",
    "##  B) SibSp -- Survived"
   ]
  },
  {
   "cell_type": "code",
   "execution_count": 33,
   "metadata": {},
   "outputs": [
    {
     "data": {
      "text/plain": [
       "<function matplotlib.pyplot.show(*args, **kw)>"
      ]
     },
     "execution_count": 33,
     "metadata": {},
     "output_type": "execute_result"
    },
    {
     "data": {
      "image/png": "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\n",
      "text/plain": [
       "<Figure size 432x432 with 1 Axes>"
      ]
     },
     "metadata": {
      "needs_background": "light"
     },
     "output_type": "display_data"
    }
   ],
   "source": [
    "B_SibSp_Survived= sns.factorplot(data=train_df,x=\"SibSp\",y=\"Survived\",kind=\"bar\",size=6)\n",
    "B_SibSp_Survived.set_ylabels(\"Survived Probability\")\n",
    "plt.show"
   ]
  },
  {
   "cell_type": "markdown",
   "metadata": {},
   "source": [
    "* If passenger have a lot of SibSp (3,4,5,6....) passenger's survive chance is less\n",
    "* if SibSp == 0,1,2 passenger have more chance to survive"
   ]
  },
  {
   "cell_type": "markdown",
   "metadata": {},
   "source": [
    "<a id=6.3> </a>\n",
    "##  C)  Parch -- Survived"
   ]
  },
  {
   "cell_type": "code",
   "execution_count": 34,
   "metadata": {},
   "outputs": [
    {
     "data": {
      "image/png": "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\n",
      "text/plain": [
       "<Figure size 432x432 with 1 Axes>"
      ]
     },
     "metadata": {
      "needs_background": "light"
     },
     "output_type": "display_data"
    }
   ],
   "source": [
    "B_Parch_Survived=sns.factorplot(data=train_df,x=\"Parch\",y=\"Survived\",kind=\"bar\",size=6)\n",
    "B_Parch_Survived.set_ylabels(\"Survived Probability\")\n",
    "plt.show()"
   ]
  },
  {
   "cell_type": "markdown",
   "metadata": {},
   "source": [
    "* If passenger have 3 or 2 or 1 Parch then passenger have more chance to survive but Parch 3's has std \n",
    "* If passenger has no Parch or 5 Parch then passenger has lower chance to survive\n",
    "* Small familes have more chance to survive."
   ]
  },
  {
   "cell_type": "markdown",
   "metadata": {},
   "source": [
    "<a id=6.4> </a>\n",
    "##  D)  Pclass -- Survived"
   ]
  },
  {
   "cell_type": "code",
   "execution_count": 35,
   "metadata": {},
   "outputs": [
    {
     "data": {
      "image/png": "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\n",
      "text/plain": [
       "<Figure size 432x432 with 1 Axes>"
      ]
     },
     "metadata": {
      "needs_background": "light"
     },
     "output_type": "display_data"
    }
   ],
   "source": [
    "B_Pclass_Survived=sns.factorplot(data=train_df,x=\"Pclass\",y=\"Survived\",kind=\"bar\",size=6)\n",
    "B_Pclass_Survived.set_ylabels(\"Survived Probability\")\n",
    "plt.show()"
   ]
  },
  {
   "cell_type": "markdown",
   "metadata": {},
   "source": [
    "* we see that if passenger has first class ticket then passenger has big chance to survive"
   ]
  },
  {
   "cell_type": "markdown",
   "metadata": {},
   "source": [
    "<a id=6.5> </a>\n",
    "##  E)  Age -- Survived"
   ]
  },
  {
   "cell_type": "code",
   "execution_count": 36,
   "metadata": {},
   "outputs": [
    {
     "data": {
      "image/png": "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\n",
      "text/plain": [
       "<Figure size 432x216 with 2 Axes>"
      ]
     },
     "metadata": {
      "needs_background": "light"
     },
     "output_type": "display_data"
    }
   ],
   "source": [
    "B_Age_Survived=sns.FacetGrid(data=train_df,col=\"Survived\")\n",
    "B_Age_Survived.map(plt.hist,\"Age\",bins=25)\n",
    "plt.show()"
   ]
  },
  {
   "cell_type": "markdown",
   "metadata": {},
   "source": [
    "* The oldest survivor was 80 years old\n",
    "* Age 10 and 30 has a high survival rate,\n",
    "* Large number of 20 years old didn't survive"
   ]
  },
  {
   "cell_type": "markdown",
   "metadata": {},
   "source": [
    "<a id=6.6> </a>\n",
    "##  F)  Pclass -- Survived -- Age"
   ]
  },
  {
   "cell_type": "code",
   "execution_count": 37,
   "metadata": {},
   "outputs": [
    {
     "data": {
      "image/png": "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\n",
      "text/plain": [
       "<Figure size 432x648 with 6 Axes>"
      ]
     },
     "metadata": {
      "needs_background": "light"
     },
     "output_type": "display_data"
    }
   ],
   "source": [
    "B_Pclass_Age_Survived=sns.FacetGrid(data=train_df,col=\"Survived\",row=\"Pclass\",size=3)\n",
    "#(From up to down Pclass,From left to right survived)\n",
    "B_Pclass_Age_Survived.map(plt.hist,\"Age\",bins=25)\n",
    "plt.show()"
   ]
  },
  {
   "cell_type": "markdown",
   "metadata": {},
   "source": [
    "* First class has big rate of the chance to survive\n",
    "* Third class has low rate of the chance to survive\n",
    "* **Pclass is important feature for model training."
   ]
  },
  {
   "cell_type": "markdown",
   "metadata": {},
   "source": [
    "<a id=6.7> </a>\n",
    "##  G)  Embarked -- Sex -- Pclass -- Survived"
   ]
  },
  {
   "cell_type": "code",
   "execution_count": 38,
   "metadata": {},
   "outputs": [
    {
     "data": {
      "image/png": "iVBORw0KGgoAAAANSUhEUgAAAscAAADQCAYAAADruswkAAAABHNCSVQICAgIfAhkiAAAAAlwSFlzAAALEgAACxIB0t1+/AAAADh0RVh0U29mdHdhcmUAbWF0cGxvdGxpYiB2ZXJzaW9uMy4xLjEsIGh0dHA6Ly9tYXRwbG90bGliLm9yZy8QZhcZAAAgAElEQVR4nOzdd3hUVfrA8e+bTBrpDUIPEJTmWgELa0UFRaUqK+ii2HH1t66syqICsqKLuro2Vl1lV1QUFQQUFQUsFMWuQIAEQk9Ir5M2Ob8/ZggzqRNIZibJ+3meeZi599w77w05k/eeOUWMMSillFJKKaXAz9sBKKWUUkop5Ss0OVZKKaWUUspBk2OllFJKKaUcNDlWSimllFLKQZNjpZRSSimlHDQ5VkoppZRSykGT4zZERBaKyNxmPN8sEVnUTOdKE5HhzXEupZpK64ZSSil3aXLsZY4/jFYRKXJ6POftuFoDERkoIp+KSK6I5InI9yJymbfjUs1D68bxEZFLReRLESkUkUwR+UJErvR2XMq36I2jUrVpcuwbrjDGhDk97vR2QCJi8XYMblgBrAY6AR2Bu4ACr0akmpvWjWMgIuOBJcD/gG7Y68hDwBXejEs1D71xPD4iMkpEvhWRYhHJFpFFItLV23Ep36HJsQ8TkSkisl5E/uloGd0lImc7tu8TkcMi8scah8WJyGpHa9EXItLT6XzPOI4rcLSy/t5p3ywRedfxIVEATKkRS4CIvCUi74lIoIj4icj9IpLq+HB5R0RinMpfJyJ7HPv+1gI/mzigF/CyMabc8VhvjPm6ud9L+R6tGw3+bAR4CnjEGPOKMSbfGFNljPnCGHNzc7+f8hq9cTwGjhvHN4FngDhgIFAOfCUiUd6MTfkOTY5931DgFyAWe4VeDAwGkoDJwHMiEuZUfhLwCPZK/xPwhtO+zcApQIzjXEtEJNhp/1XAu0CU83EiEgIsA8qAq40x5dhbaUcD5wFdgFzgeUf5AcCLwHWOfbHYW6/q5Egk8up71HNYNpACLBKR0SLSqb7zqzZL60bdTgS6O+JV7YzeODb4sxHgSWCuMeYNY4zVGJMO3ASUAHc393uqVsoYow8vPoA0oAjIc3rc7Ng3BdjpVPYkwACdnLZlA6c4ni8EFjvtCwNsQPd63jsXONnxfBbwZY39s4DlwBfAvwBx2rcNuMjpdWegArBg//rWOY5Q7Hfmw5v5Z9cNeA5IBaqAL4G+3v4/1Uez/f9q3Ti2n9s5jp9FsLf/D/XRMg9H3ajzd8ZRNyqBGwB/YC6wF/sNWhBwCVAIhDnKL3S8Ptex/xnga6fzTcZ+E2cB/gKkH/ndctSDCuw3g35AiGPbIsfzDx3n93eU/z9gk+OzOwj4N/CWY98AR30/EsdTjuuo7zrvr/HZ4PKo55h+jrrRq459s4H13v6/1YdvPLTl2DeMNsZEOT1edtqX4fTcCmCMqbnNuXVs35EnxpgiIAd7CxUi8hcR2SYi+Y5Wp0jsrWi1jnVyJvA74DFjjHHa3hNY6tSCtQ17stHJ8X7OcRRjT1SalTFmvzHmTmNMH0c8xdj7WKq2Q+tG0x05X+dmPq/yLctqfJPg3GVmtzHmNWOMDXgb+zcJc4wxZcaYT7HfkCU5lf/QGPOlMaYM+Btwloh0BzDGLDLGZBtjKo0xT2JPXE90OnajMWaZsXfdsTq2RQAfY2+4uMERB8CtwN8cn91l2BPp8Y7uGOOBlU5xPIi90aNOxpjHanw2uDzqOexInT5Ux75DQHx976faF02O257uR544vlKOAQ46vgq7D7gaiHZ8eOQD4nSs8x/4Iz4F5gGf1+i6sA8YWeMDKdgYcwD7h4xzHB2wtzzUSURmiOvAEpeHOxdtjNmHvWVkkDvlVbvUXurGdkcM4+r9Sai2QG8cmy7L8W9dN46dgcxmfj/VSmly3PZcJiLDRCQQe//KbxyJYzj2r6gyAYuIPIT97r5Rxph/YO+H+bnYB8IBLAD+fqRvmojEi8hVjn3vAqOc4phDA79rxphHjevAEpdHXceISLSIzBaRJEc/tjjgRuxf2SlVl3ZRNxzJyD3AgyJyg4hEOOrIMBF5yZ3rUu1Oe7px3A9MqHEuP+w3k1/U936qfdHk2DesqFGxlx7Hud4EHsZ+53869kFIAJ8Aq4AdwB6glLrv+OtkjHkE+8CjzxwDKJ7B3ufyUxEpxJ6UDnWU3QJMc8RyCHv/zf3HcU11KQcSgc+wT9/2G/ZBUVOa+X2Ud2ndOAbGmHeBa7DfMB7E3pI4F/igud9LtQnt6cbxXmCmiFwrIiEikgC8gr01/Fl3rk21feL6jYdSSimlfJmIpGHvimBz2rzaGDNGRKYANxljhjnKJmEfvCpOx+8HJhpjvhaRhdhvCPsAZwE/AH80xuwWEX/gJewtrcXAP4E7HOf/TERmAUnGmMlO53bZJvYFRkYBF2IfLPd/2PsedwEOA28bY2Y4yv4Re3Iein1A3s1H3qsZfmzVHAn5TOzTuIVgb1wZb4zZ3pzvo1ovTY6VUkop1S6JyCXAW9hnmPnJ2/Eo36DJsVJKKaXaLRG5AuhqjFng7ViUb9DkWCmllFJKKQcdkKeUUkoppZSDz6+DXtPmzZtNUlJS4wWVaiOio6Ol8VJaN1T7427dAK0fqv1pSv1Qrlpdy3FlZaW3Q1DKJ2ndUKp+Wj+UUu5qdcmxUkoppZRSLUWTY6WUUkoppRw0OVZKKaWUUsqh1Q3IU0opbysqKuKDDz5g+fLl7N+/n4CAAE4++WTGjx/PsGHDENFxMO1demEZK7Zm8cXuXHKtlYQG+DO0RwRXDYgnKa6Dt8NrUe352lXboMmxUko1we7du7nzzjvJyMio3lZWVsb69etZv349F154IXPnziUwMNCLUSpv+jotj8fWplFuO7qOQJ6tkk925PDJjhxuHNyZiScneDHClvP17jweW1f/tU8d3IVrTu7kxQiVapx2q1BKHZfS0lL27dtHeno6VVVV3g6nRRUUFNRKjGtas2YNjz/+uAejUr5k2+FiHl3jmhzW9OrmQ3y6I9uDUXnGtsPFPLq24Wv/z+aDbfLaVdvikeRYRF4VkcMi8ls9+0VE/iUiKSLyi4ic5om4lFLHLi0tjTlz5nDRRRcxZswYRo0axZVXXslrr71GSUmJt8NrEe+//36DifERR7pbqPbnjR/TqaxqfOXZ//1wCJsb5VqTRT+4d+2v/5De5q5dtS2e6laxEHgO+F89+0cCfR2PocCLjn99wry1aezLKwWge1QwD1yQ6NV4lPK2TZs2ce+991JaWuqyPT09neeff57Vq1fzwgsvEBUV5aUI61dZWUlpaSklJSVYrVaXR0lJSZ37jmxfu3atW+9hjGH58uXccccdLXw1ypdkF1eweV+BW2UPF1Uw7vVfCPBvG1/gVhlDYZnNrbIZReX8eLCQM7pFtHBUSh0bjyTHxpgvRSSxgSJXAf8zxhhgk4hEiUhnY8whT8TXEGMMO7NK2J9fBkBJhQ1blcHfTwfcqPYpPT2dv/71r7USY2c7duxgxowZvPDCC8f0HsYYKioqGkxWaya2jSW4Rx7l5eXHeulNsmfPHo+8j/IdBwpKaUp7aElFFVS07a5I9dmXV6rJsfJZvjIgryuwz+n1fse2Wsnx4cOHmTp1KhaLBZvNxtixY5k2bRrp6emEhobi7+9PQUEB8fHx5OTkYIwhPj6ejIwMwsLCAPtI806dOpGZmYmIEBMTQ2ZmJhEREdhsNoqLi0lISGDd1n28s8PK/sKjKysdLCjnurd+YcrpnTkxxEpgYCDh4eFkZ2cTHR2N1WqltLSUhIQE0tPTCQ4OJiQkhNzcXGJjYyksLKS8vLx6f0hICIGBgeTn5xMXF0d+fj4VFRXV+5v7mtLT0wkICCAyMpKsrCwiIyMpLy/HarVW79dr8q1rio6OdqsSeapufPjhh5x77rkUFxeTkpLCySefTEpKChEREXTs2JENGzZw9tlnU1BQwOuvv058fDyFhYUYYxAR9u/fT2xsLPn5+eTk5BAbG8vOnTuJiooiKCiIjRs3csopp5CRkUFBQQFJSUn8/PPPJCUlERoaWn3+gwcPUl5eTmJiIj/88AMDBgzAYrHwww8/MGTIEHJychARTjzxRL799lsGDx5MZWUlW7du5bTTTiMtLY3AwEC6dOlSfU53rmnv3r0MGjSI5ORkOnbsSExMTPX+nJwcDh8+TL9+/QgLC+PQoUM+83vUnuuGp+pH5uE8t+Np78rKyrR++FD9UK7E3ljrgTeytxyvNMYMqmPfh8A8Y8zXjtefA381xnxfs+zGjRtNv379Wjha2Lgnnzmf7aKBcQXcfmZXxgzq2OKxqPYtOjrara8pPFU3Lr30UrKz29+AmqCgICorK7HZ3Pvq+PLLL2f27NktHFX75m7dAM/Uj+JyGxPf+JWyhv5wODm5cxhhgf4tGpOnVBrD5r0FuNsOHhVi4abBXbgoKUa/iW0hTakfypWvtBzvB7o7ve4GHPRSLBSX23h8XVqDiTHAv785wBndIugeFeyZwLxA+1srZ5WVlT6fGHfo0IGQkBCCg4Orn9d8NLa95rHBwcFYLBZWrlzJrFmz3Irjww8/pKqqir/+9a+Eh4e37EUrnxAa6M+FSTGs2t54HTkxvgPzL+/rgag856kv9/KxmzNR5FkreeLLvbz/WyY3DemiXSyUT/GV5Hg5cKeILMY+EC/fm/2NP9uZY+8L1ogqAyu2ZXHHWd08EJV37MsrJSXb6u0wlI/w9/cnICCAioqK4z7PkWS0oSS2oTJ1vQ4KCmrRBThGjBjB8uXL+eGHH9wqv2rVKn744Qdmz57NGWec0WJxKd8x+bQEvtmbT461st4yAf7C7We2vb8bk09L4Nt9DV97TbtyrMz4OJXTu4Zz05Au9InVRUKU93kkORaRt4DzgTgR2Q88DAQAGGMWAB8BlwEpQAlwgyfiqs83+/LdLrt8aya/phcRHWIhJiSA6BAL0R0CiA4JIKb6uYWwQH9dNUu1eiLCkCFDWL9+vVvl//jHP3LhhRfWSmQDAgJaZX2wWCw89dRTPPjgg3z11Vd17u/duzc7duyo3paRkcHtt9/Oddddx2233aaLg7Rx8aGBzL+8L7M/283evNqDViODLcy4IJEBnUI9H1wL6xhmv/ZZq3exzzGI3VlksIXbz+rK5n0FfJ6S67Lv+wOF/LB0O8P7xjDljM7Eh2o9Ud7jsT7HzcUT/cbuXr6dbYebd57WAD8huoOF6CMJdEgAMY7E2TWpthAS4Bt90Eorq7j53a1kFNlbCeNDA/j32H6EBfnKFw7tg6/1OV6/fj133313o+WioqJYuXIlwcFts9vR1q1bWbFiBfv27atePvrKK68kOjqaVatW8fjjj1NcXOxyzAknnMAjjzxCnz59vBR12+JrfY6d2aoMm/cXsC41l7zSSjoE+HNmjwjO6x1NkKVtTN9WH3eufWdWCS9/e4CfDhbVOj7QXxg7qCPXnNyJ0DbSJ9sbtM/xsdPkuA4Pr97Fxj3utx43t5AAv+oE2p5E10yqj75uqTkyV23P5pVvD9SatzLIX7jmlAQmndKpVbb8tUa+lhwbY5gzZw4rVqyot4y/vz/z58/n3HPPbfF4fNWhQ4d4+OGHa3XBCAwM5E9/+hPXXHMNfn5tO0lqab6cHKvGGWNPol/59iBpuXW3sk8+NYHL+sW2mfmgPUmT42OnyXEd1qbmMm9tmltlu0QEERLgR25JBXmllXh60Z/wIP/qRPlIS3RdryODLW6PCF6+NZPnNjS8ute4QfHc2gb7zPkiX0uOAWw2GwsWLODNN9+krMz169MuXbpw//33c/bZZ3skFl9ms9lYtGgRL774IpWVrv0whw4dysMPP0zHjjrjzbHS5LhtsFUZPt2Zw3+/P0hOSe3+yl0igpg6uAvDEiO1UaYJNDk+dpoc16HCVsWNS7aRUdTwYgEdAvx4bcIAojsEAPYKXlBWSW5JJTnWCnKtFeSWVJJrrSDHWln9Osda4fZKQs3FT+x34UdanqOO9Imu8RrgtveTG52pA+DZq07gxPi212/O1/hicnxEYWEhf/jDH0hPTwegW7duvPfee/j761ehzpKTk3nooYfYtWuXy/aIiAhmzJjB8OHDvRRZ66bJcdtirbDx3m+ZLPklA2sdg+IHdAzl5qFdGNgpzAvRtT6aHB87TY7rsSvbyn2rUsgvrXvUbaC/MOvi3sc8/UyFrYq8UudEupLckoqjiXSJY5u1wq2ZM7zhkr4x3HteT2+H0eb5cnIMMHPmTNLS0gBITExk7ty5Ho+hNSgtLeW5555j8eLFtfZdfvnlTJ8+vXrCf+UeTY7bptySCl7/MZ2PkrPq/DZ2WGIUUwd3pmtk2xzP0Fw0OT52mhw3IL2wjEU/pLN6Z47LkqDn9Ixk0qkJJMV5ZsoZa4WNPGsluVZHIu1InF2TavvrCjcnn28OncICeX3iQI+9X3vl68mxappNmzYxa9YssrKyXLZ36dKF2bNnc+qpp3opstZHk+O2bW9eKf/ZfLDOMUD+AqP6xzHp1ASiQgK8EJ3v0+T42Gly7Ibb3t/Grhz7YIFe0cH8e1x/j76/u4wxFJfbqlucc5y6dOS5vK4gz3r8/aMjgy0smXxS8wSv6qXJcduTl5fHo48+ypo1a1y2iwhTpkzhlltuISBA/+A3RpPj9uHX9CJe+uYA2zNrzyLVIcCPa07uxNhBHdv8LCBNpcnxsdM5udzg5zQAwJeXuRQRwoIshAVZGl21r8oYCkodrdFOXThWbc9mfx3zU9alU5jOQ6nUsYiKiuLxxx/nww8/ZP78+dVTvhljeO2119i4cSNz584lMTHRu4Eq5QNOSgjjX1eewJe783h180EOFR4dD1RSUcVr3x1ixbYsppzeWZejVs1Cb7PaKT8RokIC6BUTwundIhjeN4YJv+vEbWd2dfscFyVFt2CESrVtIsKoUaN48803Ofnkk132JScnM2nSJN555x1a27d7SrUEEeG83tG8PL4/t53ZlfAg10G/WcUVPPHlXqYt2853+wu8FOVR89amccfSZO5Ymuz27FfKd2hyrFyc3jWCpNgQt8omZ5ZQpX+4lTouXbt25aWXXuKOO+5wmeWjrKyMf/zjH9x99921+icr1V4F+vsxdlBH/nv1ACac1JEAf9dW4iPLUT+wKoXU7OZdzKsp9uWVkpJtJSXbyr46VkpUvk2TYzd0jwomKTaEpNiQRrsrtHb+fsKcS3rTLTKo0bJrU3N5YeN+bdlS6jj5+/tz4403snDhQnr2dJ0BZsOGDVxzzTWsXbvWS9Ep5XvCgizcPLQrr44fUOe3mN8fKOSOpduZ/8UeMosbnpZVqZo0OXbDAxck8sKYfrwwph8PXJDo5WhaXlxoIM9edSJTTu+M8/gGP4FTOrtONbV8axavfnfIwxEq1Tb179+fN954gwkTJrhsz8/PZ/r06TzyyCO1lqRWqj3rFB7Ifecn8vzoEzmli+vfJwOs3pnDDe9s5dXNByku9+z6Aqr10uRY1Sk00J9rT00gMfpoF4veMSH84/K+XH96Z5eyb/+cwVs/pXs6RKXapODgYO677z6efvppYmNjXfZ98MEHXHvttfzyyy9eik4p39Q3rgOPj0xi7qW9SYx2/Ya33GZY/HMGU97ZygdbMqn09FK2qtXR5Fg12aRTOjHhJNclb1/77hBLfzvspYiUanuGDRvG4sWLOf/88122HzhwgJtuuokFCxbUWpJaqfZMRBjSPZIXx/Tjz7/vQUwH1wm58ksreX7jfm5+dxtf7c7TLoGqXpocqyYTEW4a0oVR/eNctr+46QAfb8/2UlRKtT3R0dHMnz+fmTNnEhJy9FucqqoqXnnlFW688Ub27NnjxQiV8j3+fsLIE2N5bcIArj+9MyEBrqnOgYIyHvl8N39esZMtGUVeilL5Mk2O1TEREe48uxvDawyE+OdXe1mXmuulqJRqe0SE0aNH89Zbb3HSSa6L7mzdupVJkybx3nvvebwVbObMmUyePJnJkyczc+ZMj763Uu4ICfBn8qkJLJwwgFH946g5/fHWw8X8ecVO5ny2mwP5OqOEOkqTY3XM/ET4y7k9GZYYWb3NAI+vS6tzuU+l1LHr1q0bL7/8MrfddpvLlG+lpaXMmzePe+65h+xsz31zk5aWRnJyMsnJyaSlpXnsfZVqqugOAdx1TndeGtefs3pG1tr/dVoeN727jec37CPPWuGFCJWv8VhyLCIjRGS7iKSIyP117O8hImtF5EcR+UVELvNUbKp+jU1j5+8n3H9BImd0C6/eZjMwd81ufjxQ6MFIlWr7LBYLN910E//5z3/o0aOHy76vvvqKiRMn8uWXX3opOqV8W4+oYGZf3JsnR/XlxPgOLvtsBj7YmsWUd7by1k/plFVWeSlK5Qs8khyLiD/wPDASGAD8QUQG1Cg2E3jHGHMqMBF4wROxqYa5M41doL8fDw3vzUkJR6fRqbAZHl69i60ZOu2UUs1t0KBBvPHGG4wdO9Zle25uLvfccw9///vfsVqtXopOKd92ZDnqv12YSOfwQJd9R5ajvmHJVj7dkY1NZ7ZolzzVcjwESDHG7DLGlAOLgatqlDFAhON5JHDQQ7GpZhBs8WPOJb1d7sZLK6v42yeppGR5b5UipdqqkJAQZsyYwVNPPUV0tGvf/6VLlzJp0iR+++03L0WnlG9rbctRK8+yNF6kWXQF9jm93g8MrVFmFvCpiPwJCAWG13Wiw4cPM3XqVCwWCzabjbFjxzJt2jTS09MJDQ3F39+fgoIC4uPjycnJwRhDfHw8GRkZhIXZWzaLioro1KkTmZmZiAgxMTFkZmYSERGBzWajuLiYhIQE0tPTCQgIIDIykqysLCIjIykvL8dqtVbvDwwMJDw8nOzsbKKjo7FarZSWllbvDw4OJiQkhNzcXGJjYyksLKS8vLx6f0hICIGBgeTn5xMXF0d+fj4VFRXV+1vbNd0+MJAnvy9nX6F9iqnichv3fbSD6adHcGpS11Z5Td7+f6qZ+NRH60b7vKbevXvz3//+l5UrV/Lll18SGBhIly5d2LBhA2+//TbJyclccskl5ObmNus1dejQgREjRnD48GGioqLYs2ePz9YNrR96TQ1d06W9IukfHM7nBw2rUvKpcOpRcWQ56gGxFm48PYFOQVVuXZPzAFmbzebz9UO5Ek+McBaRCcClxpibHK+vA4YYY/7kVOYeRzxPishZwH+AQcYYl44/GzduNP369WvxmNWxyy2p4J6VOzlQUFa9LbZDAE+N6kvniMaXpVauoqOjpfFSWjfaO2MM77//Pv/85z8pLXUdeX/SSScxZ84cunfv3mzvN3nyZJKTkwHo168fixYtarZzu8vdugFaP5R7MgrLWfj9QT5PqT3rkgDD+8Yw5YzOxIcG1j7YyR1Lk0nJtndtSooN4YUxnv/da0r9UK481a1iP+D8qdyN2t0mpgLvABhjNgLBQByq1YnuEMDjlyXRMSygelt2SQX3rUohS9e4V6pFiAjjxo3jjTfeYMAA1yEdv/76K9deey3Lli3ThQ+UaoAuR63Ac8nxZqCviPQSkUDsA+6W1yizF7gIQET6Y0+OMz0Un2pmHcMCeXxkX2JCjvbcSS8s576PUsjVqXKUajE9e/bk1Vdf5eabb8bP7+hHvNVqZe7cudx7773k5upc5Eo15HiWo7ZVGUqdZrvQ29HWxyPJsTGmErgT+ATYhn1Wii0iMkdErnQU+wtws4j8DLwFTDHaxNGqdY0MYt7IJJeBDvvyy3hgVSqFZbrsrVItxWKxcOutt/LKK6/QtWtXl31ffPEFEydO5Ouvv/ZSdEq1Dk1Zjvrr3XnYqqp479fDXP/2FvbnH+1WuDvHyivfHnBJmJVv80if4+ak/cZanx2ZJfz1o52UOI1y6N+xA/NGJNEh0L+BIxVon2N1fIqLi3nqqaf44IMPau2bMGECd999N8HBtecwb4z2OVbtjbXCxnu/ZbLklwysFbUT3YhgfwpK6+9qMaBjKPNG9iEkwDN/97TP8bHTFfJUizshvgOPXNqHIP+j9XTb4RIeXr1LJ1pXqoWFhoby4IMP8sQTTxAZ6bo62JIlS5g0aRJbt271UnRKtR6NLUfdUGIM9uWqX/5WZ6ltDTQ5Vh5xUkIYD1/cmwCnT5OfDxUx9/PdVNg0QVaqpZ1//vm8/fbbnH322S7b9+zZww033MCrr76KzaYDjJRqTGPLUTdk9Y5s7VbYCmhyrDzmjG4RzLgw0eVu+5t9Bfxj3R5dhUgpD4iLi+OZZ57hvvvuIyjo6LSKNpuNF154gVtuuYUDBw54MUKlWo8jy1Hf83v3p0gssxm+3aeLivg6TY6VR52TGMX083ri/G3UF7vzePrrvVS1sv7vSrVGIsKECRN44403qNkH9+eff+baa69l5cqVOuWbUm7qGNbwnMc1FZRqy7Gv0+RYedxFSTHcNcz1TvuTHTm8uPGA/kFWykMSExN57bXXuOGGG1ymfCsuLmbWrFncd9995OXleTFCpVqH8KCmLTYcFqQD0X2dJsfKKy7vF8ctQ12nmPpgayYLvzvkpYiUan8CAgKYNm0aL730El26dHHZt2bNGiZOnMimTZu8FJ1SrUPvmBA6udl6HOAnDO4W0cIRqeOlybHymvEndeS60xJctr31cwaLf073UkRKtU+nnHIKb775JqNGjXLZnpWVxZ133skTTzxRa0lqpZSdv59w1QD3FvS9MCmaqJCAxgsqr9LkWHnV5FMTGH9SR5dtr24+xAdbdHFEpTwpLCyMWbNm8dhjj9Wa8m3x4sVcf/31JCcnY4zhu+++4+DBo1NSZWZmcuiQfuuj2q8xgzpyVo+GZ67oHRPCrTW+MVW+SZNj5VUiws1DunB5v1iX7c9v3M+nO7K9FJVS7dfw4cNZvHgxQ4cOddm+a9cupkyZwlVXXcVtt91GQcHREffZ2dlcddVVvPLKKzpuQLVL/n7Cg8N7MfnUBCJq9CkWYFS/OJ4c1ZewJvZPVt6hybHyOhHhT+d058I+0S7bn/pqL1/uyvVSVEq1X/Hx8Tz77LPce++9BAYe7UtZWVnp0mLsrKqqigULFvDf//7XU2Qs2kYAACAASURBVGEq5VMsfsL1p3fmzT8MokvE0XrTKyaYu4Z1J1RXhG01GryFEZHXgUabAYwx1zdbRKpd8hNh+nk9Ka2sYsOefACqDMxbm0aQxY+hjXxdpZRqXn5+fkycOJHBgwfz4IMPsmPHDreOe+mllxg9ejRRUVEtHKFSvinQ4kcHpyWi/URXcW5tGms5TgFSHY98YDTgD+x3HHsVoHP9qGbh7yfMuDCR07uGV2+zGZjz+W5+OljoxciUar/69OnDwoULiYmJcat8eXk5K1eubOGolFKq5TSYHBtjZh95ACcAlxtjJhljZhhjJgOXAyd6IlDVPgT6+/Hwxb0Z1Cm0eluFzfDQp7vYdrjYi5Ep1X75+/uTk5PjdvmtW7e2YDRKKdWymtLn+Eyg5oSX3wBnNV84SkGwxY9HLu1D37iQ6m2llVX87eNUUrNLvBiZUu1TUwfZ6aA8pVRr1pTk+EfgUREJAXD8+3fgp5YITLVvoYH+zBuRRM/o4OptReU27l+Vyt48nW9VKU+yWCz06NHD7fK9evVqwWiUUqplNSU5ngKcA+SLSAb2PsjDgD+2QFxKERFs4bGRSXSJCKrell9ayf0fpXCosMyLkSnV/owePdqtcn5+flx55ZUtHI1SSrUct5NjY0yaMeZsoA9wJZBkjDnbGLPbneNFZISIbBeRFBG5v54yV4vIVhHZIiJvuhubartiOwTw+Mgk4kOPriiUVVLB/R+lkF1c4cXIlGpfxo4dS9eujS9gMGHCBBISEhotp5RSvqpJ8xyLSCxwPnCeMWaviHQRkW5uHOcPPA+MBAYAfxCRATXK9AUeAM4xxgwE/q8psam2q1N4II9flkR0yNGZBw8VlnPfqhTyrJogK+UJYWFhPP/88w12r7jiiiv485//7MGolFKq+bmdHIvIecB2YBLwoGNzX+BFNw4fAqQYY3YZY8qBxdingXN2M/C8MSYXwBhz2N3YVNvXLTKYx0YmEe608tDevFJmfJxKUVmlFyNTqv3o1q0bb775JjNnziQk5OiA2fDwcF566SUeeughLBZdAUwp1bo1peX4aeAaY8wI4Eg28g32xLcxXYF9Tq/3O7Y5OwE4QUTWi8gmERnRhNhUO9ArJoRHR/ShQ8DRX9uUbCszP9mFtcLmxciUaj+Cg4MZPXo0PXv2rN7WtWtXTjvtNEQXO1BKtQFNucVPNMZ87nh+ZJ6ecjfPUdcnZs25fizYW6LPB7oBX4nIIGOMyyIjhw8fZurUqVgsFmw2G2PHjmXatGmkp6cTGhqKv78/BQUFxMfHk5OTgzGG+Ph4MjIyCAsLA6CoqIhOnTqRmZmJiBATE0NmZiYRERHYbDaKi4tJSEggPT2dgIAAIiMjycrKIjIykvLycqxWa/X+wMBAwsPDyc7OJjo6GqvVSmlpafX+4OBgQkJCyM3NJTY2lsLCQsrLy6v3h4SEEBgYSH5+PnFxceTn51NRUVG9X6/J9ZqCS7KYflZH5q3PoNxm/xXaeriY+1cmM+uiHhTk5rS6a2rs/yk62nVZ7fpo3dBr8uQ1dejQgREjRnD48GGioqLYs2ePz9YNrR96TZ6+JufpDG02m8/XD+VK3J2PUkTWA3OMMZ+ISI4xJkZELgFmGGPOb+TYs4BZxphLHa8fADDGzHMqswDYZIxZ6Hj9OXC/MWaz87k2btxo+vXr5+71qTbqu/0FPPTpLiqrjv7+ntkjgoeG98bi17Zar6Kjo926IK0bypMmT55McnIyAP369WPRokUej8HdugFaP5Rn3bE0mZRsKwBJsSG8MMbzv3tNqR/KVVO6VfwFeENE/guEiMi/gYXAdDeO3Qz0FZFeIhIITASW1yizDLgAQETisHez2NWE+FQ7cka3CGZckIhzHrxpbwGPr0vDVqULECillFLq2DRlKrdNwMnAFuBVYDcwpGbLbj3HVgJ3Ap8A24B3jDFbRGSOiByZEPMTIFtEtgJrgenGmOwmXY1qV4b1iuLec3u6bPtiVx7PfL2PKl2hSymllFLHwO0+xyJyijHmJ+Afx/JGxpiPgI9qbHvI6bkB7nE8lHLL8L4xWCtsPLthf/W2j3dkExLgx21ndtUBQh4wb20a+xyrFnaPCuaBCxK9Go9SSnlb96jgOp+r1qEpA/JWi0gm8CbwhruLfyjV0q4YEI+1sopXvj1YvW3plkxCAvyYckYXL0bWPuzLK63uW6eUUgptJGjlmpIcJwAjgD8AP4vIFuyJ8ts6J7Hytqt/1wlrRRVv/Jheve3NnzLoEODP1Sd38mJkSimlVOvTp0+fcOBCIBrIAtakpqaWeDcqz3A7OTbG2IAPgQ9FJAT7Ih63A08AQS0TnlLuu/60BEoqbCz9LbN62yubDxIc4MeVA+K9GJlSSinVOvTp0ycU+DswFQhz2pXXp0+fBcCs1NTUMq8E5yFNWj4aQESCgVHANcAZwFfNHZRSx0JEuG1oV0aeGOuy/bkN+1m9U8d2KqWUUg1xJMafAXfjmhgDRAH3Ayv79Onj8UZRETlfRFZ64r2asnz0ZSKyCDiMfVq3L4A+xpjhLRWcUk0lItx1Tncu6OM6+fmTX+7lq9159RyllFJKKeBR4MxGygzHniS3WU3pc/wE8BZwqjEmtYXiUeq4+fsJ08/rSWllFRv35ANQZeyzKgRZejGke6SXI1Rthc7UoZRqKxx9jG90s/gdffr0mZeamlrelPcQkUTgY+Br7En4z8BrwGygIzDJUfRpIASwAjcYY7bXOE8o8CxwEvZcdpYx5oOmxNKQpvQ5HtBcb6pUS7P4CX+7IJEHP93FjwcLAaisMsz5bDd/v7QPJ3cJb/QcmvioxuhMHUqpNuQianelqE9H4Gxg3TG8TxIwAbgF+yJx1wLDgCuBGcD1wLnGmEoRGY69NXtcjXP8DVhjjLlRRKKAb0XkM2NM8THEU0uDybGI/M0Y83fH8zn1lXOer1gpXxFo8WPWxb2Y8XEqWzLs9aXcZnho9S4eG5lE/46hDR6viY9SSql2JKaJ5aMbL1Kn3caYXwEcM599bowxIvIrkAhEAv8Vkb6AAQLqOMclwJUicq/jdTDQA/tCc8etsT7H3Zyed6/n0a2O45TyCSEB/sy9tA9JsSHV26wVVcz8JJVdmvgqpZRSR2S1cPkjnGe6qHJ6XYW90fYRYK0xZhBwBfbEtyYBxhljTnE8ehhjmiUxhkaSY2PM7U7Pb6jn4W7/FKW8IjTQn3kjk+jptEpRYZmN+1elVHebUEoppdq5z4F8N8seBDa1UByRwAHH8yn1lPkE+JM4lsEVkVObM4CmzFaxTEQmOKZya1dmzpzJ5MmTmTx5MjNnzvR2OOoYRAZbeGxkEl0iAqu35ZVWct+qFNIL2/R0jUoppVSjUlNTi4GX3Cz+XGpqakULhfIPYJ6IrAf86ynzCPbuFr+IyG+O182mKbNVfAFMB14RkWXYV8dbbYypas6AfFFaWhrJycneDkMdp9jQAB4bmcQ9K3eSVWyv01nFFdy/KoUnR51AbIe6ujUppZRS7cZDwOnYV8arzwfA/GM5uTEmDRjk9HpKPftOcDrsQcf+dTgGABpjrMCtxxKDO9xuOTbG/NMYMwT7wh+7sE+zcVBE/tVSwSnV3BLCg3h8ZBJRwUfvCw8WlHP/Rynkl1Z6MTKllFLKu1JTU0uBy4C51O5TfAj7LBHjU1NT2/QfzCavkGeM2WmMmQ1MBH4BpjV7VEq1oO5Rwcwb2YewwKPf1uzJK+WBVSkUl9u8GFnrY4yhrPLol0eVVcaL0SillDpeqampZampqQ9in3DhIuzTqJ0P9ExNTX20rSfG0MTkWET6iMhMx9QbnwI7gfNaJDKlWlCf2A78fUQfQgKOVoGUbCszP0nFWqEJsju+3p3Hbe8nsy//aJ/ttNxSZq/exYF87cetlFKtmSNJXpOamvp+amrqFy3Yx9jnNGVA3mbgB+z9QO4Fuhhjphljvm6p4JRqSf07hvLIJb0J9JfqbVsyipm1ejfllVVUmaOtoDajLaLOlv52mDmf72Z3bu3ZPtbvyefu5dvZnaNT5SmllGp93BqQ55gqYxnwrDGmoGVDUspzftc5nIeG92LW6t3VXQJ+PFjIDUu2kll89CZ5d04pcz7bxaRTE+gT28Fb4fqEnVklLNh0oMEyBWU2Hvl8N6+M74+fSINllVJK+Z7B89eEYx+YF429//GazdMvLPFuVJ7hVsuxMcZgX9Kv6FjfSERGiMh2EUkRkfsbKDdeRIyInHGs76VUUwzpHskDFyTi55TDOSfGR3ydls//Ld/BDwfa9/3hsi2ZuNOOvj+/jO/2t++fVVuWmJhIv3796NevH4mJid4ORynVTAbPXxM6eP6ap7HPZbwMeA1YARwYPH/NvMHz1wR5NUAPaEqf4x9xnVrDbSLiDzwPjAQGAH8QkQF1lAsH7gK+OZb3UepY/b5XFHef073RcmU2w5zPdpNrbTddr2pZn5bndtmvd7s7n7xqbebOncuiRYtYtGgRc+fO9XY4SqlmMHj+mlDgM+BuIKzG7ijgfmDl8STIInKXiGwTkTeOPdIGzz/LaVnpY9KU5Hgd8LHjTaeKyI1HHm4cOwRIMcbsMsaUA4uBq+oo9wj2yZ99ZtmyyspKCgsLq18XFBRQWuoz4almFGRxrzqUVFTx8fbsFo7GN1VWGUoq3J/a/HBxeQtGo5RSqpk9CpzZSJnh2JPkY3UHcJkxZtJxnKNFNWURkHOA3dSencIArzZybFdgn9Pr/cBQ5wKOpf+6G2NWNpTxHz58mKlTp2KxWLDZbIwdO5Zp06aRnp5OaGgo/v7+FBQUEB8fT05ODsYY4uPjycjIICzMfhNUVFREp06dyMzMRESIiYkhMzOTiIgIbDYbxcXFJCQksHHjRtasWUNVVRUjRowgJSWFiIgI5s+fz4knnsjQoUMJDAwkPDyc7OxsoqOjsVqtlJaWkpCQQHp6OsHBwYSEhJCbm0tsbCyFhYWUl5dX7w8JCSEwMJD8/Hzi4uLIz8+noqKien9zX1N6ejoBAQFERkaSlZVFZGQk5eXlWK3W6v3t9Zo+2+F+i+jq5EzOji7zyDVFR0e7FZOn6kZIgB9WNxPkHw4UMn3Zb4zqH8cJkVBeVtamfo8qK4/OaFReXk5GRkarv6bWVN/drRuerB/t4eeu19Q6rqkp9QOq+xi70+AJcMfg+WvmbZ5+YZNaQERkAdAbWC4ii4E+wEnY89FZxpgPRGQKMBr76niDgCeBQOA6oAx7Yp0jIjcDtzj2pQDXGWNKarxfH+w9F+KBEuBmY0yjq7qJ8cAofBGZAFxqjLnJ8fo6YIgx5k+O137AGmCKMSZNRNYB9xpjvqt5ro0bN5p+/fq1eMwrV65k1qxZDZa5+eabufXWFlugRXnYnz7YzvZM98YaRAVbeGfySS0ckV10dLRbI9o8VTfmf7GH1Ttzmnxc5/BALu8fx6UnxBIZ3JT7ct91x9JkUrLts3IkxYbwwpiW//mro9ytG+C5+qGUr2hK/QAYPH/NaGBpEw65YPP0C9c1KShARNKwLyh3D7DVGLNIRKKAb4FTgQnATMfzYOyJ733GmAUi8k9gjzHmaRGJNcZkO845F8gwxjwrIrOAImPMEyLyOXCbMWaniAwF5hljGlr9D2jaVG5+9T3cOHw/4Nyhsxv2jt5HhGO/O1jn+KGdif2uwiuD8vLy8pg3b16j5V5++WW2b9/ugYiUJ4QG1reEe20dmlC2rRkzMJ5jmX/iUGE5r3x7kGvf+o1/rEtj2+FiPHFzrpRSyi0xTSzftKbp2i4B7heRn7B33Q0Gejj2rTXGFBpjMoF87AMCAX4FEh3PB4nIVyLyKzAJGOh8chEJA84Gljje499AZ3cCa0qf40qgop5HYzYDfUWkl4gEYl9db/mRncaYfGNMnDEm0RiTCGwCrqyr5dgTli9fTlmZe4sYLFmypIWjUZ4ytHtEi5Rta5LiOnDbmV0bLBMe6McfT0/gxPja095V2AyfpeRy9/IdTFu2nY+Ss3ThFaWU8r6ay0U3d/maBBhnjDnF8ehhjNnm2OechFU5va7iaJfghcCdxpiTgNnYk2tnfkCe0/lPMcb0dyewpiTHvbD3EznyOAd7Jn9LYwcaYyqBO4FPgG3AO8aYLSIyR0SubEIMHrFp0ya3y37zjU6s0VZc3DeGDgGNVwk/gSsGxHkgIt81ZlBHHrqoF71jan4WwbDESP51VT8mndqZZ686keeuOpFLT4hxWWzliJRsK09/vY9r39rCCxv3szdPB7sqpZSXfI69ldYdB7E3ZB6PT4A/OdbSODL2rCnCgUMiEoC95diFY12O3Y6uvYjdye6c2O2Of8aYPTU27RGRP2JvFf6PG8d/BHxUY9tD9ZQ93924WkJTZqPIy8vDarUSEhLSghEpTwgLsvDX83sy57PdVDXwbf/tZ3ajW2TtpLC9GdYrinMSI7np3W3VS0gnRgfz0PDeLuVOiO/AX+J7csvQrqzemcOKrVkcKHD9Zqa43MayLZks25LJyZ3DuGJAHGf3jMLipwuI+Kp5a9PY57iZ6R4VzAMXJHo1HqXU8dk8/cLiwfPXvARMd6P4c5unX3i8c5o+AjwN/OJIkNOAUU04/kHsU//uwd7dIryOMpOAF0VkJhCAfba0nxs78fGOionAPgKwTYmPd/+SrFYrI0aMYNSoUYwfP55evXq1YGSqpZ3dM4p5I5JYsGl/raWRE8IDueGMLlzQ53i7WbUdIuIyBV5DyWx4kIWxgzoyemA8Px0sZOW2LDbsya91I/LzoSJ+PlRETAcLl50Yx2X9YokLDWypS1DHaF9eafVgRKVUm/EQcDr2lfHq8wEw/1jfwNF99ohasxoYYxZi7zJRq7zzPmPMi8CLdRw/y+n5bmBEU2NsyoC810Xkf06Pd4HvgUVNfVNfN3LkyCaVLy4u5u2332bChAnceuutrF69moqK9rtIRGt3atdwFoztR7fIo3Ocd4kIZOHVAzQxbgZ+IpzWNYKHhvfm9YkDmXxqAjEhte/Tc0oqWfRjOpMXb2HOZ7v48UChDuBTSqkWtHn6haXAZcBcavcpPgT8DRi/efqFlTWPbUua0nKcUuN1EbDAGPNZM8bjE4YNG0bv3r3ZtWtXk4/9/vvv+f7774mNjWX06NGMGTOGhISEFohStSQRIdipRbRDgD9+ol/xN7f40ECuP70z156awIY9eazYmsXPh1xXqa8y9qW7v07Lp1tkEKP6x3Fx3xjCg9rGdHBKKeVLNk+/sAx4cPD8NXOxjy+LArKBDc3QlaJVaPSvi4icDpQZY2Y7XnfE3kdkILBRRDYZY4oaOkdrY7FYeOqpp7j99ts5dOhQnWXCw8OZPXs227ZtY+nSpWRlud5gZWdn85///IfXXnuN3//+90yYMIEhQ4bg59eUMZBKtQ8WP+HcXtGc2yuavbmlrEzO4tMd2bVW49ufX8aCTQd4bfNBLugTw6gBcZwQV3tGDKWUUsfHkSSv8XYc3uBOpvY04Nz0+RKQ5Ph3EPblntucbt268b///Y/rr7/eJaEVEcaOHcvrr7/Oueeey6233srKlSt5/PHHGTx4cK3zVFVV8cUXX3DnnXcybtw4Fi1aRF6e+yuxKdXe9IgO5o6zuvHWtYP4v2Hd6RNbe7Brmc3w8Y5s7ly2nT99sJ1Pd2RTVun+stZKKaVUfdz5XrI/8BWAYwWTy4GBxpgdIrIc2IB9new2Jzo6mrvuuotvvvmmerGPvn37MmPGDJdyFouFiy66iIsuuoi0tDTee+89VqxYQVGRa4P6vn37ePrpp3nhhRe45JJLGD9+PAMHDkT063qlagkJ8OeyfnGMPDGW5MwSVmzN5ItdeVTUGMG3PbOE7Zl7+fc3B7j0hFgu7xdHV6f+4koppVRTuNNybAGOrJ19JnDIGLMDwBizD3tflDbNOXltrFtEYmIif/nLX1i1ahUzZ86kruVKy8vLWblyJVOmTOG6665j2bJlWK066lupuogI/TuG8tfzE3nz2kHcNKQLCeG1Z68oLLPx7q+HuWHJVmZ8nMKGPXnYGpqTTymllKqDO8nxFuzrXIN9ZbvqAXgi0hX3J4xuV0JCQhg9ejSvv/46Cxcu5IorriAoqHZrVnJyMnPnzmXkyJE88cQTpKWleT5YpVqJyGALV/+uEwuvHsDcS3tzZo+IOpey/m5/IbNW7+b6t7fw5o/p5JS0izEkSimlmoE73SruA1aIyALABgxz2ncNsL4lAmsrRIRBgwYxaNAg/u///o8VK1bw3nvvsW/fPpdyRUVFLF68mMWLF3PGGWcwfvx4zj//fCwWHZGvVE1+IgzpHsmQ7pGkF5bxUXI2q7Znk1/qOrtQZnEFC78/xOs/HGJYryiu6B/PSQmh2pVJKaVUvRrNvIwxX4tID+AEYIcxptBp94fYVxtRboiMjGTy5Mlce+21fPvtt7z77rt8+eWXVFW5DiT67rvv+O6774iLi2PMmDGMHj2aTp06eSlqpXxbQngQNw7uwuTTElifZp8O7reMYpcyNgNf7Mrji1159IwO5or+cVyUFENooL+Xom7dyiurKCq3Vb8urazCGKM3HUqpNsGtZklHQvx9Hdu3N3tE7YCfnx9nnnkmZ555Junp6SxbtoylS5eSnZ3tUi4rK4uXX36ZV199ld///veMHz9ep4PzoO5RwXU+V74p0N+PC/rEcEGfGHbnWFmxLYvPU3Kw1pgObk9uKc9t2M8r3x5keFIMo/rH0buOGTFUbcYY3vstk7d/znBppd+fX8adH2znzrO7079jqBcjVEqp46ff2XtZQkICt912GzfddBPr1q3j3Xff5bvvvnMpY7PZWLduHevWraN79+6MGzeOK664gsjISC9F3T48cEGit0NQx6hXTAh3ndOdqYO78HlKDiu2ZbGnxnLgpZVVrEzOYmVyFgM7hXJF/ziG9Yoi0F9vPuvz728O8P5vmXXu25llZfqHO3l0RBK/6xzm4ciUUqr56F8BH2GxWBg+fDgLFixgyZIlTJw4kdDQ2i0wR6aDu+yyy5g9ezZbtmzxQrRKtQ6hgf5cOSCel8b248lRfTm/dxQWv9pf/W/JKOaxdXuY9NYWXt18kPTCMi9E69t+PFhYb2J8RLnN8Ni6NCp1lhClVCumLcduSExMrPN5S+nVqxf33nsv06ZN45NPPmHJkiXV8ywfUVZWxooVK1ixYgX9+/dn3LhxjBgxguBg/fpfeVZr6H4iIpyUEMZJCWHkllTw8Y5sVm7LIrPYdRaL/NJKFv+cwds/ZzCkewRXDIjjjG4RdS4dboxxWXikLU8bZ6syvPtLhltls4or2JCWx7m9o1s4KqWUahliTOv6QN+4caOpa+7gtswYw5YtW1iyZAmrV6+mvLy8znLh4eGMGjWKcePGNVsSP3PmzOrp5RITE5k7d26znFe5Lzo62q1RTu2xbhwPW5Xh230FrNiWyXf7C+stlxAeyKh+cVx6YiyRwfb2hA178nj9h3RSs13nJz+3VxRTh3Shc7jvLUJSbquiqMxGUZmNwvJK+/PyI69tFJW5bisqr6TQ8bpmv+3GXNI3hnvP69lCV3KUu3UDtH6o9qcp9UO50pbjVsB5Org///nP1dPB7d+/36VcYWEhb731Fm+99RaDBw9m/PjxnHfeecc1HVxaWhrJycnHewlK+Rx/P+GsnpGc1TOSA/llfJicxSc7sikss7mUSy8s55XNB/nvD4c4t1cUkcGWersXfLk7j58PFfHE5Un0jG7eQX7GGEods0QUldkoLLNRXG6jsKyyxrajSe2RRLi4zEaZzXMNISVNTKaVUsqXeCw5FpERwDOAP/CKMeaxGvvvAW4CKoFM4EZjzB5PxddaREVFcd111zFp0iS++eYb3n33Xb766qta08Ft3ryZzZs3V08HN2bMGDp27OilqJXybV0jg7hlaFf+eHpnvtydy4qtWSRnlriUqbAZPk/JbfRc+aWVPPJ5Gi+N61erO0aVMVgrquwJbT0tt4XlTkmvo8yRRLi19OWN6aDtLkqp1ssjn2Ai4g88D1wM7Ac2i8hyY8xWp2I/AmcYY0pE5HbgH9gXGVF18PPz46yzzuKss84iPT2dpUuXsmzZsgangzv33HMZP348gwcP1unglKpDkMWPi/vGcnHfWHZmlbByWxZrUnKa3Oq6N6+Uez/cSYCfH0VOXRiKy234cn7rJxAW6E9YkD9hgRbCgvwJd7zenllCSrZ7y9xf0Ef7GyulWi9P3d4PAVKMMbsARGQxcBVQnRwbY9Y6ld8ETPZQbK1eQkICt99+u8t0cN9/7zottc1mY+3ataxdu5YePXpUTwcXERHhpaiV8m194zrw59/34OYhXVi90z4d3P5892ex+C29uPFCLSDATwgL8ic00J9w5yT3yLZAf8KCXBPfI2U6BPjVu5DHvrxSbn0/udHW6wEdQxmgcx0rpVoxTyXHXQHn9ZL3A0MbKD8VWNWiEbVBAQEBXHzxxVx88cXs2rWL9957j5UrV1Jc7PpHeu/evfzzn//khRde4JJLLmH8+PEMHDiw1vnKysooKCiofp2Xl0dRURFhYTqHqWo/woIsjBnUkcv7xTJq4S8eec8gi191C251AhtksW87kvQ6JbVHt1kI8pcWWamue1Qw953fk8fWplFfQ3qXiCD+dlGirpSnlGrVPJUc1/VJWefHq4hMBs4Azqtr/+HDh5k6dSoWiwWbzcbYsWOZNm0a6enphIaG4u/vT0FBAfHx8eTk5GCMIT4+noyMjOqkrqioiE6dOpGZmYmIEBMTQ2ZmJhEREdhsNoqLi0lISCA9PZ2AgAAiIyPJysoiMjKS8vJyrFZr9f7AwEDCw8PJzs4mOjoaq9VKaWlp9f7g4GBCQkLIzc0lNjaWwsJCysvLq/eHhIQQGBhIfn4+cXFx5OfnU1FRUb3/WK8pISGBq6++muuuu47vv/+eHTt2M/KBIQAAEsZJREFUsGLFCs4++2yKi4tJSUnh5JNPZtu2bTzzzDMMHDiQXr16MXDgQDp06MBPP/3E999/T2BgIEOGDCEmJoYNGzbw5JNPMmjQIIYPH05eXp5Hr6kt/j+5c03R0e59Ra11o2Wv6dChQwT5i9tdLPwFooL9CPEXokODsJgKIoIDCA+y4F9VQceocPwqSwnyq6J7pzisBbnER4QSHhyAtbiwnmsKqX1NlUJMRAyZmYfwj4igqAX/n07vGMuMs2JYvqOQn7OOToPnB1zUI5jJZ3SlIj+LPVm+VTe0fug1tcdrakr9UK48MpWbiJwFzDLGXOp4/QCAMWZejXLDgWeB84wxh+s6l07Hc2yMMfz666+8++67fPbZZw1OB9evXz82b97c4Pmuv/567rrrrpYI1Wf4yjR2OpWb7/jHujQ+c2NQHsDcS3szpHvbXcXy1ve2sdux6mCf2BBeHOP53z2dyk2p+ulUbsfOU6OyNgN9RaSXiAQCE4HlzgVE5FTg38CV9SXG6tiJCL/73e+YM2cOH330EXfddRddu3atVa6wsLDRxBjgf//7H9u2bWuJUH2CMYatW7eSnJxMcnIyv/32G5WVld4OS3nZ6IHuzfjSLTKIM7q17f78/k4rDepfYKVUW+KR5NgYUwncCXwCbAPeMcZsEZE5InKlo9h8IAxYIiI/icjyek6njlNUVBTXX389S5cu5V//+hfnnnvuMc1e8fzzz/Pbb7+xa9cu0tPTKSgoaBMJ5Pr16xk/fjx7/7+9+w+Ous7vOP58k9+EDVkgBIIhCxMoYloUNTeNytTzSOJp1TrHnDrYTksF0et4/mKUoRVa59qO+HPuDkd7IFw7VuMxVwfPKeLp1UMRR0SGX6PYJiRASELID0IwP/j0jyx7CcmShWz2m82+HjMZdvf7ye77E3zH13747vdz+HDosZqaGm677Ta2bNniYWXitdk5Y1lanHfBMb60JP7+phkD7qonIolh1apVLF68mMWLF7Nq1Sqvy5GLFLOLUTrnfgP85rzH/qHX7e/FqhbpMWbMGEpKSigpKaG2tpbNmzezadOmiAPujh072LFjR7/HU1NTGTt27CV/ZWZmkpGREfozLS0tZh/w2bZtGytXrux33WjoOWdx9erVNDU1sXixLqaSqH7wJ7lMHpfKL3fVUtV0ps+xPy0Yz9LiPKaNH5nbaItIbGgDrfimK7UL0HM5uAceeIBPP/2Uffv2Dem5Ojo66OjooKmpKSq1JSUl9QnP54LzpYbujIyMAVfKm5ubWbNmzYDBuLcXX3yR6667jhkzZkRlfhJ/Fsz0c8OMbJa8dSB0ebeAP501C2d6XJmIiAyVwrH0MXXq1CGH42jr7u6mtbWV1tbWqD1nRkZGv1XqxsZG2tsH3+TAOUdFRQUrVqyIWj0Sf8yM9OQ/vMlKHqPTKERERgOFY+njlltuYdu2bRGNvfXWW5k3bx6nT5++qK/u7u5hnsXg2tvbaW9v77ejYKQ+/vjjKFckIiIiI4HCsfRRUlLC7Nmz+eqrry44btKkSTz22GMXvSGIc46Ojo4+YbmtrY329vY+f54+fbrfY+GOfftt5LuWRcvp06dj/poiIiIy/BSOpY+kpCSee+45li9fTnV19YBj/H4/L7zwwiXtlGdmpKWlkZaWFrULlHd1dfUJzpf6VVtbG/b6z+ebOHFiVGoXEZHR4+zZs+zcuZNjx46FHmtpaaGzs5OUlBQPK5OLoXAs/UyZMoVNmzbx+uuvs379+tDVK8aMGcPdd9/NPffcQ25ursdV/kFycjI+nw+fzzek59m6dSsrV66MaGxZWdmQXktEREaX6upqVqxYwddff93n8aNHj3L77bfzk5/8hCuvvNKj6uRixGoTEIkzPp+PpUuXUlhYGHps1qxZPPzwwyMqGEfTjTfeOODGKOfz+XzccccdMahIZOTKz06ncGIGhRMzyM/WpesksdXX17Ns2bJ+wficuro6HnzwQfbv3x/jyuRSaOVYIharaw17JSUlheeff57ly5eH/aBeRkYGzzzzDNnZ2TGuTmRkefLGgNcliIwYr7zyCnV1F97c99tvv2Xt2rWsX78+RlXJpdLKsUgvM2fOZOPGjdx555393gyUl5ezceNGrrnmGo+qExGRkebUqVO8++67EY3ds2dP2NVlGTm0ciwXFAgEBrw9mk2ZMoWVK1eyd+/e0FU7Zs2axdNPP+1xZSIi4iXnHMePH6eqqorKykoqKyvZu3cvZ86cGfybg/bs2cOsWbOGsUoZKoVjuaBEDoQzZ84M7aSXKG8MREQEzpw5Q3V1dSgAnwvDVVVVEW0WdSGdnZ1RqlKGi8KxSBiJ/MZARGS0c85x4sSJPgH4XAg+duwYzrlhed3p06cPy/NK9Cgci4iIyKjV2dk54CpwZWUlbW1tQ35+v99PV1cXra2tg47Nzc2luLh4yK8pw0vhWEREROJeU1PTgAH46NGjdHd3D+m5k5KSuOyyywgEAhQUFBAIBEK3x48fzxdffMH9998/6Ovcd999JCcreo10+hsSERGJsoaGBjZv3szWrVtpbGxk3LhxXH/99SxatIgZM2Z4Xd6wqq+vZ/Pmzbz33nuhud9www0sWrRoyJ/f6Orq4siRI33C77kw3NzcPOTafT4fM2bMoKCgoE8InjZt2gV3uLvqqqtYs2YNq1evDm2cdb5ly5bpGvlxQuFYREQkirZv386TTz7J6dOnQ4+1tLTw5ptv8tZbb/HII49w1113eVjh8Nm+fTtPPPFEnw+ttbS08MYbb1BRURHx3FtbWwcMwNXV1WHDZ6TGjBlDXl7egKvAfr//kq/pX15ezuWXX05FRQUVFRWhVeSsrCxeeuklioqKhlS3xI7CsYiISJQcPHiQxx9/nI6OjgGPnz17lrVr15KdnU15eXmMqxteBw4ciGjufr+fsrIyuru7qa2t7ReAq6qqwm7EdDEyMzP7rQAXFBSQn59PWlrakJ9/IAUFBTz22GPs3r2bgwcPApCXl6dgHGdiFo7NrBx4EUgC/s059y/nHU8DNgFXAyeAHzrnKmNVn4iIyFC9+uqrYcNhb+vWraO0tDR0ucjRINK5P/3002zYsIHDhw9HNH4wU6dO7ReAA4EAkyZNGvU7u8rwiEk4NrMk4GfAQqAG+MzM3nbO9d5kfAlw0jlXaGZ3Af8K/DAW9YmIiAxVQ0MDH330UURjjxw5QllZ2bCtYMba2bNnB90++Zz29nYOHTp0Uc+fnp7O9OnTQwH4XAguKCggPT39UkoWCStWK8fFwCHn3P8CmNl/ArcDvcPx7cDq4O23gJ+ambnhutCgiIhIFFVVVXH27NmIx588eXIYq4lPOTk5/VaAA4EAkydPHlWr7DKyxSocTwOqe92vAb4TboxzrsvMmoGJQEPvQXV1dSxZsoTk5GS6u7u58847efDBB6mtrSUzM5OkpCRaWlrIycmhsbER5xw5OTkcP36ccePGAT37oOfm5lJfX4+ZMWHCBOrr68nKyqK7u5u2tjamTJlCbW0tKSkpjB8/noaGBsaPH09HRwft7e2h46mpqfh8Pk6cOIHf76e9vZ0zZ86Ejqenp5ORkcHJkyeZOHEira2tdHR0hI5nZGSQmppKc3MzkyZNorm5mc7OztBxzUlz8vv9ETWZeiP2c+r9waCOjg6OHz8e93OKp7+nSHsjVv3R1dVFVlYWJSUltLW1cejQIebNm8ehQ4fIyspi8uTJfPzxx5SUlNDS0sLhw4cpKiri4MGDTJ48mQkTJoSONzY2UldXx5w5c9i7dy/Tp08nKysrdLyuro6WlhYKCwv58ssvKSwsJDMzM3T86NGjdHR0EAgE2LVrF3PnziU5OZldu3ZRXFxMdXXP/5Lz8/PZuXMn8+fPp6uri/379zN//nwqKytJTU0lLy8v9JzRnFNNTQ3FxcXk5uYyduxYcnJyyM3Nxefz9ftvye/3U11dHVf9MXbsWMrLy6mrqyM7O5uqqqoR3R/Sl8ViYdbMFgFlzrm/Dd6/Fyh2zv1drzH7gmNqgve/CY7pc1b+J5984ubMmTPsNYuMFH6/P6KT5tQbsffPH1RS3XQGgPzsdJ68MeBpPYkm0t6A2PRHa2srZWVlEZ9HW1RUFAo/8a6rq4vPP/884l3lNm7cyBVXXDHMVXln1apVVFZWAhAIBDzZcfVi+kP6itXKcQ2Q3+v+ZcDRMGNqzCwZGA80xqY8EZGLpzAsvfl8PkpLS9myZcugY2fPns2GDRtG1QfGnnrqKd55551Bx82ZM4e5c+fGoCLveBGGJXpidQLPZ8AsM5thZqnAXcDb5415G/ir4O0fAL/V+cYiIhJPli5dSnZ29gXHJCUl8eijj46qYAyRzT05OZmHH3541M1dRpeYhGPnXBfwI+C/gQPAm865fWb2j2Z2W3DYL4CJZnYIeAR4Iha1iYiIREteXh4vv/wy06ZNG/D4uHHjePbZZ7n66qtjXNnwmzZtGuvWrSMvL2/A4z6fj7Vr147KucvoEpNzjqNJ51VKotE5xyIDG2nnHPfW2dnJhx9+yNatWzlx4kRoC+Wbb7551JxnHE5nZycffPBBn62zFyxYwM0330xmZqbX5SUMnXN86bRDnoiISJSlpKSwcOFCFi5c6HUpMZeSkkJpaSmlpaVelyJySXTRwIvw2muveV2CZzR3GUwi/5w0dxlMIv+cNHeJNwrHF2HTpk1el+AZzV0Gk8g/J81dBpPIPyfNXeKNwrGIiIiISFDcfSDv/fffrweqvHjtxsbGSRMmTGgYfOToo7l7OveGm266qXywQV72BoyIn5NnNHfP5h5Rb4D6w0ua+8jvD+kr7sKxiIiIiMhw0WkVIiIiIiJBCsciIiIiIkEKxyIiIiIiQQrHETCz9WZWZ2Z7va4l1sws38w+MLMDZrbPzB7yuqZYMbN0M9tpZl8G577G65pGokTtD/WGeiMS6g/1h/oj/ugDeREwswXAKWCTc67I63piycymAlOdc7vMzAd8DtzhnNvvcWnDzswMyHTOnTKzFOD3wEPOuR0elzaiJGp/qDfUG5FQf6g/UH/EHa0cR8A59z9Ao9d1eME5d8w5tyt4uxU4AEzztqrYcD1OBe+mBL/0bvI8idof6g31RiTUH+oP1B9xR+FYImZmAeAq4FNvK4kdM0sys91AHfCecy5h5i6RU2+oNyQ89Yf6I94oHEtEzGwc8Cvgx865Fq/riRXnXLdz7krgMqDYzBLmn0UlMuoN9YaEp/5Qf8QjhWMZVPCcqV8B/+Gc2+x1PV5wzjUBHwLabUhC1BvqDQlP/aH+iFcKx3JBwQ8W/AI44Jx7zut6YsnMcswsO3g7A/gecNDbqmSkUG+oNyQ89Yf6I54pHEfAzF4HPgH+yMxqzGyJ1zXF0HXAvcB3zWx38Ov7XhcVI1OBD8xsD/AZPeeNbfG4phEngftDvaHeGJT6Q/2B+iPu6FJuIiIiIiJBWjkWEREREQlSOBYRERERCVI4FhEREREJUjgWEREREQlSOBYRERERCVI4ln7M7M/MrMbrOkRGGvWGSHjqDxktFI4TgJlVmlm7mZ0ys+NmtiG4padIQlNviISn/pBEpXCcOP7cOTcOmA9cC6zyuB6RkUK9IRKe+kMSjsJxgnHOHQHeBYrMbEJwJeComZ00s18P9D1m9oSZfWNmrWa238z+otexQjP7nZk1m1mDmb0RfNzM7Hkzqwse22NmRbGZpcjFU2+IhKf+kESS7HUBEltmlg98H9gM/BI4BVwR/LMkzLd9A9wA1AKLgH83s0Ln3DHgn4CtwI1AKnBN8HtKgQXAbKAZmAM0DcOURKJCvSESnvpDEonCceL4tZl10fPL5h3g58ARYKJz7mRwzO8G+kbnXEWvu2+Y2ZNAMfBfQCdQAOQ552qA3wfHdQI+en6x7XTOHYjyfESiRb0hEp76QxKOTqtIHHc457KdcwXOuQeAfKCx1y+3sMzsL81st5k1mVkTUARMCh5eARiw08z2mdnfADjnfgv8FPgZcNzMXjGzrOGYmMgQqTdEwlN/SMJROE5c1cAEM8u+0CAzKwBeBX5Ez0pBNrCXnl9qOOdqnXP3OefygGXAz82sMHjsJefc1fT809ts4PFhm41I9Kg3RMJTf8iop3CcoILnfL1Lzy8kv5mlmNmCAYZmAg6oBzCzv6bn3T/B+4vM7LLg3ZPBsd1mdq2ZfcfMUoA24AzQPXwzEokO9YZIeOoPSQQKx4ntXnrO7zoI1AE/Pn+Ac24/8CzwCXAc+GNge68h1wKfmtkp4G3gIefc/wFZ9KwanASqgBPA2mGbiUh0qTdEwlN/yKhmzjmvaxARERERGRG0ciwiIiIiEqRwLCIiIiISpHAsIiIiIhKkcCwiIiIiEqRwLCIiIiISpHAsIiIiIhKkcCwiIiIiEqRwLCIiIiIS9P8Xu9SymD+gxQAAAABJRU5ErkJggg==\n",
      "text/plain": [
       "<Figure size 718.5x216 with 3 Axes>"
      ]
     },
     "metadata": {
      "needs_background": "light"
     },
     "output_type": "display_data"
    }
   ],
   "source": [
    "B_Embarked_Sex_Pclass_Survived=sns.FacetGrid(data=train_df,col=\"Embarked\",size=3)\n",
    "# (From up to down Pclass,From left to right survived)\n",
    "B_Embarked_Sex_Pclass_Survived.map(sns.pointplot,\"Pclass\",\"Survived\",\"Sex\")\n",
    "B_Embarked_Sex_Pclass_Survived.add_legend()\n",
    "plt.show()"
   ]
  },
  {
   "cell_type": "markdown",
   "metadata": {},
   "source": [
    "* For male passenger get in the titanic from 2 or 1 Pclass and Embarked C then Passenger has big chance to survive\n",
    "* Female passenger have much better survival rate than males\n",
    "* **Embarked and sex will be used in training."
   ]
  },
  {
   "cell_type": "markdown",
   "metadata": {},
   "source": [
    "<a id=6.8> </a>\n",
    "## H)  Embarked -- Sex -- Fare -- Survived"
   ]
  },
  {
   "cell_type": "code",
   "execution_count": 39,
   "metadata": {},
   "outputs": [
    {
     "data": {
      "image/png": "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\n",
      "text/plain": [
       "<Figure size 699.875x216 with 3 Axes>"
      ]
     },
     "metadata": {
      "needs_background": "light"
     },
     "output_type": "display_data"
    }
   ],
   "source": [
    "B_Embarked_Sex_Pclass_Survived=sns.FacetGrid(data=train_df,col=\"Embarked\",size=3)\n",
    "# (From up to down Pclass,From left to right survived)\n",
    "B_Embarked_Sex_Pclass_Survived.map(sns.pointplot,\"Sex\",\"Fare\",\"Survived\")\n",
    "B_Embarked_Sex_Pclass_Survived.add_legend()\n",
    "plt.show()"
   ]
  },
  {
   "cell_type": "markdown",
   "metadata": {},
   "source": [
    "* In Embarked Q has same ratio of surviving for both gender\n",
    "* In Embarked C if female pays much then they have big chance to survive\n",
    "* Passenger who pay higher fare have better survival\n",
    "* Fare can be used as categorical for training"
   ]
  },
  {
   "cell_type": "markdown",
   "metadata": {},
   "source": [
    "<a id=6.9> </a>\n",
    "##  I)  Fill Missing: Age Feature"
   ]
  },
  {
   "cell_type": "code",
   "execution_count": 40,
   "metadata": {},
   "outputs": [
    {
     "data": {
      "text/html": [
       "<div>\n",
       "<style scoped>\n",
       "    .dataframe tbody tr th:only-of-type {\n",
       "        vertical-align: middle;\n",
       "    }\n",
       "\n",
       "    .dataframe tbody tr th {\n",
       "        vertical-align: top;\n",
       "    }\n",
       "\n",
       "    .dataframe thead th {\n",
       "        text-align: right;\n",
       "    }\n",
       "</style>\n",
       "<table border=\"1\" class=\"dataframe\">\n",
       "  <thead>\n",
       "    <tr style=\"text-align: right;\">\n",
       "      <th></th>\n",
       "      <th>Age</th>\n",
       "      <th>Cabin</th>\n",
       "      <th>Embarked</th>\n",
       "      <th>Fare</th>\n",
       "      <th>Name</th>\n",
       "      <th>Parch</th>\n",
       "      <th>PassengerId</th>\n",
       "      <th>Pclass</th>\n",
       "      <th>Sex</th>\n",
       "      <th>SibSp</th>\n",
       "      <th>Survived</th>\n",
       "      <th>Ticket</th>\n",
       "    </tr>\n",
       "  </thead>\n",
       "  <tbody>\n",
       "    <tr>\n",
       "      <td>5</td>\n",
       "      <td>NaN</td>\n",
       "      <td>NaN</td>\n",
       "      <td>Q</td>\n",
       "      <td>8.4583</td>\n",
       "      <td>Moran, Mr. James</td>\n",
       "      <td>0</td>\n",
       "      <td>6</td>\n",
       "      <td>3</td>\n",
       "      <td>male</td>\n",
       "      <td>0</td>\n",
       "      <td>0.0</td>\n",
       "      <td>330877</td>\n",
       "    </tr>\n",
       "    <tr>\n",
       "      <td>17</td>\n",
       "      <td>NaN</td>\n",
       "      <td>NaN</td>\n",
       "      <td>S</td>\n",
       "      <td>13.0000</td>\n",
       "      <td>Williams, Mr. Charles Eugene</td>\n",
       "      <td>0</td>\n",
       "      <td>18</td>\n",
       "      <td>2</td>\n",
       "      <td>male</td>\n",
       "      <td>0</td>\n",
       "      <td>1.0</td>\n",
       "      <td>244373</td>\n",
       "    </tr>\n",
       "    <tr>\n",
       "      <td>19</td>\n",
       "      <td>NaN</td>\n",
       "      <td>NaN</td>\n",
       "      <td>C</td>\n",
       "      <td>7.2250</td>\n",
       "      <td>Masselmani, Mrs. Fatima</td>\n",
       "      <td>0</td>\n",
       "      <td>20</td>\n",
       "      <td>3</td>\n",
       "      <td>female</td>\n",
       "      <td>0</td>\n",
       "      <td>1.0</td>\n",
       "      <td>2649</td>\n",
       "    </tr>\n",
       "    <tr>\n",
       "      <td>26</td>\n",
       "      <td>NaN</td>\n",
       "      <td>NaN</td>\n",
       "      <td>C</td>\n",
       "      <td>7.2250</td>\n",
       "      <td>Emir, Mr. Farred Chehab</td>\n",
       "      <td>0</td>\n",
       "      <td>27</td>\n",
       "      <td>3</td>\n",
       "      <td>male</td>\n",
       "      <td>0</td>\n",
       "      <td>0.0</td>\n",
       "      <td>2631</td>\n",
       "    </tr>\n",
       "    <tr>\n",
       "      <td>27</td>\n",
       "      <td>NaN</td>\n",
       "      <td>NaN</td>\n",
       "      <td>Q</td>\n",
       "      <td>7.8792</td>\n",
       "      <td>O'Dwyer, Miss. Ellen \"Nellie\"</td>\n",
       "      <td>0</td>\n",
       "      <td>29</td>\n",
       "      <td>3</td>\n",
       "      <td>female</td>\n",
       "      <td>0</td>\n",
       "      <td>1.0</td>\n",
       "      <td>330959</td>\n",
       "    </tr>\n",
       "    <tr>\n",
       "      <td>...</td>\n",
       "      <td>...</td>\n",
       "      <td>...</td>\n",
       "      <td>...</td>\n",
       "      <td>...</td>\n",
       "      <td>...</td>\n",
       "      <td>...</td>\n",
       "      <td>...</td>\n",
       "      <td>...</td>\n",
       "      <td>...</td>\n",
       "      <td>...</td>\n",
       "      <td>...</td>\n",
       "      <td>...</td>\n",
       "    </tr>\n",
       "    <tr>\n",
       "      <td>1289</td>\n",
       "      <td>NaN</td>\n",
       "      <td>NaN</td>\n",
       "      <td>Q</td>\n",
       "      <td>7.7208</td>\n",
       "      <td>Riordan, Miss. Johanna Hannah\"\"</td>\n",
       "      <td>0</td>\n",
       "      <td>1300</td>\n",
       "      <td>3</td>\n",
       "      <td>female</td>\n",
       "      <td>0</td>\n",
       "      <td>NaN</td>\n",
       "      <td>334915</td>\n",
       "    </tr>\n",
       "    <tr>\n",
       "      <td>1291</td>\n",
       "      <td>NaN</td>\n",
       "      <td>NaN</td>\n",
       "      <td>Q</td>\n",
       "      <td>7.7500</td>\n",
       "      <td>Naughton, Miss. Hannah</td>\n",
       "      <td>0</td>\n",
       "      <td>1302</td>\n",
       "      <td>3</td>\n",
       "      <td>female</td>\n",
       "      <td>0</td>\n",
       "      <td>NaN</td>\n",
       "      <td>365237</td>\n",
       "    </tr>\n",
       "    <tr>\n",
       "      <td>1294</td>\n",
       "      <td>NaN</td>\n",
       "      <td>NaN</td>\n",
       "      <td>S</td>\n",
       "      <td>8.0500</td>\n",
       "      <td>Spector, Mr. Woolf</td>\n",
       "      <td>0</td>\n",
       "      <td>1305</td>\n",
       "      <td>3</td>\n",
       "      <td>male</td>\n",
       "      <td>0</td>\n",
       "      <td>NaN</td>\n",
       "      <td>A.5. 3236</td>\n",
       "    </tr>\n",
       "    <tr>\n",
       "      <td>1297</td>\n",
       "      <td>NaN</td>\n",
       "      <td>NaN</td>\n",
       "      <td>S</td>\n",
       "      <td>8.0500</td>\n",
       "      <td>Ware, Mr. Frederick</td>\n",
       "      <td>0</td>\n",
       "      <td>1308</td>\n",
       "      <td>3</td>\n",
       "      <td>male</td>\n",
       "      <td>0</td>\n",
       "      <td>NaN</td>\n",
       "      <td>359309</td>\n",
       "    </tr>\n",
       "    <tr>\n",
       "      <td>1298</td>\n",
       "      <td>NaN</td>\n",
       "      <td>NaN</td>\n",
       "      <td>C</td>\n",
       "      <td>22.3583</td>\n",
       "      <td>Peter, Master. Michael J</td>\n",
       "      <td>1</td>\n",
       "      <td>1309</td>\n",
       "      <td>3</td>\n",
       "      <td>male</td>\n",
       "      <td>1</td>\n",
       "      <td>NaN</td>\n",
       "      <td>2668</td>\n",
       "    </tr>\n",
       "  </tbody>\n",
       "</table>\n",
       "<p>256 rows × 12 columns</p>\n",
       "</div>"
      ],
      "text/plain": [
       "      Age Cabin Embarked     Fare                             Name  Parch  \\\n",
       "5     NaN   NaN        Q   8.4583                 Moran, Mr. James      0   \n",
       "17    NaN   NaN        S  13.0000     Williams, Mr. Charles Eugene      0   \n",
       "19    NaN   NaN        C   7.2250          Masselmani, Mrs. Fatima      0   \n",
       "26    NaN   NaN        C   7.2250          Emir, Mr. Farred Chehab      0   \n",
       "27    NaN   NaN        Q   7.8792    O'Dwyer, Miss. Ellen \"Nellie\"      0   \n",
       "...   ...   ...      ...      ...                              ...    ...   \n",
       "1289  NaN   NaN        Q   7.7208  Riordan, Miss. Johanna Hannah\"\"      0   \n",
       "1291  NaN   NaN        Q   7.7500           Naughton, Miss. Hannah      0   \n",
       "1294  NaN   NaN        S   8.0500               Spector, Mr. Woolf      0   \n",
       "1297  NaN   NaN        S   8.0500              Ware, Mr. Frederick      0   \n",
       "1298  NaN   NaN        C  22.3583         Peter, Master. Michael J      1   \n",
       "\n",
       "      PassengerId  Pclass     Sex  SibSp  Survived     Ticket  \n",
       "5               6       3    male      0       0.0     330877  \n",
       "17             18       2    male      0       1.0     244373  \n",
       "19             20       3  female      0       1.0       2649  \n",
       "26             27       3    male      0       0.0       2631  \n",
       "27             29       3  female      0       1.0     330959  \n",
       "...           ...     ...     ...    ...       ...        ...  \n",
       "1289         1300       3  female      0       NaN     334915  \n",
       "1291         1302       3  female      0       NaN     365237  \n",
       "1294         1305       3    male      0       NaN  A.5. 3236  \n",
       "1297         1308       3    male      0       NaN     359309  \n",
       "1298         1309       3    male      1       NaN       2668  \n",
       "\n",
       "[256 rows x 12 columns]"
      ]
     },
     "execution_count": 40,
     "metadata": {},
     "output_type": "execute_result"
    }
   ],
   "source": [
    "train_df[train_df[\"Age\"].isnull()]"
   ]
  },
  {
   "cell_type": "code",
   "execution_count": 41,
   "metadata": {},
   "outputs": [],
   "source": [
    "train_df2=train_df.copy()\n",
    "train_df2[\"Sex\"]=[1 if i == \"female\" else 0 for i in train_df2[\"Sex\"]]\n"
   ]
  },
  {
   "cell_type": "code",
   "execution_count": 42,
   "metadata": {},
   "outputs": [
    {
     "data": {
      "image/png": "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\n",
      "text/plain": [
       "<Figure size 360x360 with 1 Axes>"
      ]
     },
     "metadata": {
      "needs_background": "light"
     },
     "output_type": "display_data"
    }
   ],
   "source": [
    "sns.factorplot(x=\"Sex\",y=\"Age\",kind=\"box\",data=train_df)\n",
    "plt.show()"
   ]
  },
  {
   "cell_type": "code",
   "execution_count": 43,
   "metadata": {},
   "outputs": [
    {
     "data": {
      "image/png": "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\n",
      "text/plain": [
       "<Figure size 720x360 with 2 Axes>"
      ]
     },
     "metadata": {
      "needs_background": "light"
     },
     "output_type": "display_data"
    }
   ],
   "source": [
    "plt.figure(figsize=(10,5))\n",
    "ax=sns.heatmap(train_df2[[\"Age\",\"Sex\",\"SibSp\",\"Parch\",\"Fare\",\"Pclass\"]].corr(),annot=True)\n",
    "bottom, top = ax.get_ylim()  \n",
    "ax.set_ylim(bottom + 0.5, top - 0.5)\n",
    "plt.show()"
   ]
  },
  {
   "cell_type": "markdown",
   "metadata": {},
   "source": [
    "* There is no relation between Sex and Age"
   ]
  },
  {
   "cell_type": "code",
   "execution_count": 44,
   "metadata": {},
   "outputs": [
    {
     "data": {
      "image/png": "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\n",
      "text/plain": [
       "<Figure size 405.25x360 with 1 Axes>"
      ]
     },
     "metadata": {
      "needs_background": "light"
     },
     "output_type": "display_data"
    }
   ],
   "source": [
    "sns.factorplot(x=\"Sex\",y=\"Age\",hue=\"Pclass\",kind=\"box\",data=train_df)\n",
    "plt.show()"
   ]
  },
  {
   "cell_type": "code",
   "execution_count": 45,
   "metadata": {},
   "outputs": [
    {
     "data": {
      "image/png": "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\n",
      "text/plain": [
       "<Figure size 360x360 with 1 Axes>"
      ]
     },
     "metadata": {
      "needs_background": "light"
     },
     "output_type": "display_data"
    },
    {
     "data": {
      "image/png": "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\n",
      "text/plain": [
       "<Figure size 360x360 with 1 Axes>"
      ]
     },
     "metadata": {
      "needs_background": "light"
     },
     "output_type": "display_data"
    }
   ],
   "source": [
    "sns.factorplot(x=\"Parch\",y=\"Age\",kind=\"box\",data=train_df)\n",
    "sns.factorplot(x=\"SibSp\",y=\"Age\",kind=\"box\",data=train_df)\n",
    "plt.show()"
   ]
  },
  {
   "cell_type": "code",
   "execution_count": 46,
   "metadata": {},
   "outputs": [],
   "source": [
    "index_nan_age = list(train_df[\"Age\"][train_df[\"Age\"].isnull()].index)\n",
    "for i in index_nan_age:\n",
    "    age_pred = train_df[\"Age\"][((train_df[\"SibSp\"] == train_df.iloc[i][\"SibSp\"]) &(train_df[\"Parch\"] == train_df.iloc[i][\"Parch\"])& (train_df[\"Pclass\"] == train_df.iloc[i][\"Pclass\"]))].median()\n",
    "    age_med = train_df[\"Age\"].median()\n",
    "    if not np.isnan(age_pred):\n",
    "        train_df[\"Age\"].iloc[i] = age_pred\n",
    "    #else:\n",
    "    #    train_df[\"Age\"].iloc[i] = age_med  \n",
    "    #they doesnt work in jupyter that ı commented\n",
    "train_df[\"Age\"]= train_df[\"Age\"].fillna(age_med)"
   ]
  },
  {
   "cell_type": "code",
   "execution_count": 47,
   "metadata": {},
   "outputs": [
    {
     "data": {
      "text/html": [
       "<div>\n",
       "<style scoped>\n",
       "    .dataframe tbody tr th:only-of-type {\n",
       "        vertical-align: middle;\n",
       "    }\n",
       "\n",
       "    .dataframe tbody tr th {\n",
       "        vertical-align: top;\n",
       "    }\n",
       "\n",
       "    .dataframe thead th {\n",
       "        text-align: right;\n",
       "    }\n",
       "</style>\n",
       "<table border=\"1\" class=\"dataframe\">\n",
       "  <thead>\n",
       "    <tr style=\"text-align: right;\">\n",
       "      <th></th>\n",
       "      <th>Age</th>\n",
       "      <th>Cabin</th>\n",
       "      <th>Embarked</th>\n",
       "      <th>Fare</th>\n",
       "      <th>Name</th>\n",
       "      <th>Parch</th>\n",
       "      <th>PassengerId</th>\n",
       "      <th>Pclass</th>\n",
       "      <th>Sex</th>\n",
       "      <th>SibSp</th>\n",
       "      <th>Survived</th>\n",
       "      <th>Ticket</th>\n",
       "    </tr>\n",
       "  </thead>\n",
       "  <tbody>\n",
       "  </tbody>\n",
       "</table>\n",
       "</div>"
      ],
      "text/plain": [
       "Empty DataFrame\n",
       "Columns: [Age, Cabin, Embarked, Fare, Name, Parch, PassengerId, Pclass, Sex, SibSp, Survived, Ticket]\n",
       "Index: []"
      ]
     },
     "execution_count": 47,
     "metadata": {},
     "output_type": "execute_result"
    }
   ],
   "source": [
    "train_df[train_df[\"Age\"].isnull()]"
   ]
  },
  {
   "cell_type": "markdown",
   "metadata": {},
   "source": [
    "<a id=7> </a>\n",
    "# 7) Feature Engineering\n"
   ]
  },
  {
   "cell_type": "markdown",
   "metadata": {},
   "source": [
    "<a id=7.1> </a>\n",
    "##  A)  Name to Title"
   ]
  },
  {
   "cell_type": "code",
   "execution_count": 48,
   "metadata": {},
   "outputs": [
    {
     "data": {
      "text/plain": [
       "0                              Braund, Mr. Owen Harris\n",
       "1    Cumings, Mrs. John Bradley (Florence Briggs Th...\n",
       "2                               Heikkinen, Miss. Laina\n",
       "3         Futrelle, Mrs. Jacques Heath (Lily May Peel)\n",
       "4                             Allen, Mr. William Henry\n",
       "5                                     Moran, Mr. James\n",
       "6                              McCarthy, Mr. Timothy J\n",
       "7                       Palsson, Master. Gosta Leonard\n",
       "8    Johnson, Mrs. Oscar W (Elisabeth Vilhelmina Berg)\n",
       "9                  Nasser, Mrs. Nicholas (Adele Achem)\n",
       "Name: Name, dtype: object"
      ]
     },
     "execution_count": 48,
     "metadata": {},
     "output_type": "execute_result"
    }
   ],
   "source": [
    "train_df[\"Name\"].head(10)"
   ]
  },
  {
   "cell_type": "code",
   "execution_count": 49,
   "metadata": {},
   "outputs": [],
   "source": [
    "train_df[\"Title\"]= [ i.split(\".\")[0].split(\",\")[-1].strip() for i in train_df[\"Name\"]]"
   ]
  },
  {
   "cell_type": "code",
   "execution_count": 50,
   "metadata": {},
   "outputs": [
    {
     "data": {
      "text/html": [
       "<div>\n",
       "<style scoped>\n",
       "    .dataframe tbody tr th:only-of-type {\n",
       "        vertical-align: middle;\n",
       "    }\n",
       "\n",
       "    .dataframe tbody tr th {\n",
       "        vertical-align: top;\n",
       "    }\n",
       "\n",
       "    .dataframe thead th {\n",
       "        text-align: right;\n",
       "    }\n",
       "</style>\n",
       "<table border=\"1\" class=\"dataframe\">\n",
       "  <thead>\n",
       "    <tr style=\"text-align: right;\">\n",
       "      <th></th>\n",
       "      <th>Age</th>\n",
       "      <th>Cabin</th>\n",
       "      <th>Embarked</th>\n",
       "      <th>Fare</th>\n",
       "      <th>Name</th>\n",
       "      <th>Parch</th>\n",
       "      <th>PassengerId</th>\n",
       "      <th>Pclass</th>\n",
       "      <th>Sex</th>\n",
       "      <th>SibSp</th>\n",
       "      <th>Survived</th>\n",
       "      <th>Ticket</th>\n",
       "      <th>Title</th>\n",
       "    </tr>\n",
       "  </thead>\n",
       "  <tbody>\n",
       "    <tr>\n",
       "      <td>0</td>\n",
       "      <td>22.0</td>\n",
       "      <td>NaN</td>\n",
       "      <td>S</td>\n",
       "      <td>7.2500</td>\n",
       "      <td>Braund, Mr. Owen Harris</td>\n",
       "      <td>0</td>\n",
       "      <td>1</td>\n",
       "      <td>3</td>\n",
       "      <td>male</td>\n",
       "      <td>1</td>\n",
       "      <td>0.0</td>\n",
       "      <td>A/5 21171</td>\n",
       "      <td>Mr</td>\n",
       "    </tr>\n",
       "    <tr>\n",
       "      <td>1</td>\n",
       "      <td>38.0</td>\n",
       "      <td>C85</td>\n",
       "      <td>C</td>\n",
       "      <td>71.2833</td>\n",
       "      <td>Cumings, Mrs. John Bradley (Florence Briggs Th...</td>\n",
       "      <td>0</td>\n",
       "      <td>2</td>\n",
       "      <td>1</td>\n",
       "      <td>female</td>\n",
       "      <td>1</td>\n",
       "      <td>1.0</td>\n",
       "      <td>PC 17599</td>\n",
       "      <td>Mrs</td>\n",
       "    </tr>\n",
       "    <tr>\n",
       "      <td>2</td>\n",
       "      <td>26.0</td>\n",
       "      <td>NaN</td>\n",
       "      <td>S</td>\n",
       "      <td>7.9250</td>\n",
       "      <td>Heikkinen, Miss. Laina</td>\n",
       "      <td>0</td>\n",
       "      <td>3</td>\n",
       "      <td>3</td>\n",
       "      <td>female</td>\n",
       "      <td>0</td>\n",
       "      <td>1.0</td>\n",
       "      <td>STON/O2. 3101282</td>\n",
       "      <td>Miss</td>\n",
       "    </tr>\n",
       "    <tr>\n",
       "      <td>3</td>\n",
       "      <td>35.0</td>\n",
       "      <td>C123</td>\n",
       "      <td>S</td>\n",
       "      <td>53.1000</td>\n",
       "      <td>Futrelle, Mrs. Jacques Heath (Lily May Peel)</td>\n",
       "      <td>0</td>\n",
       "      <td>4</td>\n",
       "      <td>1</td>\n",
       "      <td>female</td>\n",
       "      <td>1</td>\n",
       "      <td>1.0</td>\n",
       "      <td>113803</td>\n",
       "      <td>Mrs</td>\n",
       "    </tr>\n",
       "    <tr>\n",
       "      <td>4</td>\n",
       "      <td>35.0</td>\n",
       "      <td>NaN</td>\n",
       "      <td>S</td>\n",
       "      <td>8.0500</td>\n",
       "      <td>Allen, Mr. William Henry</td>\n",
       "      <td>0</td>\n",
       "      <td>5</td>\n",
       "      <td>3</td>\n",
       "      <td>male</td>\n",
       "      <td>0</td>\n",
       "      <td>0.0</td>\n",
       "      <td>373450</td>\n",
       "      <td>Mr</td>\n",
       "    </tr>\n",
       "  </tbody>\n",
       "</table>\n",
       "</div>"
      ],
      "text/plain": [
       "    Age Cabin Embarked     Fare  \\\n",
       "0  22.0   NaN        S   7.2500   \n",
       "1  38.0   C85        C  71.2833   \n",
       "2  26.0   NaN        S   7.9250   \n",
       "3  35.0  C123        S  53.1000   \n",
       "4  35.0   NaN        S   8.0500   \n",
       "\n",
       "                                                Name  Parch  PassengerId  \\\n",
       "0                            Braund, Mr. Owen Harris      0            1   \n",
       "1  Cumings, Mrs. John Bradley (Florence Briggs Th...      0            2   \n",
       "2                             Heikkinen, Miss. Laina      0            3   \n",
       "3       Futrelle, Mrs. Jacques Heath (Lily May Peel)      0            4   \n",
       "4                           Allen, Mr. William Henry      0            5   \n",
       "\n",
       "   Pclass     Sex  SibSp  Survived            Ticket Title  \n",
       "0       3    male      1       0.0         A/5 21171    Mr  \n",
       "1       1  female      1       1.0          PC 17599   Mrs  \n",
       "2       3  female      0       1.0  STON/O2. 3101282  Miss  \n",
       "3       1  female      1       1.0            113803   Mrs  \n",
       "4       3    male      0       0.0            373450    Mr  "
      ]
     },
     "execution_count": 50,
     "metadata": {},
     "output_type": "execute_result"
    }
   ],
   "source": [
    "train_df.head(5)"
   ]
  },
  {
   "cell_type": "code",
   "execution_count": 51,
   "metadata": {},
   "outputs": [
    {
     "data": {
      "image/png": "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\n",
      "text/plain": [
       "<Figure size 432x288 with 1 Axes>"
      ]
     },
     "metadata": {
      "needs_background": "light"
     },
     "output_type": "display_data"
    }
   ],
   "source": [
    "sns.countplot(x=\"Title\", data = train_df) #Counter plot\n",
    "plt.xticks(rotation = 60)  #Rotation to labels 360\n",
    "plt.show()"
   ]
  },
  {
   "cell_type": "code",
   "execution_count": 52,
   "metadata": {},
   "outputs": [],
   "source": [
    "train_df[\"Title\"] = train_df[\"Title\"].replace([\"Don\",\"Rev\",\"Dr\",\"Mme\",\"Ms\",\"Major\",\"Mlle\",\"Col\",\"Capt\",\"the Countess\",\"Jonkheer\",\"Dona\",\"Sir\",\"Lady\"],\"Others\")\n",
    "train_df[\"Title\"] = [0 if i==\"Mr\" else 1 if i==\"Mrs\" or i==\"Miss\" else 2  if i ==\"Master\" else 3 for i in train_df[\"Title\"]]"
   ]
  },
  {
   "cell_type": "markdown",
   "metadata": {},
   "source": [
    "* Mr = 0\n",
    "* Mrs &  Miss = 1\n",
    "* Master = 2\n",
    "* Others = 3"
   ]
  },
  {
   "cell_type": "code",
   "execution_count": 53,
   "metadata": {},
   "outputs": [
    {
     "data": {
      "image/png": "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\n",
      "text/plain": [
       "<Figure size 432x288 with 1 Axes>"
      ]
     },
     "metadata": {
      "needs_background": "light"
     },
     "output_type": "display_data"
    }
   ],
   "source": [
    "sns.countplot(x=\"Title\", data = train_df) #Counter plot\n",
    "plt.xticks(rotation = 60)  #Rotation to labels 360\n",
    "plt.show()"
   ]
  },
  {
   "cell_type": "code",
   "execution_count": 54,
   "metadata": {},
   "outputs": [
    {
     "data": {
      "image/png": "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\n",
      "text/plain": [
       "<Figure size 432x432 with 1 Axes>"
      ]
     },
     "metadata": {
      "needs_background": "light"
     },
     "output_type": "display_data"
    }
   ],
   "source": [
    "g = sns.factorplot(x=\"Title\",y=\"Survived\",data=train_df,kind=\"bar\",size=6)\n",
    "g.set_ylabels(\"Survived Probability\")\n",
    "g.set_xticklabels([\"Mr\",\"Mrs\",\"Master\",\"Others\"])\n",
    "plt.show()"
   ]
  },
  {
   "cell_type": "code",
   "execution_count": 55,
   "metadata": {},
   "outputs": [],
   "source": [
    "train_df.drop(labels = [\"Name\"], axis=1,inplace=True)"
   ]
  },
  {
   "cell_type": "code",
   "execution_count": 56,
   "metadata": {},
   "outputs": [
    {
     "data": {
      "text/html": [
       "<div>\n",
       "<style scoped>\n",
       "    .dataframe tbody tr th:only-of-type {\n",
       "        vertical-align: middle;\n",
       "    }\n",
       "\n",
       "    .dataframe tbody tr th {\n",
       "        vertical-align: top;\n",
       "    }\n",
       "\n",
       "    .dataframe thead th {\n",
       "        text-align: right;\n",
       "    }\n",
       "</style>\n",
       "<table border=\"1\" class=\"dataframe\">\n",
       "  <thead>\n",
       "    <tr style=\"text-align: right;\">\n",
       "      <th></th>\n",
       "      <th>Age</th>\n",
       "      <th>Cabin</th>\n",
       "      <th>Embarked</th>\n",
       "      <th>Fare</th>\n",
       "      <th>Parch</th>\n",
       "      <th>PassengerId</th>\n",
       "      <th>Pclass</th>\n",
       "      <th>Sex</th>\n",
       "      <th>SibSp</th>\n",
       "      <th>Survived</th>\n",
       "      <th>Ticket</th>\n",
       "      <th>Title</th>\n",
       "    </tr>\n",
       "  </thead>\n",
       "  <tbody>\n",
       "    <tr>\n",
       "      <td>0</td>\n",
       "      <td>22.0</td>\n",
       "      <td>NaN</td>\n",
       "      <td>S</td>\n",
       "      <td>7.2500</td>\n",
       "      <td>0</td>\n",
       "      <td>1</td>\n",
       "      <td>3</td>\n",
       "      <td>male</td>\n",
       "      <td>1</td>\n",
       "      <td>0.0</td>\n",
       "      <td>A/5 21171</td>\n",
       "      <td>0</td>\n",
       "    </tr>\n",
       "    <tr>\n",
       "      <td>1</td>\n",
       "      <td>38.0</td>\n",
       "      <td>C85</td>\n",
       "      <td>C</td>\n",
       "      <td>71.2833</td>\n",
       "      <td>0</td>\n",
       "      <td>2</td>\n",
       "      <td>1</td>\n",
       "      <td>female</td>\n",
       "      <td>1</td>\n",
       "      <td>1.0</td>\n",
       "      <td>PC 17599</td>\n",
       "      <td>1</td>\n",
       "    </tr>\n",
       "    <tr>\n",
       "      <td>2</td>\n",
       "      <td>26.0</td>\n",
       "      <td>NaN</td>\n",
       "      <td>S</td>\n",
       "      <td>7.9250</td>\n",
       "      <td>0</td>\n",
       "      <td>3</td>\n",
       "      <td>3</td>\n",
       "      <td>female</td>\n",
       "      <td>0</td>\n",
       "      <td>1.0</td>\n",
       "      <td>STON/O2. 3101282</td>\n",
       "      <td>1</td>\n",
       "    </tr>\n",
       "    <tr>\n",
       "      <td>3</td>\n",
       "      <td>35.0</td>\n",
       "      <td>C123</td>\n",
       "      <td>S</td>\n",
       "      <td>53.1000</td>\n",
       "      <td>0</td>\n",
       "      <td>4</td>\n",
       "      <td>1</td>\n",
       "      <td>female</td>\n",
       "      <td>1</td>\n",
       "      <td>1.0</td>\n",
       "      <td>113803</td>\n",
       "      <td>1</td>\n",
       "    </tr>\n",
       "    <tr>\n",
       "      <td>4</td>\n",
       "      <td>35.0</td>\n",
       "      <td>NaN</td>\n",
       "      <td>S</td>\n",
       "      <td>8.0500</td>\n",
       "      <td>0</td>\n",
       "      <td>5</td>\n",
       "      <td>3</td>\n",
       "      <td>male</td>\n",
       "      <td>0</td>\n",
       "      <td>0.0</td>\n",
       "      <td>373450</td>\n",
       "      <td>0</td>\n",
       "    </tr>\n",
       "  </tbody>\n",
       "</table>\n",
       "</div>"
      ],
      "text/plain": [
       "    Age Cabin Embarked     Fare  Parch  PassengerId  Pclass     Sex  SibSp  \\\n",
       "0  22.0   NaN        S   7.2500      0            1       3    male      1   \n",
       "1  38.0   C85        C  71.2833      0            2       1  female      1   \n",
       "2  26.0   NaN        S   7.9250      0            3       3  female      0   \n",
       "3  35.0  C123        S  53.1000      0            4       1  female      1   \n",
       "4  35.0   NaN        S   8.0500      0            5       3    male      0   \n",
       "\n",
       "   Survived            Ticket  Title  \n",
       "0       0.0         A/5 21171      0  \n",
       "1       1.0          PC 17599      1  \n",
       "2       1.0  STON/O2. 3101282      1  \n",
       "3       1.0            113803      1  \n",
       "4       0.0            373450      0  "
      ]
     },
     "execution_count": 56,
     "metadata": {},
     "output_type": "execute_result"
    }
   ],
   "source": [
    "train_df.head()"
   ]
  },
  {
   "cell_type": "code",
   "execution_count": 57,
   "metadata": {},
   "outputs": [],
   "source": [
    "train_df=pd.get_dummies(train_df,columns=[\"Title\"])"
   ]
  },
  {
   "cell_type": "code",
   "execution_count": 58,
   "metadata": {},
   "outputs": [
    {
     "data": {
      "text/html": [
       "<div>\n",
       "<style scoped>\n",
       "    .dataframe tbody tr th:only-of-type {\n",
       "        vertical-align: middle;\n",
       "    }\n",
       "\n",
       "    .dataframe tbody tr th {\n",
       "        vertical-align: top;\n",
       "    }\n",
       "\n",
       "    .dataframe thead th {\n",
       "        text-align: right;\n",
       "    }\n",
       "</style>\n",
       "<table border=\"1\" class=\"dataframe\">\n",
       "  <thead>\n",
       "    <tr style=\"text-align: right;\">\n",
       "      <th></th>\n",
       "      <th>Age</th>\n",
       "      <th>Cabin</th>\n",
       "      <th>Embarked</th>\n",
       "      <th>Fare</th>\n",
       "      <th>Parch</th>\n",
       "      <th>PassengerId</th>\n",
       "      <th>Pclass</th>\n",
       "      <th>Sex</th>\n",
       "      <th>SibSp</th>\n",
       "      <th>Survived</th>\n",
       "      <th>Ticket</th>\n",
       "      <th>Title_0</th>\n",
       "      <th>Title_1</th>\n",
       "      <th>Title_2</th>\n",
       "      <th>Title_3</th>\n",
       "    </tr>\n",
       "  </thead>\n",
       "  <tbody>\n",
       "    <tr>\n",
       "      <td>0</td>\n",
       "      <td>22.0</td>\n",
       "      <td>NaN</td>\n",
       "      <td>S</td>\n",
       "      <td>7.2500</td>\n",
       "      <td>0</td>\n",
       "      <td>1</td>\n",
       "      <td>3</td>\n",
       "      <td>male</td>\n",
       "      <td>1</td>\n",
       "      <td>0.0</td>\n",
       "      <td>A/5 21171</td>\n",
       "      <td>1</td>\n",
       "      <td>0</td>\n",
       "      <td>0</td>\n",
       "      <td>0</td>\n",
       "    </tr>\n",
       "    <tr>\n",
       "      <td>1</td>\n",
       "      <td>38.0</td>\n",
       "      <td>C85</td>\n",
       "      <td>C</td>\n",
       "      <td>71.2833</td>\n",
       "      <td>0</td>\n",
       "      <td>2</td>\n",
       "      <td>1</td>\n",
       "      <td>female</td>\n",
       "      <td>1</td>\n",
       "      <td>1.0</td>\n",
       "      <td>PC 17599</td>\n",
       "      <td>0</td>\n",
       "      <td>1</td>\n",
       "      <td>0</td>\n",
       "      <td>0</td>\n",
       "    </tr>\n",
       "    <tr>\n",
       "      <td>2</td>\n",
       "      <td>26.0</td>\n",
       "      <td>NaN</td>\n",
       "      <td>S</td>\n",
       "      <td>7.9250</td>\n",
       "      <td>0</td>\n",
       "      <td>3</td>\n",
       "      <td>3</td>\n",
       "      <td>female</td>\n",
       "      <td>0</td>\n",
       "      <td>1.0</td>\n",
       "      <td>STON/O2. 3101282</td>\n",
       "      <td>0</td>\n",
       "      <td>1</td>\n",
       "      <td>0</td>\n",
       "      <td>0</td>\n",
       "    </tr>\n",
       "    <tr>\n",
       "      <td>3</td>\n",
       "      <td>35.0</td>\n",
       "      <td>C123</td>\n",
       "      <td>S</td>\n",
       "      <td>53.1000</td>\n",
       "      <td>0</td>\n",
       "      <td>4</td>\n",
       "      <td>1</td>\n",
       "      <td>female</td>\n",
       "      <td>1</td>\n",
       "      <td>1.0</td>\n",
       "      <td>113803</td>\n",
       "      <td>0</td>\n",
       "      <td>1</td>\n",
       "      <td>0</td>\n",
       "      <td>0</td>\n",
       "    </tr>\n",
       "    <tr>\n",
       "      <td>4</td>\n",
       "      <td>35.0</td>\n",
       "      <td>NaN</td>\n",
       "      <td>S</td>\n",
       "      <td>8.0500</td>\n",
       "      <td>0</td>\n",
       "      <td>5</td>\n",
       "      <td>3</td>\n",
       "      <td>male</td>\n",
       "      <td>0</td>\n",
       "      <td>0.0</td>\n",
       "      <td>373450</td>\n",
       "      <td>1</td>\n",
       "      <td>0</td>\n",
       "      <td>0</td>\n",
       "      <td>0</td>\n",
       "    </tr>\n",
       "  </tbody>\n",
       "</table>\n",
       "</div>"
      ],
      "text/plain": [
       "    Age Cabin Embarked     Fare  Parch  PassengerId  Pclass     Sex  SibSp  \\\n",
       "0  22.0   NaN        S   7.2500      0            1       3    male      1   \n",
       "1  38.0   C85        C  71.2833      0            2       1  female      1   \n",
       "2  26.0   NaN        S   7.9250      0            3       3  female      0   \n",
       "3  35.0  C123        S  53.1000      0            4       1  female      1   \n",
       "4  35.0   NaN        S   8.0500      0            5       3    male      0   \n",
       "\n",
       "   Survived            Ticket  Title_0  Title_1  Title_2  Title_3  \n",
       "0       0.0         A/5 21171        1        0        0        0  \n",
       "1       1.0          PC 17599        0        1        0        0  \n",
       "2       1.0  STON/O2. 3101282        0        1        0        0  \n",
       "3       1.0            113803        0        1        0        0  \n",
       "4       0.0            373450        1        0        0        0  "
      ]
     },
     "execution_count": 58,
     "metadata": {},
     "output_type": "execute_result"
    }
   ],
   "source": [
    "train_df.head()"
   ]
  },
  {
   "cell_type": "markdown",
   "metadata": {},
   "source": [
    "<a id=7.2> </a>\n",
    "## B) SipSb,Parch to Family Size"
   ]
  },
  {
   "cell_type": "code",
   "execution_count": 59,
   "metadata": {},
   "outputs": [],
   "source": [
    "train_df[\"F_size\"]= train_df[\"SibSp\"]+train_df[\"Parch\"]+1\n"
   ]
  },
  {
   "cell_type": "code",
   "execution_count": 60,
   "metadata": {},
   "outputs": [
    {
     "data": {
      "image/png": "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\n",
      "text/plain": [
       "<Figure size 360x360 with 1 Axes>"
      ]
     },
     "metadata": {
      "needs_background": "light"
     },
     "output_type": "display_data"
    }
   ],
   "source": [
    "g = sns.factorplot(x=\"F_size\",y=\"Survived\",data=train_df,kind=\"bar\")\n",
    "plt.show()"
   ]
  },
  {
   "cell_type": "code",
   "execution_count": 61,
   "metadata": {},
   "outputs": [
    {
     "data": {
      "text/html": [
       "<div>\n",
       "<style scoped>\n",
       "    .dataframe tbody tr th:only-of-type {\n",
       "        vertical-align: middle;\n",
       "    }\n",
       "\n",
       "    .dataframe tbody tr th {\n",
       "        vertical-align: top;\n",
       "    }\n",
       "\n",
       "    .dataframe thead th {\n",
       "        text-align: right;\n",
       "    }\n",
       "</style>\n",
       "<table border=\"1\" class=\"dataframe\">\n",
       "  <thead>\n",
       "    <tr style=\"text-align: right;\">\n",
       "      <th></th>\n",
       "      <th>Age</th>\n",
       "      <th>Cabin</th>\n",
       "      <th>Embarked</th>\n",
       "      <th>Fare</th>\n",
       "      <th>Parch</th>\n",
       "      <th>PassengerId</th>\n",
       "      <th>Pclass</th>\n",
       "      <th>Sex</th>\n",
       "      <th>SibSp</th>\n",
       "      <th>Survived</th>\n",
       "      <th>Ticket</th>\n",
       "      <th>Title_0</th>\n",
       "      <th>Title_1</th>\n",
       "      <th>Title_2</th>\n",
       "      <th>Title_3</th>\n",
       "      <th>F_size</th>\n",
       "    </tr>\n",
       "  </thead>\n",
       "  <tbody>\n",
       "    <tr>\n",
       "      <td>0</td>\n",
       "      <td>22.0</td>\n",
       "      <td>NaN</td>\n",
       "      <td>S</td>\n",
       "      <td>7.2500</td>\n",
       "      <td>0</td>\n",
       "      <td>1</td>\n",
       "      <td>3</td>\n",
       "      <td>male</td>\n",
       "      <td>1</td>\n",
       "      <td>0.0</td>\n",
       "      <td>A/5 21171</td>\n",
       "      <td>1</td>\n",
       "      <td>0</td>\n",
       "      <td>0</td>\n",
       "      <td>0</td>\n",
       "      <td>2</td>\n",
       "    </tr>\n",
       "    <tr>\n",
       "      <td>1</td>\n",
       "      <td>38.0</td>\n",
       "      <td>C85</td>\n",
       "      <td>C</td>\n",
       "      <td>71.2833</td>\n",
       "      <td>0</td>\n",
       "      <td>2</td>\n",
       "      <td>1</td>\n",
       "      <td>female</td>\n",
       "      <td>1</td>\n",
       "      <td>1.0</td>\n",
       "      <td>PC 17599</td>\n",
       "      <td>0</td>\n",
       "      <td>1</td>\n",
       "      <td>0</td>\n",
       "      <td>0</td>\n",
       "      <td>2</td>\n",
       "    </tr>\n",
       "    <tr>\n",
       "      <td>2</td>\n",
       "      <td>26.0</td>\n",
       "      <td>NaN</td>\n",
       "      <td>S</td>\n",
       "      <td>7.9250</td>\n",
       "      <td>0</td>\n",
       "      <td>3</td>\n",
       "      <td>3</td>\n",
       "      <td>female</td>\n",
       "      <td>0</td>\n",
       "      <td>1.0</td>\n",
       "      <td>STON/O2. 3101282</td>\n",
       "      <td>0</td>\n",
       "      <td>1</td>\n",
       "      <td>0</td>\n",
       "      <td>0</td>\n",
       "      <td>1</td>\n",
       "    </tr>\n",
       "    <tr>\n",
       "      <td>3</td>\n",
       "      <td>35.0</td>\n",
       "      <td>C123</td>\n",
       "      <td>S</td>\n",
       "      <td>53.1000</td>\n",
       "      <td>0</td>\n",
       "      <td>4</td>\n",
       "      <td>1</td>\n",
       "      <td>female</td>\n",
       "      <td>1</td>\n",
       "      <td>1.0</td>\n",
       "      <td>113803</td>\n",
       "      <td>0</td>\n",
       "      <td>1</td>\n",
       "      <td>0</td>\n",
       "      <td>0</td>\n",
       "      <td>2</td>\n",
       "    </tr>\n",
       "    <tr>\n",
       "      <td>4</td>\n",
       "      <td>35.0</td>\n",
       "      <td>NaN</td>\n",
       "      <td>S</td>\n",
       "      <td>8.0500</td>\n",
       "      <td>0</td>\n",
       "      <td>5</td>\n",
       "      <td>3</td>\n",
       "      <td>male</td>\n",
       "      <td>0</td>\n",
       "      <td>0.0</td>\n",
       "      <td>373450</td>\n",
       "      <td>1</td>\n",
       "      <td>0</td>\n",
       "      <td>0</td>\n",
       "      <td>0</td>\n",
       "      <td>1</td>\n",
       "    </tr>\n",
       "    <tr>\n",
       "      <td>5</td>\n",
       "      <td>25.0</td>\n",
       "      <td>NaN</td>\n",
       "      <td>Q</td>\n",
       "      <td>8.4583</td>\n",
       "      <td>0</td>\n",
       "      <td>6</td>\n",
       "      <td>3</td>\n",
       "      <td>male</td>\n",
       "      <td>0</td>\n",
       "      <td>0.0</td>\n",
       "      <td>330877</td>\n",
       "      <td>1</td>\n",
       "      <td>0</td>\n",
       "      <td>0</td>\n",
       "      <td>0</td>\n",
       "      <td>1</td>\n",
       "    </tr>\n",
       "    <tr>\n",
       "      <td>6</td>\n",
       "      <td>54.0</td>\n",
       "      <td>E46</td>\n",
       "      <td>S</td>\n",
       "      <td>51.8625</td>\n",
       "      <td>0</td>\n",
       "      <td>7</td>\n",
       "      <td>1</td>\n",
       "      <td>male</td>\n",
       "      <td>0</td>\n",
       "      <td>0.0</td>\n",
       "      <td>17463</td>\n",
       "      <td>1</td>\n",
       "      <td>0</td>\n",
       "      <td>0</td>\n",
       "      <td>0</td>\n",
       "      <td>1</td>\n",
       "    </tr>\n",
       "    <tr>\n",
       "      <td>7</td>\n",
       "      <td>2.0</td>\n",
       "      <td>NaN</td>\n",
       "      <td>S</td>\n",
       "      <td>21.0750</td>\n",
       "      <td>1</td>\n",
       "      <td>8</td>\n",
       "      <td>3</td>\n",
       "      <td>male</td>\n",
       "      <td>3</td>\n",
       "      <td>0.0</td>\n",
       "      <td>349909</td>\n",
       "      <td>0</td>\n",
       "      <td>0</td>\n",
       "      <td>1</td>\n",
       "      <td>0</td>\n",
       "      <td>5</td>\n",
       "    </tr>\n",
       "    <tr>\n",
       "      <td>8</td>\n",
       "      <td>27.0</td>\n",
       "      <td>NaN</td>\n",
       "      <td>S</td>\n",
       "      <td>11.1333</td>\n",
       "      <td>2</td>\n",
       "      <td>9</td>\n",
       "      <td>3</td>\n",
       "      <td>female</td>\n",
       "      <td>0</td>\n",
       "      <td>1.0</td>\n",
       "      <td>347742</td>\n",
       "      <td>0</td>\n",
       "      <td>1</td>\n",
       "      <td>0</td>\n",
       "      <td>0</td>\n",
       "      <td>3</td>\n",
       "    </tr>\n",
       "    <tr>\n",
       "      <td>9</td>\n",
       "      <td>14.0</td>\n",
       "      <td>NaN</td>\n",
       "      <td>C</td>\n",
       "      <td>30.0708</td>\n",
       "      <td>0</td>\n",
       "      <td>10</td>\n",
       "      <td>2</td>\n",
       "      <td>female</td>\n",
       "      <td>1</td>\n",
       "      <td>1.0</td>\n",
       "      <td>237736</td>\n",
       "      <td>0</td>\n",
       "      <td>1</td>\n",
       "      <td>0</td>\n",
       "      <td>0</td>\n",
       "      <td>2</td>\n",
       "    </tr>\n",
       "  </tbody>\n",
       "</table>\n",
       "</div>"
      ],
      "text/plain": [
       "    Age Cabin Embarked     Fare  Parch  PassengerId  Pclass     Sex  SibSp  \\\n",
       "0  22.0   NaN        S   7.2500      0            1       3    male      1   \n",
       "1  38.0   C85        C  71.2833      0            2       1  female      1   \n",
       "2  26.0   NaN        S   7.9250      0            3       3  female      0   \n",
       "3  35.0  C123        S  53.1000      0            4       1  female      1   \n",
       "4  35.0   NaN        S   8.0500      0            5       3    male      0   \n",
       "5  25.0   NaN        Q   8.4583      0            6       3    male      0   \n",
       "6  54.0   E46        S  51.8625      0            7       1    male      0   \n",
       "7   2.0   NaN        S  21.0750      1            8       3    male      3   \n",
       "8  27.0   NaN        S  11.1333      2            9       3  female      0   \n",
       "9  14.0   NaN        C  30.0708      0           10       2  female      1   \n",
       "\n",
       "   Survived            Ticket  Title_0  Title_1  Title_2  Title_3  F_size  \n",
       "0       0.0         A/5 21171        1        0        0        0       2  \n",
       "1       1.0          PC 17599        0        1        0        0       2  \n",
       "2       1.0  STON/O2. 3101282        0        1        0        0       1  \n",
       "3       1.0            113803        0        1        0        0       2  \n",
       "4       0.0            373450        1        0        0        0       1  \n",
       "5       0.0            330877        1        0        0        0       1  \n",
       "6       0.0             17463        1        0        0        0       1  \n",
       "7       0.0            349909        0        0        1        0       5  \n",
       "8       1.0            347742        0        1        0        0       3  \n",
       "9       1.0            237736        0        1        0        0       2  "
      ]
     },
     "execution_count": 61,
     "metadata": {},
     "output_type": "execute_result"
    }
   ],
   "source": [
    "train_df.head(10)"
   ]
  },
  {
   "cell_type": "code",
   "execution_count": 62,
   "metadata": {},
   "outputs": [],
   "source": [
    "train_df[\"family_size\"] = [ 1 if i <5 else 0 for i in train_df[\"F_size\"]]"
   ]
  },
  {
   "cell_type": "markdown",
   "metadata": {},
   "source": [
    "* Small families is 1  (x < 5)\n",
    "* Big Families is 0 (x >= 5)"
   ]
  },
  {
   "cell_type": "code",
   "execution_count": 63,
   "metadata": {},
   "outputs": [
    {
     "data": {
      "text/html": [
       "<div>\n",
       "<style scoped>\n",
       "    .dataframe tbody tr th:only-of-type {\n",
       "        vertical-align: middle;\n",
       "    }\n",
       "\n",
       "    .dataframe tbody tr th {\n",
       "        vertical-align: top;\n",
       "    }\n",
       "\n",
       "    .dataframe thead th {\n",
       "        text-align: right;\n",
       "    }\n",
       "</style>\n",
       "<table border=\"1\" class=\"dataframe\">\n",
       "  <thead>\n",
       "    <tr style=\"text-align: right;\">\n",
       "      <th></th>\n",
       "      <th>Age</th>\n",
       "      <th>Cabin</th>\n",
       "      <th>Embarked</th>\n",
       "      <th>Fare</th>\n",
       "      <th>Parch</th>\n",
       "      <th>PassengerId</th>\n",
       "      <th>Pclass</th>\n",
       "      <th>Sex</th>\n",
       "      <th>SibSp</th>\n",
       "      <th>Survived</th>\n",
       "      <th>Ticket</th>\n",
       "      <th>Title_0</th>\n",
       "      <th>Title_1</th>\n",
       "      <th>Title_2</th>\n",
       "      <th>Title_3</th>\n",
       "      <th>F_size</th>\n",
       "      <th>family_size</th>\n",
       "    </tr>\n",
       "  </thead>\n",
       "  <tbody>\n",
       "    <tr>\n",
       "      <td>0</td>\n",
       "      <td>22.0</td>\n",
       "      <td>NaN</td>\n",
       "      <td>S</td>\n",
       "      <td>7.2500</td>\n",
       "      <td>0</td>\n",
       "      <td>1</td>\n",
       "      <td>3</td>\n",
       "      <td>male</td>\n",
       "      <td>1</td>\n",
       "      <td>0.0</td>\n",
       "      <td>A/5 21171</td>\n",
       "      <td>1</td>\n",
       "      <td>0</td>\n",
       "      <td>0</td>\n",
       "      <td>0</td>\n",
       "      <td>2</td>\n",
       "      <td>1</td>\n",
       "    </tr>\n",
       "    <tr>\n",
       "      <td>1</td>\n",
       "      <td>38.0</td>\n",
       "      <td>C85</td>\n",
       "      <td>C</td>\n",
       "      <td>71.2833</td>\n",
       "      <td>0</td>\n",
       "      <td>2</td>\n",
       "      <td>1</td>\n",
       "      <td>female</td>\n",
       "      <td>1</td>\n",
       "      <td>1.0</td>\n",
       "      <td>PC 17599</td>\n",
       "      <td>0</td>\n",
       "      <td>1</td>\n",
       "      <td>0</td>\n",
       "      <td>0</td>\n",
       "      <td>2</td>\n",
       "      <td>1</td>\n",
       "    </tr>\n",
       "    <tr>\n",
       "      <td>2</td>\n",
       "      <td>26.0</td>\n",
       "      <td>NaN</td>\n",
       "      <td>S</td>\n",
       "      <td>7.9250</td>\n",
       "      <td>0</td>\n",
       "      <td>3</td>\n",
       "      <td>3</td>\n",
       "      <td>female</td>\n",
       "      <td>0</td>\n",
       "      <td>1.0</td>\n",
       "      <td>STON/O2. 3101282</td>\n",
       "      <td>0</td>\n",
       "      <td>1</td>\n",
       "      <td>0</td>\n",
       "      <td>0</td>\n",
       "      <td>1</td>\n",
       "      <td>1</td>\n",
       "    </tr>\n",
       "    <tr>\n",
       "      <td>3</td>\n",
       "      <td>35.0</td>\n",
       "      <td>C123</td>\n",
       "      <td>S</td>\n",
       "      <td>53.1000</td>\n",
       "      <td>0</td>\n",
       "      <td>4</td>\n",
       "      <td>1</td>\n",
       "      <td>female</td>\n",
       "      <td>1</td>\n",
       "      <td>1.0</td>\n",
       "      <td>113803</td>\n",
       "      <td>0</td>\n",
       "      <td>1</td>\n",
       "      <td>0</td>\n",
       "      <td>0</td>\n",
       "      <td>2</td>\n",
       "      <td>1</td>\n",
       "    </tr>\n",
       "    <tr>\n",
       "      <td>4</td>\n",
       "      <td>35.0</td>\n",
       "      <td>NaN</td>\n",
       "      <td>S</td>\n",
       "      <td>8.0500</td>\n",
       "      <td>0</td>\n",
       "      <td>5</td>\n",
       "      <td>3</td>\n",
       "      <td>male</td>\n",
       "      <td>0</td>\n",
       "      <td>0.0</td>\n",
       "      <td>373450</td>\n",
       "      <td>1</td>\n",
       "      <td>0</td>\n",
       "      <td>0</td>\n",
       "      <td>0</td>\n",
       "      <td>1</td>\n",
       "      <td>1</td>\n",
       "    </tr>\n",
       "  </tbody>\n",
       "</table>\n",
       "</div>"
      ],
      "text/plain": [
       "    Age Cabin Embarked     Fare  Parch  PassengerId  Pclass     Sex  SibSp  \\\n",
       "0  22.0   NaN        S   7.2500      0            1       3    male      1   \n",
       "1  38.0   C85        C  71.2833      0            2       1  female      1   \n",
       "2  26.0   NaN        S   7.9250      0            3       3  female      0   \n",
       "3  35.0  C123        S  53.1000      0            4       1  female      1   \n",
       "4  35.0   NaN        S   8.0500      0            5       3    male      0   \n",
       "\n",
       "   Survived            Ticket  Title_0  Title_1  Title_2  Title_3  F_size  \\\n",
       "0       0.0         A/5 21171        1        0        0        0       2   \n",
       "1       1.0          PC 17599        0        1        0        0       2   \n",
       "2       1.0  STON/O2. 3101282        0        1        0        0       1   \n",
       "3       1.0            113803        0        1        0        0       2   \n",
       "4       0.0            373450        1        0        0        0       1   \n",
       "\n",
       "   family_size  \n",
       "0            1  \n",
       "1            1  \n",
       "2            1  \n",
       "3            1  \n",
       "4            1  "
      ]
     },
     "execution_count": 63,
     "metadata": {},
     "output_type": "execute_result"
    }
   ],
   "source": [
    "train_df.head(5)"
   ]
  },
  {
   "cell_type": "code",
   "execution_count": 64,
   "metadata": {},
   "outputs": [
    {
     "data": {
      "image/png": "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\n",
      "text/plain": [
       "<Figure size 432x288 with 1 Axes>"
      ]
     },
     "metadata": {
      "needs_background": "light"
     },
     "output_type": "display_data"
    }
   ],
   "source": [
    "sns.countplot(x=\"F_size\",data=train_df)\n",
    "plt.show()"
   ]
  },
  {
   "cell_type": "code",
   "execution_count": 65,
   "metadata": {},
   "outputs": [
    {
     "data": {
      "image/png": "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\n",
      "text/plain": [
       "<Figure size 360x360 with 1 Axes>"
      ]
     },
     "metadata": {
      "needs_background": "light"
     },
     "output_type": "display_data"
    }
   ],
   "source": [
    "g = sns.factorplot(x=\"F_size\",y=\"Survived\",data=train_df,kind=\"bar\")\n",
    "g.set_ylabels(\"Survived Probability\")\n",
    "g.set_xlabels(\"Family Size\")\n",
    "plt.show()"
   ]
  },
  {
   "cell_type": "markdown",
   "metadata": {},
   "source": [
    "* Small families had more chance to survive than big families."
   ]
  },
  {
   "cell_type": "code",
   "execution_count": 66,
   "metadata": {},
   "outputs": [],
   "source": [
    "train_df = pd.get_dummies(train_df,columns=[\"family_size\"])"
   ]
  },
  {
   "cell_type": "code",
   "execution_count": 67,
   "metadata": {},
   "outputs": [
    {
     "data": {
      "text/html": [
       "<div>\n",
       "<style scoped>\n",
       "    .dataframe tbody tr th:only-of-type {\n",
       "        vertical-align: middle;\n",
       "    }\n",
       "\n",
       "    .dataframe tbody tr th {\n",
       "        vertical-align: top;\n",
       "    }\n",
       "\n",
       "    .dataframe thead th {\n",
       "        text-align: right;\n",
       "    }\n",
       "</style>\n",
       "<table border=\"1\" class=\"dataframe\">\n",
       "  <thead>\n",
       "    <tr style=\"text-align: right;\">\n",
       "      <th></th>\n",
       "      <th>Age</th>\n",
       "      <th>Cabin</th>\n",
       "      <th>Embarked</th>\n",
       "      <th>Fare</th>\n",
       "      <th>Parch</th>\n",
       "      <th>PassengerId</th>\n",
       "      <th>Pclass</th>\n",
       "      <th>Sex</th>\n",
       "      <th>SibSp</th>\n",
       "      <th>Survived</th>\n",
       "      <th>Ticket</th>\n",
       "      <th>Title_0</th>\n",
       "      <th>Title_1</th>\n",
       "      <th>Title_2</th>\n",
       "      <th>Title_3</th>\n",
       "      <th>F_size</th>\n",
       "      <th>family_size_0</th>\n",
       "      <th>family_size_1</th>\n",
       "    </tr>\n",
       "  </thead>\n",
       "  <tbody>\n",
       "    <tr>\n",
       "      <td>0</td>\n",
       "      <td>22.0</td>\n",
       "      <td>NaN</td>\n",
       "      <td>S</td>\n",
       "      <td>7.2500</td>\n",
       "      <td>0</td>\n",
       "      <td>1</td>\n",
       "      <td>3</td>\n",
       "      <td>male</td>\n",
       "      <td>1</td>\n",
       "      <td>0.0</td>\n",
       "      <td>A/5 21171</td>\n",
       "      <td>1</td>\n",
       "      <td>0</td>\n",
       "      <td>0</td>\n",
       "      <td>0</td>\n",
       "      <td>2</td>\n",
       "      <td>0</td>\n",
       "      <td>1</td>\n",
       "    </tr>\n",
       "    <tr>\n",
       "      <td>1</td>\n",
       "      <td>38.0</td>\n",
       "      <td>C85</td>\n",
       "      <td>C</td>\n",
       "      <td>71.2833</td>\n",
       "      <td>0</td>\n",
       "      <td>2</td>\n",
       "      <td>1</td>\n",
       "      <td>female</td>\n",
       "      <td>1</td>\n",
       "      <td>1.0</td>\n",
       "      <td>PC 17599</td>\n",
       "      <td>0</td>\n",
       "      <td>1</td>\n",
       "      <td>0</td>\n",
       "      <td>0</td>\n",
       "      <td>2</td>\n",
       "      <td>0</td>\n",
       "      <td>1</td>\n",
       "    </tr>\n",
       "    <tr>\n",
       "      <td>2</td>\n",
       "      <td>26.0</td>\n",
       "      <td>NaN</td>\n",
       "      <td>S</td>\n",
       "      <td>7.9250</td>\n",
       "      <td>0</td>\n",
       "      <td>3</td>\n",
       "      <td>3</td>\n",
       "      <td>female</td>\n",
       "      <td>0</td>\n",
       "      <td>1.0</td>\n",
       "      <td>STON/O2. 3101282</td>\n",
       "      <td>0</td>\n",
       "      <td>1</td>\n",
       "      <td>0</td>\n",
       "      <td>0</td>\n",
       "      <td>1</td>\n",
       "      <td>0</td>\n",
       "      <td>1</td>\n",
       "    </tr>\n",
       "    <tr>\n",
       "      <td>3</td>\n",
       "      <td>35.0</td>\n",
       "      <td>C123</td>\n",
       "      <td>S</td>\n",
       "      <td>53.1000</td>\n",
       "      <td>0</td>\n",
       "      <td>4</td>\n",
       "      <td>1</td>\n",
       "      <td>female</td>\n",
       "      <td>1</td>\n",
       "      <td>1.0</td>\n",
       "      <td>113803</td>\n",
       "      <td>0</td>\n",
       "      <td>1</td>\n",
       "      <td>0</td>\n",
       "      <td>0</td>\n",
       "      <td>2</td>\n",
       "      <td>0</td>\n",
       "      <td>1</td>\n",
       "    </tr>\n",
       "    <tr>\n",
       "      <td>4</td>\n",
       "      <td>35.0</td>\n",
       "      <td>NaN</td>\n",
       "      <td>S</td>\n",
       "      <td>8.0500</td>\n",
       "      <td>0</td>\n",
       "      <td>5</td>\n",
       "      <td>3</td>\n",
       "      <td>male</td>\n",
       "      <td>0</td>\n",
       "      <td>0.0</td>\n",
       "      <td>373450</td>\n",
       "      <td>1</td>\n",
       "      <td>0</td>\n",
       "      <td>0</td>\n",
       "      <td>0</td>\n",
       "      <td>1</td>\n",
       "      <td>0</td>\n",
       "      <td>1</td>\n",
       "    </tr>\n",
       "    <tr>\n",
       "      <td>...</td>\n",
       "      <td>...</td>\n",
       "      <td>...</td>\n",
       "      <td>...</td>\n",
       "      <td>...</td>\n",
       "      <td>...</td>\n",
       "      <td>...</td>\n",
       "      <td>...</td>\n",
       "      <td>...</td>\n",
       "      <td>...</td>\n",
       "      <td>...</td>\n",
       "      <td>...</td>\n",
       "      <td>...</td>\n",
       "      <td>...</td>\n",
       "      <td>...</td>\n",
       "      <td>...</td>\n",
       "      <td>...</td>\n",
       "      <td>...</td>\n",
       "      <td>...</td>\n",
       "    </tr>\n",
       "    <tr>\n",
       "      <td>1294</td>\n",
       "      <td>25.0</td>\n",
       "      <td>NaN</td>\n",
       "      <td>S</td>\n",
       "      <td>8.0500</td>\n",
       "      <td>0</td>\n",
       "      <td>1305</td>\n",
       "      <td>3</td>\n",
       "      <td>male</td>\n",
       "      <td>0</td>\n",
       "      <td>NaN</td>\n",
       "      <td>A.5. 3236</td>\n",
       "      <td>1</td>\n",
       "      <td>0</td>\n",
       "      <td>0</td>\n",
       "      <td>0</td>\n",
       "      <td>1</td>\n",
       "      <td>0</td>\n",
       "      <td>1</td>\n",
       "    </tr>\n",
       "    <tr>\n",
       "      <td>1295</td>\n",
       "      <td>39.0</td>\n",
       "      <td>C105</td>\n",
       "      <td>C</td>\n",
       "      <td>108.9000</td>\n",
       "      <td>0</td>\n",
       "      <td>1306</td>\n",
       "      <td>1</td>\n",
       "      <td>female</td>\n",
       "      <td>0</td>\n",
       "      <td>NaN</td>\n",
       "      <td>PC 17758</td>\n",
       "      <td>0</td>\n",
       "      <td>0</td>\n",
       "      <td>0</td>\n",
       "      <td>1</td>\n",
       "      <td>1</td>\n",
       "      <td>0</td>\n",
       "      <td>1</td>\n",
       "    </tr>\n",
       "    <tr>\n",
       "      <td>1296</td>\n",
       "      <td>38.5</td>\n",
       "      <td>NaN</td>\n",
       "      <td>S</td>\n",
       "      <td>7.2500</td>\n",
       "      <td>0</td>\n",
       "      <td>1307</td>\n",
       "      <td>3</td>\n",
       "      <td>male</td>\n",
       "      <td>0</td>\n",
       "      <td>NaN</td>\n",
       "      <td>SOTON/O.Q. 3101262</td>\n",
       "      <td>1</td>\n",
       "      <td>0</td>\n",
       "      <td>0</td>\n",
       "      <td>0</td>\n",
       "      <td>1</td>\n",
       "      <td>0</td>\n",
       "      <td>1</td>\n",
       "    </tr>\n",
       "    <tr>\n",
       "      <td>1297</td>\n",
       "      <td>25.0</td>\n",
       "      <td>NaN</td>\n",
       "      <td>S</td>\n",
       "      <td>8.0500</td>\n",
       "      <td>0</td>\n",
       "      <td>1308</td>\n",
       "      <td>3</td>\n",
       "      <td>male</td>\n",
       "      <td>0</td>\n",
       "      <td>NaN</td>\n",
       "      <td>359309</td>\n",
       "      <td>1</td>\n",
       "      <td>0</td>\n",
       "      <td>0</td>\n",
       "      <td>0</td>\n",
       "      <td>1</td>\n",
       "      <td>0</td>\n",
       "      <td>1</td>\n",
       "    </tr>\n",
       "    <tr>\n",
       "      <td>1298</td>\n",
       "      <td>16.0</td>\n",
       "      <td>NaN</td>\n",
       "      <td>C</td>\n",
       "      <td>22.3583</td>\n",
       "      <td>1</td>\n",
       "      <td>1309</td>\n",
       "      <td>3</td>\n",
       "      <td>male</td>\n",
       "      <td>1</td>\n",
       "      <td>NaN</td>\n",
       "      <td>2668</td>\n",
       "      <td>0</td>\n",
       "      <td>0</td>\n",
       "      <td>1</td>\n",
       "      <td>0</td>\n",
       "      <td>3</td>\n",
       "      <td>0</td>\n",
       "      <td>1</td>\n",
       "    </tr>\n",
       "  </tbody>\n",
       "</table>\n",
       "<p>1299 rows × 18 columns</p>\n",
       "</div>"
      ],
      "text/plain": [
       "       Age Cabin Embarked      Fare  Parch  PassengerId  Pclass     Sex  \\\n",
       "0     22.0   NaN        S    7.2500      0            1       3    male   \n",
       "1     38.0   C85        C   71.2833      0            2       1  female   \n",
       "2     26.0   NaN        S    7.9250      0            3       3  female   \n",
       "3     35.0  C123        S   53.1000      0            4       1  female   \n",
       "4     35.0   NaN        S    8.0500      0            5       3    male   \n",
       "...    ...   ...      ...       ...    ...          ...     ...     ...   \n",
       "1294  25.0   NaN        S    8.0500      0         1305       3    male   \n",
       "1295  39.0  C105        C  108.9000      0         1306       1  female   \n",
       "1296  38.5   NaN        S    7.2500      0         1307       3    male   \n",
       "1297  25.0   NaN        S    8.0500      0         1308       3    male   \n",
       "1298  16.0   NaN        C   22.3583      1         1309       3    male   \n",
       "\n",
       "      SibSp  Survived              Ticket  Title_0  Title_1  Title_2  Title_3  \\\n",
       "0         1       0.0           A/5 21171        1        0        0        0   \n",
       "1         1       1.0            PC 17599        0        1        0        0   \n",
       "2         0       1.0    STON/O2. 3101282        0        1        0        0   \n",
       "3         1       1.0              113803        0        1        0        0   \n",
       "4         0       0.0              373450        1        0        0        0   \n",
       "...     ...       ...                 ...      ...      ...      ...      ...   \n",
       "1294      0       NaN           A.5. 3236        1        0        0        0   \n",
       "1295      0       NaN            PC 17758        0        0        0        1   \n",
       "1296      0       NaN  SOTON/O.Q. 3101262        1        0        0        0   \n",
       "1297      0       NaN              359309        1        0        0        0   \n",
       "1298      1       NaN                2668        0        0        1        0   \n",
       "\n",
       "      F_size  family_size_0  family_size_1  \n",
       "0          2              0              1  \n",
       "1          2              0              1  \n",
       "2          1              0              1  \n",
       "3          2              0              1  \n",
       "4          1              0              1  \n",
       "...      ...            ...            ...  \n",
       "1294       1              0              1  \n",
       "1295       1              0              1  \n",
       "1296       1              0              1  \n",
       "1297       1              0              1  \n",
       "1298       3              0              1  \n",
       "\n",
       "[1299 rows x 18 columns]"
      ]
     },
     "execution_count": 67,
     "metadata": {},
     "output_type": "execute_result"
    }
   ],
   "source": [
    "train_df"
   ]
  },
  {
   "cell_type": "markdown",
   "metadata": {},
   "source": [
    "<a id=7.3> </a>\n",
    "## C) Embarked \n",
    "* Getting dummies"
   ]
  },
  {
   "cell_type": "code",
   "execution_count": 68,
   "metadata": {},
   "outputs": [
    {
     "data": {
      "image/png": "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\n",
      "text/plain": [
       "<Figure size 432x288 with 1 Axes>"
      ]
     },
     "metadata": {
      "needs_background": "light"
     },
     "output_type": "display_data"
    }
   ],
   "source": [
    "g= sns.countplot(x=\"Embarked\",data=train_df)\n",
    "plt.show()"
   ]
  },
  {
   "cell_type": "code",
   "execution_count": 69,
   "metadata": {},
   "outputs": [],
   "source": [
    "train_df = pd.get_dummies(train_df,columns=[\"Embarked\"])"
   ]
  },
  {
   "cell_type": "code",
   "execution_count": 70,
   "metadata": {},
   "outputs": [
    {
     "data": {
      "text/html": [
       "<div>\n",
       "<style scoped>\n",
       "    .dataframe tbody tr th:only-of-type {\n",
       "        vertical-align: middle;\n",
       "    }\n",
       "\n",
       "    .dataframe tbody tr th {\n",
       "        vertical-align: top;\n",
       "    }\n",
       "\n",
       "    .dataframe thead th {\n",
       "        text-align: right;\n",
       "    }\n",
       "</style>\n",
       "<table border=\"1\" class=\"dataframe\">\n",
       "  <thead>\n",
       "    <tr style=\"text-align: right;\">\n",
       "      <th></th>\n",
       "      <th>Age</th>\n",
       "      <th>Cabin</th>\n",
       "      <th>Fare</th>\n",
       "      <th>Parch</th>\n",
       "      <th>PassengerId</th>\n",
       "      <th>Pclass</th>\n",
       "      <th>Sex</th>\n",
       "      <th>SibSp</th>\n",
       "      <th>Survived</th>\n",
       "      <th>Ticket</th>\n",
       "      <th>Title_0</th>\n",
       "      <th>Title_1</th>\n",
       "      <th>Title_2</th>\n",
       "      <th>Title_3</th>\n",
       "      <th>F_size</th>\n",
       "      <th>family_size_0</th>\n",
       "      <th>family_size_1</th>\n",
       "      <th>Embarked_C</th>\n",
       "      <th>Embarked_Q</th>\n",
       "      <th>Embarked_S</th>\n",
       "    </tr>\n",
       "  </thead>\n",
       "  <tbody>\n",
       "    <tr>\n",
       "      <td>0</td>\n",
       "      <td>22.0</td>\n",
       "      <td>NaN</td>\n",
       "      <td>7.2500</td>\n",
       "      <td>0</td>\n",
       "      <td>1</td>\n",
       "      <td>3</td>\n",
       "      <td>male</td>\n",
       "      <td>1</td>\n",
       "      <td>0.0</td>\n",
       "      <td>A/5 21171</td>\n",
       "      <td>1</td>\n",
       "      <td>0</td>\n",
       "      <td>0</td>\n",
       "      <td>0</td>\n",
       "      <td>2</td>\n",
       "      <td>0</td>\n",
       "      <td>1</td>\n",
       "      <td>0</td>\n",
       "      <td>0</td>\n",
       "      <td>1</td>\n",
       "    </tr>\n",
       "    <tr>\n",
       "      <td>1</td>\n",
       "      <td>38.0</td>\n",
       "      <td>C85</td>\n",
       "      <td>71.2833</td>\n",
       "      <td>0</td>\n",
       "      <td>2</td>\n",
       "      <td>1</td>\n",
       "      <td>female</td>\n",
       "      <td>1</td>\n",
       "      <td>1.0</td>\n",
       "      <td>PC 17599</td>\n",
       "      <td>0</td>\n",
       "      <td>1</td>\n",
       "      <td>0</td>\n",
       "      <td>0</td>\n",
       "      <td>2</td>\n",
       "      <td>0</td>\n",
       "      <td>1</td>\n",
       "      <td>1</td>\n",
       "      <td>0</td>\n",
       "      <td>0</td>\n",
       "    </tr>\n",
       "    <tr>\n",
       "      <td>2</td>\n",
       "      <td>26.0</td>\n",
       "      <td>NaN</td>\n",
       "      <td>7.9250</td>\n",
       "      <td>0</td>\n",
       "      <td>3</td>\n",
       "      <td>3</td>\n",
       "      <td>female</td>\n",
       "      <td>0</td>\n",
       "      <td>1.0</td>\n",
       "      <td>STON/O2. 3101282</td>\n",
       "      <td>0</td>\n",
       "      <td>1</td>\n",
       "      <td>0</td>\n",
       "      <td>0</td>\n",
       "      <td>1</td>\n",
       "      <td>0</td>\n",
       "      <td>1</td>\n",
       "      <td>0</td>\n",
       "      <td>0</td>\n",
       "      <td>1</td>\n",
       "    </tr>\n",
       "    <tr>\n",
       "      <td>3</td>\n",
       "      <td>35.0</td>\n",
       "      <td>C123</td>\n",
       "      <td>53.1000</td>\n",
       "      <td>0</td>\n",
       "      <td>4</td>\n",
       "      <td>1</td>\n",
       "      <td>female</td>\n",
       "      <td>1</td>\n",
       "      <td>1.0</td>\n",
       "      <td>113803</td>\n",
       "      <td>0</td>\n",
       "      <td>1</td>\n",
       "      <td>0</td>\n",
       "      <td>0</td>\n",
       "      <td>2</td>\n",
       "      <td>0</td>\n",
       "      <td>1</td>\n",
       "      <td>0</td>\n",
       "      <td>0</td>\n",
       "      <td>1</td>\n",
       "    </tr>\n",
       "    <tr>\n",
       "      <td>4</td>\n",
       "      <td>35.0</td>\n",
       "      <td>NaN</td>\n",
       "      <td>8.0500</td>\n",
       "      <td>0</td>\n",
       "      <td>5</td>\n",
       "      <td>3</td>\n",
       "      <td>male</td>\n",
       "      <td>0</td>\n",
       "      <td>0.0</td>\n",
       "      <td>373450</td>\n",
       "      <td>1</td>\n",
       "      <td>0</td>\n",
       "      <td>0</td>\n",
       "      <td>0</td>\n",
       "      <td>1</td>\n",
       "      <td>0</td>\n",
       "      <td>1</td>\n",
       "      <td>0</td>\n",
       "      <td>0</td>\n",
       "      <td>1</td>\n",
       "    </tr>\n",
       "    <tr>\n",
       "      <td>...</td>\n",
       "      <td>...</td>\n",
       "      <td>...</td>\n",
       "      <td>...</td>\n",
       "      <td>...</td>\n",
       "      <td>...</td>\n",
       "      <td>...</td>\n",
       "      <td>...</td>\n",
       "      <td>...</td>\n",
       "      <td>...</td>\n",
       "      <td>...</td>\n",
       "      <td>...</td>\n",
       "      <td>...</td>\n",
       "      <td>...</td>\n",
       "      <td>...</td>\n",
       "      <td>...</td>\n",
       "      <td>...</td>\n",
       "      <td>...</td>\n",
       "      <td>...</td>\n",
       "      <td>...</td>\n",
       "      <td>...</td>\n",
       "    </tr>\n",
       "    <tr>\n",
       "      <td>1294</td>\n",
       "      <td>25.0</td>\n",
       "      <td>NaN</td>\n",
       "      <td>8.0500</td>\n",
       "      <td>0</td>\n",
       "      <td>1305</td>\n",
       "      <td>3</td>\n",
       "      <td>male</td>\n",
       "      <td>0</td>\n",
       "      <td>NaN</td>\n",
       "      <td>A.5. 3236</td>\n",
       "      <td>1</td>\n",
       "      <td>0</td>\n",
       "      <td>0</td>\n",
       "      <td>0</td>\n",
       "      <td>1</td>\n",
       "      <td>0</td>\n",
       "      <td>1</td>\n",
       "      <td>0</td>\n",
       "      <td>0</td>\n",
       "      <td>1</td>\n",
       "    </tr>\n",
       "    <tr>\n",
       "      <td>1295</td>\n",
       "      <td>39.0</td>\n",
       "      <td>C105</td>\n",
       "      <td>108.9000</td>\n",
       "      <td>0</td>\n",
       "      <td>1306</td>\n",
       "      <td>1</td>\n",
       "      <td>female</td>\n",
       "      <td>0</td>\n",
       "      <td>NaN</td>\n",
       "      <td>PC 17758</td>\n",
       "      <td>0</td>\n",
       "      <td>0</td>\n",
       "      <td>0</td>\n",
       "      <td>1</td>\n",
       "      <td>1</td>\n",
       "      <td>0</td>\n",
       "      <td>1</td>\n",
       "      <td>1</td>\n",
       "      <td>0</td>\n",
       "      <td>0</td>\n",
       "    </tr>\n",
       "    <tr>\n",
       "      <td>1296</td>\n",
       "      <td>38.5</td>\n",
       "      <td>NaN</td>\n",
       "      <td>7.2500</td>\n",
       "      <td>0</td>\n",
       "      <td>1307</td>\n",
       "      <td>3</td>\n",
       "      <td>male</td>\n",
       "      <td>0</td>\n",
       "      <td>NaN</td>\n",
       "      <td>SOTON/O.Q. 3101262</td>\n",
       "      <td>1</td>\n",
       "      <td>0</td>\n",
       "      <td>0</td>\n",
       "      <td>0</td>\n",
       "      <td>1</td>\n",
       "      <td>0</td>\n",
       "      <td>1</td>\n",
       "      <td>0</td>\n",
       "      <td>0</td>\n",
       "      <td>1</td>\n",
       "    </tr>\n",
       "    <tr>\n",
       "      <td>1297</td>\n",
       "      <td>25.0</td>\n",
       "      <td>NaN</td>\n",
       "      <td>8.0500</td>\n",
       "      <td>0</td>\n",
       "      <td>1308</td>\n",
       "      <td>3</td>\n",
       "      <td>male</td>\n",
       "      <td>0</td>\n",
       "      <td>NaN</td>\n",
       "      <td>359309</td>\n",
       "      <td>1</td>\n",
       "      <td>0</td>\n",
       "      <td>0</td>\n",
       "      <td>0</td>\n",
       "      <td>1</td>\n",
       "      <td>0</td>\n",
       "      <td>1</td>\n",
       "      <td>0</td>\n",
       "      <td>0</td>\n",
       "      <td>1</td>\n",
       "    </tr>\n",
       "    <tr>\n",
       "      <td>1298</td>\n",
       "      <td>16.0</td>\n",
       "      <td>NaN</td>\n",
       "      <td>22.3583</td>\n",
       "      <td>1</td>\n",
       "      <td>1309</td>\n",
       "      <td>3</td>\n",
       "      <td>male</td>\n",
       "      <td>1</td>\n",
       "      <td>NaN</td>\n",
       "      <td>2668</td>\n",
       "      <td>0</td>\n",
       "      <td>0</td>\n",
       "      <td>1</td>\n",
       "      <td>0</td>\n",
       "      <td>3</td>\n",
       "      <td>0</td>\n",
       "      <td>1</td>\n",
       "      <td>1</td>\n",
       "      <td>0</td>\n",
       "      <td>0</td>\n",
       "    </tr>\n",
       "  </tbody>\n",
       "</table>\n",
       "<p>1299 rows × 20 columns</p>\n",
       "</div>"
      ],
      "text/plain": [
       "       Age Cabin      Fare  Parch  PassengerId  Pclass     Sex  SibSp  \\\n",
       "0     22.0   NaN    7.2500      0            1       3    male      1   \n",
       "1     38.0   C85   71.2833      0            2       1  female      1   \n",
       "2     26.0   NaN    7.9250      0            3       3  female      0   \n",
       "3     35.0  C123   53.1000      0            4       1  female      1   \n",
       "4     35.0   NaN    8.0500      0            5       3    male      0   \n",
       "...    ...   ...       ...    ...          ...     ...     ...    ...   \n",
       "1294  25.0   NaN    8.0500      0         1305       3    male      0   \n",
       "1295  39.0  C105  108.9000      0         1306       1  female      0   \n",
       "1296  38.5   NaN    7.2500      0         1307       3    male      0   \n",
       "1297  25.0   NaN    8.0500      0         1308       3    male      0   \n",
       "1298  16.0   NaN   22.3583      1         1309       3    male      1   \n",
       "\n",
       "      Survived              Ticket  Title_0  Title_1  Title_2  Title_3  \\\n",
       "0          0.0           A/5 21171        1        0        0        0   \n",
       "1          1.0            PC 17599        0        1        0        0   \n",
       "2          1.0    STON/O2. 3101282        0        1        0        0   \n",
       "3          1.0              113803        0        1        0        0   \n",
       "4          0.0              373450        1        0        0        0   \n",
       "...        ...                 ...      ...      ...      ...      ...   \n",
       "1294       NaN           A.5. 3236        1        0        0        0   \n",
       "1295       NaN            PC 17758        0        0        0        1   \n",
       "1296       NaN  SOTON/O.Q. 3101262        1        0        0        0   \n",
       "1297       NaN              359309        1        0        0        0   \n",
       "1298       NaN                2668        0        0        1        0   \n",
       "\n",
       "      F_size  family_size_0  family_size_1  Embarked_C  Embarked_Q  Embarked_S  \n",
       "0          2              0              1           0           0           1  \n",
       "1          2              0              1           1           0           0  \n",
       "2          1              0              1           0           0           1  \n",
       "3          2              0              1           0           0           1  \n",
       "4          1              0              1           0           0           1  \n",
       "...      ...            ...            ...         ...         ...         ...  \n",
       "1294       1              0              1           0           0           1  \n",
       "1295       1              0              1           1           0           0  \n",
       "1296       1              0              1           0           0           1  \n",
       "1297       1              0              1           0           0           1  \n",
       "1298       3              0              1           1           0           0  \n",
       "\n",
       "[1299 rows x 20 columns]"
      ]
     },
     "execution_count": 70,
     "metadata": {},
     "output_type": "execute_result"
    }
   ],
   "source": [
    "train_df"
   ]
  },
  {
   "cell_type": "markdown",
   "metadata": {},
   "source": [
    "<a id=7.4> </a>\n",
    "## D) Ticket"
   ]
  },
  {
   "cell_type": "code",
   "execution_count": 71,
   "metadata": {},
   "outputs": [
    {
     "data": {
      "text/plain": [
       "0           A/5 21171\n",
       "1            PC 17599\n",
       "2    STON/O2. 3101282\n",
       "3              113803\n",
       "4              373450\n",
       "5              330877\n",
       "6               17463\n",
       "7              349909\n",
       "8              347742\n",
       "9              237736\n",
       "Name: Ticket, dtype: object"
      ]
     },
     "execution_count": 71,
     "metadata": {},
     "output_type": "execute_result"
    }
   ],
   "source": [
    "train_df[\"Ticket\"].head(10)"
   ]
  },
  {
   "cell_type": "code",
   "execution_count": 72,
   "metadata": {},
   "outputs": [],
   "source": [
    "train_df[\"Ticket\"]= [i.replace(\"/\",\"\").replace(\".\",\"\").strip().split()[0] if not i.isdigit() else i.replace(i,\"x\") for i in train_df[\"Ticket\"]]"
   ]
  },
  {
   "cell_type": "code",
   "execution_count": 73,
   "metadata": {},
   "outputs": [
    {
     "data": {
      "text/plain": [
       "0        A5\n",
       "1        PC\n",
       "2    STONO2\n",
       "3         x\n",
       "4         x\n",
       "5         x\n",
       "6         x\n",
       "7         x\n",
       "8         x\n",
       "9         x\n",
       "Name: Ticket, dtype: object"
      ]
     },
     "execution_count": 73,
     "metadata": {},
     "output_type": "execute_result"
    }
   ],
   "source": [
    "train_df[\"Ticket\"].head(10)"
   ]
  },
  {
   "cell_type": "code",
   "execution_count": 74,
   "metadata": {},
   "outputs": [],
   "source": [
    "train_df=pd.get_dummies(train_df,columns=[\"Ticket\"],prefix=\"T\")\n",
    "# Prefix for shortcute name"
   ]
  },
  {
   "cell_type": "code",
   "execution_count": 75,
   "metadata": {},
   "outputs": [
    {
     "data": {
      "text/html": [
       "<div>\n",
       "<style scoped>\n",
       "    .dataframe tbody tr th:only-of-type {\n",
       "        vertical-align: middle;\n",
       "    }\n",
       "\n",
       "    .dataframe tbody tr th {\n",
       "        vertical-align: top;\n",
       "    }\n",
       "\n",
       "    .dataframe thead th {\n",
       "        text-align: right;\n",
       "    }\n",
       "</style>\n",
       "<table border=\"1\" class=\"dataframe\">\n",
       "  <thead>\n",
       "    <tr style=\"text-align: right;\">\n",
       "      <th></th>\n",
       "      <th>Age</th>\n",
       "      <th>Cabin</th>\n",
       "      <th>Fare</th>\n",
       "      <th>Parch</th>\n",
       "      <th>PassengerId</th>\n",
       "      <th>Pclass</th>\n",
       "      <th>Sex</th>\n",
       "      <th>SibSp</th>\n",
       "      <th>Survived</th>\n",
       "      <th>Title_0</th>\n",
       "      <th>...</th>\n",
       "      <th>T_SOTONO2</th>\n",
       "      <th>T_SOTONOQ</th>\n",
       "      <th>T_SP</th>\n",
       "      <th>T_STONO</th>\n",
       "      <th>T_STONO2</th>\n",
       "      <th>T_STONOQ</th>\n",
       "      <th>T_SWPP</th>\n",
       "      <th>T_WC</th>\n",
       "      <th>T_WEP</th>\n",
       "      <th>T_x</th>\n",
       "    </tr>\n",
       "  </thead>\n",
       "  <tbody>\n",
       "    <tr>\n",
       "      <td>0</td>\n",
       "      <td>22.0</td>\n",
       "      <td>NaN</td>\n",
       "      <td>7.2500</td>\n",
       "      <td>0</td>\n",
       "      <td>1</td>\n",
       "      <td>3</td>\n",
       "      <td>male</td>\n",
       "      <td>1</td>\n",
       "      <td>0.0</td>\n",
       "      <td>1</td>\n",
       "      <td>...</td>\n",
       "      <td>0</td>\n",
       "      <td>0</td>\n",
       "      <td>0</td>\n",
       "      <td>0</td>\n",
       "      <td>0</td>\n",
       "      <td>0</td>\n",
       "      <td>0</td>\n",
       "      <td>0</td>\n",
       "      <td>0</td>\n",
       "      <td>0</td>\n",
       "    </tr>\n",
       "    <tr>\n",
       "      <td>1</td>\n",
       "      <td>38.0</td>\n",
       "      <td>C85</td>\n",
       "      <td>71.2833</td>\n",
       "      <td>0</td>\n",
       "      <td>2</td>\n",
       "      <td>1</td>\n",
       "      <td>female</td>\n",
       "      <td>1</td>\n",
       "      <td>1.0</td>\n",
       "      <td>0</td>\n",
       "      <td>...</td>\n",
       "      <td>0</td>\n",
       "      <td>0</td>\n",
       "      <td>0</td>\n",
       "      <td>0</td>\n",
       "      <td>0</td>\n",
       "      <td>0</td>\n",
       "      <td>0</td>\n",
       "      <td>0</td>\n",
       "      <td>0</td>\n",
       "      <td>0</td>\n",
       "    </tr>\n",
       "    <tr>\n",
       "      <td>2</td>\n",
       "      <td>26.0</td>\n",
       "      <td>NaN</td>\n",
       "      <td>7.9250</td>\n",
       "      <td>0</td>\n",
       "      <td>3</td>\n",
       "      <td>3</td>\n",
       "      <td>female</td>\n",
       "      <td>0</td>\n",
       "      <td>1.0</td>\n",
       "      <td>0</td>\n",
       "      <td>...</td>\n",
       "      <td>0</td>\n",
       "      <td>0</td>\n",
       "      <td>0</td>\n",
       "      <td>0</td>\n",
       "      <td>1</td>\n",
       "      <td>0</td>\n",
       "      <td>0</td>\n",
       "      <td>0</td>\n",
       "      <td>0</td>\n",
       "      <td>0</td>\n",
       "    </tr>\n",
       "    <tr>\n",
       "      <td>3</td>\n",
       "      <td>35.0</td>\n",
       "      <td>C123</td>\n",
       "      <td>53.1000</td>\n",
       "      <td>0</td>\n",
       "      <td>4</td>\n",
       "      <td>1</td>\n",
       "      <td>female</td>\n",
       "      <td>1</td>\n",
       "      <td>1.0</td>\n",
       "      <td>0</td>\n",
       "      <td>...</td>\n",
       "      <td>0</td>\n",
       "      <td>0</td>\n",
       "      <td>0</td>\n",
       "      <td>0</td>\n",
       "      <td>0</td>\n",
       "      <td>0</td>\n",
       "      <td>0</td>\n",
       "      <td>0</td>\n",
       "      <td>0</td>\n",
       "      <td>1</td>\n",
       "    </tr>\n",
       "    <tr>\n",
       "      <td>4</td>\n",
       "      <td>35.0</td>\n",
       "      <td>NaN</td>\n",
       "      <td>8.0500</td>\n",
       "      <td>0</td>\n",
       "      <td>5</td>\n",
       "      <td>3</td>\n",
       "      <td>male</td>\n",
       "      <td>0</td>\n",
       "      <td>0.0</td>\n",
       "      <td>1</td>\n",
       "      <td>...</td>\n",
       "      <td>0</td>\n",
       "      <td>0</td>\n",
       "      <td>0</td>\n",
       "      <td>0</td>\n",
       "      <td>0</td>\n",
       "      <td>0</td>\n",
       "      <td>0</td>\n",
       "      <td>0</td>\n",
       "      <td>0</td>\n",
       "      <td>1</td>\n",
       "    </tr>\n",
       "    <tr>\n",
       "      <td>...</td>\n",
       "      <td>...</td>\n",
       "      <td>...</td>\n",
       "      <td>...</td>\n",
       "      <td>...</td>\n",
       "      <td>...</td>\n",
       "      <td>...</td>\n",
       "      <td>...</td>\n",
       "      <td>...</td>\n",
       "      <td>...</td>\n",
       "      <td>...</td>\n",
       "      <td>...</td>\n",
       "      <td>...</td>\n",
       "      <td>...</td>\n",
       "      <td>...</td>\n",
       "      <td>...</td>\n",
       "      <td>...</td>\n",
       "      <td>...</td>\n",
       "      <td>...</td>\n",
       "      <td>...</td>\n",
       "      <td>...</td>\n",
       "      <td>...</td>\n",
       "    </tr>\n",
       "    <tr>\n",
       "      <td>1294</td>\n",
       "      <td>25.0</td>\n",
       "      <td>NaN</td>\n",
       "      <td>8.0500</td>\n",
       "      <td>0</td>\n",
       "      <td>1305</td>\n",
       "      <td>3</td>\n",
       "      <td>male</td>\n",
       "      <td>0</td>\n",
       "      <td>NaN</td>\n",
       "      <td>1</td>\n",
       "      <td>...</td>\n",
       "      <td>0</td>\n",
       "      <td>0</td>\n",
       "      <td>0</td>\n",
       "      <td>0</td>\n",
       "      <td>0</td>\n",
       "      <td>0</td>\n",
       "      <td>0</td>\n",
       "      <td>0</td>\n",
       "      <td>0</td>\n",
       "      <td>0</td>\n",
       "    </tr>\n",
       "    <tr>\n",
       "      <td>1295</td>\n",
       "      <td>39.0</td>\n",
       "      <td>C105</td>\n",
       "      <td>108.9000</td>\n",
       "      <td>0</td>\n",
       "      <td>1306</td>\n",
       "      <td>1</td>\n",
       "      <td>female</td>\n",
       "      <td>0</td>\n",
       "      <td>NaN</td>\n",
       "      <td>0</td>\n",
       "      <td>...</td>\n",
       "      <td>0</td>\n",
       "      <td>0</td>\n",
       "      <td>0</td>\n",
       "      <td>0</td>\n",
       "      <td>0</td>\n",
       "      <td>0</td>\n",
       "      <td>0</td>\n",
       "      <td>0</td>\n",
       "      <td>0</td>\n",
       "      <td>0</td>\n",
       "    </tr>\n",
       "    <tr>\n",
       "      <td>1296</td>\n",
       "      <td>38.5</td>\n",
       "      <td>NaN</td>\n",
       "      <td>7.2500</td>\n",
       "      <td>0</td>\n",
       "      <td>1307</td>\n",
       "      <td>3</td>\n",
       "      <td>male</td>\n",
       "      <td>0</td>\n",
       "      <td>NaN</td>\n",
       "      <td>1</td>\n",
       "      <td>...</td>\n",
       "      <td>0</td>\n",
       "      <td>1</td>\n",
       "      <td>0</td>\n",
       "      <td>0</td>\n",
       "      <td>0</td>\n",
       "      <td>0</td>\n",
       "      <td>0</td>\n",
       "      <td>0</td>\n",
       "      <td>0</td>\n",
       "      <td>0</td>\n",
       "    </tr>\n",
       "    <tr>\n",
       "      <td>1297</td>\n",
       "      <td>25.0</td>\n",
       "      <td>NaN</td>\n",
       "      <td>8.0500</td>\n",
       "      <td>0</td>\n",
       "      <td>1308</td>\n",
       "      <td>3</td>\n",
       "      <td>male</td>\n",
       "      <td>0</td>\n",
       "      <td>NaN</td>\n",
       "      <td>1</td>\n",
       "      <td>...</td>\n",
       "      <td>0</td>\n",
       "      <td>0</td>\n",
       "      <td>0</td>\n",
       "      <td>0</td>\n",
       "      <td>0</td>\n",
       "      <td>0</td>\n",
       "      <td>0</td>\n",
       "      <td>0</td>\n",
       "      <td>0</td>\n",
       "      <td>1</td>\n",
       "    </tr>\n",
       "    <tr>\n",
       "      <td>1298</td>\n",
       "      <td>16.0</td>\n",
       "      <td>NaN</td>\n",
       "      <td>22.3583</td>\n",
       "      <td>1</td>\n",
       "      <td>1309</td>\n",
       "      <td>3</td>\n",
       "      <td>male</td>\n",
       "      <td>1</td>\n",
       "      <td>NaN</td>\n",
       "      <td>0</td>\n",
       "      <td>...</td>\n",
       "      <td>0</td>\n",
       "      <td>0</td>\n",
       "      <td>0</td>\n",
       "      <td>0</td>\n",
       "      <td>0</td>\n",
       "      <td>0</td>\n",
       "      <td>0</td>\n",
       "      <td>0</td>\n",
       "      <td>0</td>\n",
       "      <td>1</td>\n",
       "    </tr>\n",
       "  </tbody>\n",
       "</table>\n",
       "<p>1299 rows × 56 columns</p>\n",
       "</div>"
      ],
      "text/plain": [
       "       Age Cabin      Fare  Parch  PassengerId  Pclass     Sex  SibSp  \\\n",
       "0     22.0   NaN    7.2500      0            1       3    male      1   \n",
       "1     38.0   C85   71.2833      0            2       1  female      1   \n",
       "2     26.0   NaN    7.9250      0            3       3  female      0   \n",
       "3     35.0  C123   53.1000      0            4       1  female      1   \n",
       "4     35.0   NaN    8.0500      0            5       3    male      0   \n",
       "...    ...   ...       ...    ...          ...     ...     ...    ...   \n",
       "1294  25.0   NaN    8.0500      0         1305       3    male      0   \n",
       "1295  39.0  C105  108.9000      0         1306       1  female      0   \n",
       "1296  38.5   NaN    7.2500      0         1307       3    male      0   \n",
       "1297  25.0   NaN    8.0500      0         1308       3    male      0   \n",
       "1298  16.0   NaN   22.3583      1         1309       3    male      1   \n",
       "\n",
       "      Survived  Title_0  ...  T_SOTONO2  T_SOTONOQ  T_SP  T_STONO  T_STONO2  \\\n",
       "0          0.0        1  ...          0          0     0        0         0   \n",
       "1          1.0        0  ...          0          0     0        0         0   \n",
       "2          1.0        0  ...          0          0     0        0         1   \n",
       "3          1.0        0  ...          0          0     0        0         0   \n",
       "4          0.0        1  ...          0          0     0        0         0   \n",
       "...        ...      ...  ...        ...        ...   ...      ...       ...   \n",
       "1294       NaN        1  ...          0          0     0        0         0   \n",
       "1295       NaN        0  ...          0          0     0        0         0   \n",
       "1296       NaN        1  ...          0          1     0        0         0   \n",
       "1297       NaN        1  ...          0          0     0        0         0   \n",
       "1298       NaN        0  ...          0          0     0        0         0   \n",
       "\n",
       "      T_STONOQ  T_SWPP  T_WC  T_WEP  T_x  \n",
       "0            0       0     0      0    0  \n",
       "1            0       0     0      0    0  \n",
       "2            0       0     0      0    0  \n",
       "3            0       0     0      0    1  \n",
       "4            0       0     0      0    1  \n",
       "...        ...     ...   ...    ...  ...  \n",
       "1294         0       0     0      0    0  \n",
       "1295         0       0     0      0    0  \n",
       "1296         0       0     0      0    0  \n",
       "1297         0       0     0      0    1  \n",
       "1298         0       0     0      0    1  \n",
       "\n",
       "[1299 rows x 56 columns]"
      ]
     },
     "execution_count": 75,
     "metadata": {},
     "output_type": "execute_result"
    }
   ],
   "source": [
    "train_df"
   ]
  },
  {
   "cell_type": "markdown",
   "metadata": {},
   "source": [
    "<a id=7.5> </a>\n",
    "#  E)  Pclass"
   ]
  },
  {
   "cell_type": "code",
   "execution_count": 76,
   "metadata": {},
   "outputs": [
    {
     "data": {
      "image/png": "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\n",
      "text/plain": [
       "<Figure size 432x288 with 1 Axes>"
      ]
     },
     "metadata": {
      "needs_background": "light"
     },
     "output_type": "display_data"
    }
   ],
   "source": [
    "sns.countplot(x=\"Pclass\",data=train_df)\n",
    "plt.show()"
   ]
  },
  {
   "cell_type": "code",
   "execution_count": 77,
   "metadata": {},
   "outputs": [
    {
     "data": {
      "text/html": [
       "<div>\n",
       "<style scoped>\n",
       "    .dataframe tbody tr th:only-of-type {\n",
       "        vertical-align: middle;\n",
       "    }\n",
       "\n",
       "    .dataframe tbody tr th {\n",
       "        vertical-align: top;\n",
       "    }\n",
       "\n",
       "    .dataframe thead th {\n",
       "        text-align: right;\n",
       "    }\n",
       "</style>\n",
       "<table border=\"1\" class=\"dataframe\">\n",
       "  <thead>\n",
       "    <tr style=\"text-align: right;\">\n",
       "      <th></th>\n",
       "      <th>Age</th>\n",
       "      <th>Cabin</th>\n",
       "      <th>Fare</th>\n",
       "      <th>Parch</th>\n",
       "      <th>PassengerId</th>\n",
       "      <th>Sex</th>\n",
       "      <th>SibSp</th>\n",
       "      <th>Survived</th>\n",
       "      <th>Title_0</th>\n",
       "      <th>Title_1</th>\n",
       "      <th>...</th>\n",
       "      <th>T_STONO</th>\n",
       "      <th>T_STONO2</th>\n",
       "      <th>T_STONOQ</th>\n",
       "      <th>T_SWPP</th>\n",
       "      <th>T_WC</th>\n",
       "      <th>T_WEP</th>\n",
       "      <th>T_x</th>\n",
       "      <th>Pclass_1</th>\n",
       "      <th>Pclass_2</th>\n",
       "      <th>Pclass_3</th>\n",
       "    </tr>\n",
       "  </thead>\n",
       "  <tbody>\n",
       "    <tr>\n",
       "      <td>0</td>\n",
       "      <td>22.0</td>\n",
       "      <td>NaN</td>\n",
       "      <td>7.2500</td>\n",
       "      <td>0</td>\n",
       "      <td>1</td>\n",
       "      <td>male</td>\n",
       "      <td>1</td>\n",
       "      <td>0.0</td>\n",
       "      <td>1</td>\n",
       "      <td>0</td>\n",
       "      <td>...</td>\n",
       "      <td>0</td>\n",
       "      <td>0</td>\n",
       "      <td>0</td>\n",
       "      <td>0</td>\n",
       "      <td>0</td>\n",
       "      <td>0</td>\n",
       "      <td>0</td>\n",
       "      <td>0</td>\n",
       "      <td>0</td>\n",
       "      <td>1</td>\n",
       "    </tr>\n",
       "    <tr>\n",
       "      <td>1</td>\n",
       "      <td>38.0</td>\n",
       "      <td>C85</td>\n",
       "      <td>71.2833</td>\n",
       "      <td>0</td>\n",
       "      <td>2</td>\n",
       "      <td>female</td>\n",
       "      <td>1</td>\n",
       "      <td>1.0</td>\n",
       "      <td>0</td>\n",
       "      <td>1</td>\n",
       "      <td>...</td>\n",
       "      <td>0</td>\n",
       "      <td>0</td>\n",
       "      <td>0</td>\n",
       "      <td>0</td>\n",
       "      <td>0</td>\n",
       "      <td>0</td>\n",
       "      <td>0</td>\n",
       "      <td>1</td>\n",
       "      <td>0</td>\n",
       "   
